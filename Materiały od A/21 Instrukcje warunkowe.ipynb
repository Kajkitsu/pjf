{
 "cells": [
  {
   "cell_type": "markdown",
   "id": "aad30222",
   "metadata": {},
   "source": [
    "# Instrukcje\n",
    "\n",
    "W Pythonie nie kończy się linii za pomocą średnika.\n",
    "\n",
    "Występuje również inne sterowanie zakresem - nie ma klasycznych nawiasów klamrowych { }, a stosuje się wcięcia."
   ]
  },
  {
   "cell_type": "markdown",
   "id": "0befe0d4",
   "metadata": {},
   "source": [
    "## Instrukcje warunkowe\n",
    "\n",
    "if, if-else, if-elif-else."
   ]
  },
  {
   "cell_type": "code",
   "execution_count": null,
   "id": "7abfbdc8",
   "metadata": {},
   "outputs": [],
   "source": [
    "a = 12\n",
    "if a > 10:\n",
    "    print(\"Liczba jest większa od 10\")\n",
    "\n",
    "a = 12\n",
    "if a > 20:\n",
    "    print(\"Liczba jest większa od 20\")\n",
    "else:\n",
    "    print(\"Liczba jest mniejsza od 20\")\n",
    "\n",
    "a = 1\n",
    "if a > 12:\n",
    "    print(\"Liczba jest większa od 12\")\n",
    "elif a < 12:\n",
    "    print(\"Liczba jest mniejsza od 12\")\n",
    "else:\n",
    "    print(\"Liczba jest równa 12\")\n",
    "\n",
    "a = 12\n",
    "b = 7\n",
    "if a == 12 and b == 7:\n",
    "    print(\"Liczby zgodne z oczekiwaniem\")\n",
    "elif a != 12 and b == 7:\n",
    "    print(\"Liczba a niezgodna z oczekiwaniem, liczba b jest poprawna\")\n",
    "elif a == 12 and b != 7:\n",
    "    print(\"Liczba a jest poprawna, liczba b jest niezgodna z oczekiwaniem\")\n",
    "else:\n",
    "    print(\"Liczby a i b są niezgodne z oczekiwaniem\")\n"
   ]
  }
 ],
 "metadata": {},
 "nbformat": 4,
 "nbformat_minor": 5
}
