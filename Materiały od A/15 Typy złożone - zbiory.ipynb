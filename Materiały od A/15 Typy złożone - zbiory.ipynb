{
 "cells": [
  {
   "cell_type": "markdown",
   "source": [
    "# Zbiory\n",
    "Podobnie jak w C++ zbiory (set) przechowują (po prostu) zbiory, czyli zestaw haszowalnych, unikalnych wartości.\n",
    "Cechy zbioru (set)\n",
    "1. jest to kolekcja nieuporządkowana\n",
    "2. jest to kolekcja niemodyﬁkowalna\n",
    "3. brak możliwości przechowywania duplikatów"
   ],
   "metadata": {
    "collapsed": false
   },
   "id": "24a9cf27b6194f34"
  },
  {
   "cell_type": "code",
   "outputs": [
    {
     "name": "stdout",
     "output_type": "stream",
     "text": [
      "mySet1 to jest <class 'set'> o rozmiarze 4 i zawiera {'Bugatti', 'Ferrari', 'Seat', 'Renault'}\n",
      "mySet2 to jest <class 'set'> o rozmiarze 2 i zawiera {'Jaguar', 'Rover'}\n"
     ]
    }
   ],
   "source": [
    "mySet1 = {'Ferrari', 'Bugatti', 'Renault', \"Seat\"}\n",
    "mySet2 = set(('Rover', 'Jaguar'))\n",
    "print(f\"mySet1 to jest {type(mySet1)} o rozmiarze {len(mySet1)} i zawiera {mySet1}\")\n",
    "print(f\"mySet2 to jest {type(mySet2)} o rozmiarze {len(mySet2)} i zawiera {mySet2}\")"
   ],
   "metadata": {
    "collapsed": false,
    "ExecuteTime": {
     "end_time": "2024-04-10T08:27:15.646668588Z",
     "start_time": "2024-04-10T08:27:15.560345551Z"
    }
   },
   "id": "bc688b14e3703124",
   "execution_count": 17
  },
  {
   "cell_type": "markdown",
   "source": [
    "### Dostęp do elementów zbioru"
   ],
   "metadata": {
    "collapsed": false
   },
   "id": "a0d558652bf585ca"
  },
  {
   "cell_type": "code",
   "outputs": [
    {
     "name": "stdout",
     "output_type": "stream",
     "text": [
      "Bugatti\n",
      "Ferrari\n",
      "Seat\n",
      "Renault\n"
     ]
    }
   ],
   "source": [
    "mySet1 = {'Ferrari', 'Bugatti', 'Renault', \"Seat\"}\n",
    "for x in mySet1:\n",
    "    print(x)"
   ],
   "metadata": {
    "collapsed": false,
    "ExecuteTime": {
     "end_time": "2024-04-10T08:27:15.650169692Z",
     "start_time": "2024-04-10T08:27:15.635660289Z"
    }
   },
   "id": "b52cc68922f66231",
   "execution_count": 18
  },
  {
   "cell_type": "markdown",
   "source": [
    "### Sprawdzenie, czy element występuje w zbiorze"
   ],
   "metadata": {
    "collapsed": false
   },
   "id": "a10f88905e5bdf05"
  },
  {
   "cell_type": "code",
   "outputs": [
    {
     "name": "stdout",
     "output_type": "stream",
     "text": [
      "True\n",
      "False\n"
     ]
    }
   ],
   "source": [
    "mySet1 = {'Ferrari', 'Bugatti', 'Renault', \"Seat\"}\n",
    "print('Seat' in mySet1)\n",
    "print('Jaguar' in mySet1)"
   ],
   "metadata": {
    "collapsed": false,
    "ExecuteTime": {
     "end_time": "2024-04-10T08:27:15.690264720Z",
     "start_time": "2024-04-10T08:27:15.652553242Z"
    }
   },
   "id": "bc4faaa79b3b14ec",
   "execution_count": 19
  },
  {
   "cell_type": "markdown",
   "source": [
    "### Dodanie elementu do zbioru\n",
    "mySet.add()"
   ],
   "metadata": {
    "collapsed": false
   },
   "id": "78d95b88d12cb547"
  },
  {
   "cell_type": "code",
   "outputs": [
    {
     "name": "stdout",
     "output_type": "stream",
     "text": [
      "{'Bugatti', 'Ferrari', 'Seat', 'Renault'}\n",
      "{'Seat', 'Renault', 'Jaguar', 'Bugatti', 'Ferrari'}\n"
     ]
    }
   ],
   "source": [
    "mySet1 = {'Ferrari', 'Bugatti', 'Renault', \"Seat\"}\n",
    "print(mySet1)\n",
    "mySet1.add('Jaguar')\n",
    "print(mySet1)"
   ],
   "metadata": {
    "collapsed": false,
    "ExecuteTime": {
     "end_time": "2024-04-10T08:27:15.691143417Z",
     "start_time": "2024-04-10T08:27:15.689001988Z"
    }
   },
   "id": "aa12638e40498aae",
   "execution_count": 20
  },
  {
   "cell_type": "markdown",
   "source": [
    "### Dodawanie elementów innego zbioru\n",
    "mySet.update()"
   ],
   "metadata": {
    "collapsed": false
   },
   "id": "5d17f14a0fe808a4"
  },
  {
   "cell_type": "code",
   "outputs": [
    {
     "name": "stdout",
     "output_type": "stream",
     "text": [
      "{'Bugatti', 'Ferrari', 'Seat', 'Renault'}\n",
      "{'Bugatti', 'Rover', 'Ferrari', 'Seat', 'Renault', 'Jaguar'}\n"
     ]
    }
   ],
   "source": [
    "mySet1 = {'Ferrari', 'Bugatti', 'Renault', \"Seat\"}\n",
    "mySet2 = {'Rover', 'Jaguar'}\n",
    "print(mySet1)\n",
    "mySet1.update(mySet2)\n",
    "print(mySet1)"
   ],
   "metadata": {
    "collapsed": false,
    "ExecuteTime": {
     "end_time": "2024-04-10T08:27:15.691282737Z",
     "start_time": "2024-04-10T08:27:15.689106895Z"
    }
   },
   "id": "2b4f8a0b8855143",
   "execution_count": 21
  },
  {
   "cell_type": "markdown",
   "source": [
    "mySet1.union(mySet1)"
   ],
   "metadata": {
    "collapsed": false
   },
   "id": "5732df4dcdc080d8"
  },
  {
   "cell_type": "code",
   "outputs": [
    {
     "name": "stdout",
     "output_type": "stream",
     "text": [
      "{'Bugatti', 'Rover', 'Ferrari', 'Seat', 'Renault', 'Jaguar'}\n"
     ]
    }
   ],
   "source": [
    "mySet1 = {'Ferrari', 'Bugatti', 'Renault', \"Seat\"}\n",
    "mySet2 = {'Rover', 'Jaguar'}\n",
    "mySet3 = mySet1.union(mySet2)\n",
    "print(mySet3)"
   ],
   "metadata": {
    "collapsed": false,
    "ExecuteTime": {
     "end_time": "2024-04-10T08:27:15.776260632Z",
     "start_time": "2024-04-10T08:27:15.692038808Z"
    }
   },
   "id": "227c7e84e219c716",
   "execution_count": 22
  },
  {
   "cell_type": "markdown",
   "source": [
    "Usuwanie duplikatów przy łączeniu zbiorów"
   ],
   "metadata": {
    "collapsed": false
   },
   "id": "bc3f128ea6bb4c2b"
  },
  {
   "cell_type": "code",
   "outputs": [
    {
     "name": "stdout",
     "output_type": "stream",
     "text": [
      "{'Bugatti', 'Rover', 'Ferrari', 'Seat', 'Renault', 'Jaguar'}\n"
     ]
    }
   ],
   "source": [
    "mySet1 = {'Ferrari', 'Bugatti', 'Renault', \"Seat\"}\n",
    "mySet2 = {'Rover', 'Jaguar', 'Ferrari'}\n",
    "mySet3 = mySet1.union(mySet2)\n",
    "print(mySet3)"
   ],
   "metadata": {
    "collapsed": false,
    "ExecuteTime": {
     "end_time": "2024-04-10T08:27:15.777165442Z",
     "start_time": "2024-04-10T08:27:15.711752615Z"
    }
   },
   "id": "ec84de615145f497",
   "execution_count": 23
  },
  {
   "cell_type": "markdown",
   "source": [
    "### Usuwanie elementów ze zbioru\n",
    "    mySet.remove()\n",
    "lub \n",
    "    mySet.discard()\n",
    "Można korzystać z metody:\n",
    "    mySet.pop() \n",
    ", lecz ze względu na nieuporządkowanie zbioru nie mamy żadnej pewności który jego element zostanie usunięty - **nie zalecane**"
   ],
   "metadata": {
    "collapsed": false
   },
   "id": "960cc1108414a36b"
  },
  {
   "cell_type": "code",
   "outputs": [
    {
     "name": "stdout",
     "output_type": "stream",
     "text": [
      "{'Ferrari', 'Seat', 'Renault'}\n",
      "{'Ferrari', 'Renault'}\n"
     ]
    }
   ],
   "source": [
    "mySet1 = {'Ferrari', 'Bugatti', 'Renault', \"Seat\"}\n",
    "mySet1.remove('Bugatti')\n",
    "print(mySet1)\n",
    "mySet1.discard('Seat')\n",
    "print(mySet1)"
   ],
   "metadata": {
    "collapsed": false,
    "ExecuteTime": {
     "end_time": "2024-04-10T08:27:15.821487023Z",
     "start_time": "2024-04-10T08:27:15.711860280Z"
    }
   },
   "id": "709bce2244a8835b",
   "execution_count": 24
  },
  {
   "cell_type": "markdown",
   "source": [
    "### Czyszczenie zbioru\n",
    "mySet.clear()"
   ],
   "metadata": {
    "collapsed": false
   },
   "id": "9ea5de19d68aa194"
  },
  {
   "cell_type": "code",
   "outputs": [
    {
     "name": "stdout",
     "output_type": "stream",
     "text": [
      "set()\n"
     ]
    }
   ],
   "source": [
    "mySet1 = {'Ferrari', 'Bugatti', 'Renault', \"Seat\"}\n",
    "mySet1.clear()\n",
    "print(mySet1)"
   ],
   "metadata": {
    "collapsed": false,
    "ExecuteTime": {
     "end_time": "2024-04-10T08:27:15.822611225Z",
     "start_time": "2024-04-10T08:27:15.755616206Z"
    }
   },
   "id": "174b1fbb5d3dd7ed",
   "execution_count": 25
  },
  {
   "cell_type": "markdown",
   "source": [
    "del - słowo kluczowe, powoduje usunięcie całego słownika"
   ],
   "metadata": {
    "collapsed": false
   },
   "id": "bae87423e329a17b"
  },
  {
   "cell_type": "code",
   "outputs": [],
   "source": [
    "mySet1 = {'Ferrari', 'Bugatti', 'Renault', \"Seat\"}\n",
    "del mySet1\n",
    "#print(mySet1)\n",
    "#spowoduje rzucenie wyjątku"
   ],
   "metadata": {
    "collapsed": false,
    "ExecuteTime": {
     "end_time": "2024-04-10T08:27:15.881776657Z",
     "start_time": "2024-04-10T08:27:15.781380838Z"
    }
   },
   "id": "b942f8572fa489",
   "execution_count": 26
  },
  {
   "cell_type": "markdown",
   "source": [
    "### Część wspólna zbiorów\n",
    "mySet1.intersection_update(mySet2)"
   ],
   "metadata": {
    "collapsed": false
   },
   "id": "6a7aaff453fb485c"
  },
  {
   "cell_type": "code",
   "outputs": [
    {
     "name": "stdout",
     "output_type": "stream",
     "text": [
      "{'Ferrari'}\n"
     ]
    }
   ],
   "source": [
    "mySet1 = {'Ferrari', 'Bugatti', 'Renault', \"Seat\"}\n",
    "mySet2 = {'Rover', 'Jaguar', 'Ferrari'}\n",
    "mySet1.intersection_update(mySet2)\n",
    "print(mySet1)"
   ],
   "metadata": {
    "collapsed": false,
    "ExecuteTime": {
     "end_time": "2024-04-10T08:27:15.883730146Z",
     "start_time": "2024-04-10T08:27:15.830001128Z"
    }
   },
   "id": "9b72fd63186a7700",
   "execution_count": 27
  },
  {
   "cell_type": "markdown",
   "source": [
    "Operator &"
   ],
   "metadata": {
    "collapsed": false
   },
   "id": "433a3d147d802408"
  },
  {
   "cell_type": "code",
   "outputs": [
    {
     "name": "stdout",
     "output_type": "stream",
     "text": [
      "{'Ferrari'}\n"
     ]
    }
   ],
   "source": [
    "mySet1 = {'Ferrari', 'Bugatti', 'Renault', \"Seat\"}\n",
    "mySet2 = {'Rover', 'Jaguar', 'Ferrari'}\n",
    "print(mySet1 & mySet2)"
   ],
   "metadata": {
    "collapsed": false,
    "ExecuteTime": {
     "end_time": "2024-04-10T08:27:15.901462795Z",
     "start_time": "2024-04-10T08:27:15.886313899Z"
    }
   },
   "id": "aa0425f720223e76",
   "execution_count": 28
  },
  {
   "cell_type": "markdown",
   "source": [
    "mySet1.intersection(mySet2)"
   ],
   "metadata": {
    "collapsed": false
   },
   "id": "1820d5b2de525374"
  },
  {
   "cell_type": "code",
   "outputs": [
    {
     "name": "stdout",
     "output_type": "stream",
     "text": [
      "{'Ferrari'}\n"
     ]
    }
   ],
   "source": [
    "mySet1 = {'Ferrari', 'Bugatti', 'Renault', \"Seat\"}\n",
    "mySet2 = {'Rover', 'Jaguar', 'Ferrari'}\n",
    "mySet3 = mySet1.intersection(mySet2)\n",
    "print(mySet3)"
   ],
   "metadata": {
    "collapsed": false,
    "ExecuteTime": {
     "end_time": "2024-04-10T08:27:15.915425007Z",
     "start_time": "2024-04-10T08:27:15.900532476Z"
    }
   },
   "id": "808152c7edb0e644",
   "execution_count": 29
  },
  {
   "cell_type": "markdown",
   "source": [
    "### Różnica symetryczna\n",
    "mySet1.symmetric_difference_update(mySet2)"
   ],
   "metadata": {
    "collapsed": false
   },
   "id": "d904a9930bb13f52"
  },
  {
   "cell_type": "code",
   "outputs": [
    {
     "name": "stdout",
     "output_type": "stream",
     "text": [
      "{'Seat', 'Renault', 'Jaguar', 'Bugatti', 'Rover'}\n"
     ]
    }
   ],
   "source": [
    "mySet1 = {'Ferrari', 'Bugatti', 'Renault', \"Seat\"}\n",
    "mySet2 = {'Rover', 'Jaguar', 'Ferrari'}\n",
    "mySet1.symmetric_difference_update(mySet2)\n",
    "print(mySet1)"
   ],
   "metadata": {
    "collapsed": false,
    "ExecuteTime": {
     "end_time": "2024-04-10T08:27:15.972321702Z",
     "start_time": "2024-04-10T08:27:15.916154166Z"
    }
   },
   "id": "ab879ce2b3091ec7",
   "execution_count": 30
  },
  {
   "cell_type": "markdown",
   "source": [
    "mySet1.symmetric_difference(mySet2)"
   ],
   "metadata": {
    "collapsed": false
   },
   "id": "47e6d2af9b195b29"
  },
  {
   "cell_type": "code",
   "outputs": [
    {
     "name": "stdout",
     "output_type": "stream",
     "text": [
      "{'Seat', 'Renault', 'Jaguar', 'Bugatti', 'Rover'}\n"
     ]
    }
   ],
   "source": [
    "mySet1 = {'Ferrari', 'Bugatti', 'Renault', \"Seat\"}\n",
    "mySet2 = {'Rover', 'Jaguar', 'Ferrari'}\n",
    "mySet3 = mySet1.symmetric_difference(mySet2)\n",
    "print(mySet3)"
   ],
   "metadata": {
    "collapsed": false,
    "ExecuteTime": {
     "end_time": "2024-04-10T08:27:16.000918277Z",
     "start_time": "2024-04-10T08:27:15.916257362Z"
    }
   },
   "id": "ee7874d290319f59",
   "execution_count": 31
  },
  {
   "cell_type": "markdown",
   "source": [
    "Operator ^"
   ],
   "metadata": {
    "collapsed": false
   },
   "id": "d77625279da892a8"
  },
  {
   "cell_type": "code",
   "outputs": [
    {
     "name": "stdout",
     "output_type": "stream",
     "text": [
      "{'Seat', 'Renault', 'Jaguar', 'Bugatti', 'Rover'}\n"
     ]
    }
   ],
   "source": [
    "mySet1 = {'Ferrari', 'Bugatti', 'Renault', \"Seat\"}\n",
    "mySet2 = {'Rover', 'Jaguar', 'Ferrari'}\n",
    "print(mySet1 ^ mySet2)"
   ],
   "metadata": {
    "collapsed": false,
    "ExecuteTime": {
     "end_time": "2024-04-10T08:27:16.001522120Z",
     "start_time": "2024-04-10T08:27:15.963538642Z"
    }
   },
   "id": "2f597e226c05779f",
   "execution_count": 32
  },
  {
   "cell_type": "markdown",
   "source": [
    "### Różnica zbiorów\n",
    "Operator -"
   ],
   "metadata": {
    "collapsed": false
   },
   "id": "bb8f1f9ecb63afe3"
  },
  {
   "cell_type": "code",
   "outputs": [
    {
     "name": "stdout",
     "output_type": "stream",
     "text": [
      "{'Bugatti', 'Seat', 'Renault'}\n",
      "{'Rover', 'Jaguar'}\n"
     ]
    }
   ],
   "source": [
    "mySet1 = {'Ferrari', 'Bugatti', 'Renault', \"Seat\"}\n",
    "mySet2 = {'Rover', 'Jaguar', 'Ferrari'}\n",
    "print(mySet1 - mySet2)\n",
    "print(mySet2 - mySet1)"
   ],
   "metadata": {
    "collapsed": false,
    "ExecuteTime": {
     "end_time": "2024-04-10T08:27:16.042977993Z",
     "start_time": "2024-04-10T08:27:15.975506606Z"
    }
   },
   "id": "536b693252749346",
   "execution_count": 33
  },
  {
   "cell_type": "markdown",
   "source": [
    "### Suma zbiorów\n",
    "Operator |"
   ],
   "metadata": {
    "collapsed": false
   },
   "id": "d21a9a5266b7093e"
  },
  {
   "cell_type": "code",
   "outputs": [
    {
     "name": "stdout",
     "output_type": "stream",
     "text": [
      "{'Bugatti', 'Rover', 'Ferrari', 'Seat', 'Renault', 'Jaguar'}\n"
     ]
    }
   ],
   "source": [
    "mySet1 = {'Ferrari', 'Bugatti', 'Renault', \"Seat\"}\n",
    "mySet2 = {'Rover', 'Jaguar', 'Ferrari'}\n",
    "print(mySet1 | mySet2)"
   ],
   "metadata": {
    "collapsed": false,
    "ExecuteTime": {
     "end_time": "2024-04-10T08:27:16.045597175Z",
     "start_time": "2024-04-10T08:27:16.043409310Z"
    }
   },
   "id": "2b0a68f359434b91",
   "execution_count": 34
  },
  {
   "cell_type": "markdown",
   "source": [
    "### Porównywanie zbiorów"
   ],
   "metadata": {
    "collapsed": false
   },
   "id": "c374b6aa758fff2c"
  },
  {
   "cell_type": "code",
   "outputs": [
    {
     "name": "stdout",
     "output_type": "stream",
     "text": [
      "False\n",
      "True\n",
      "True\n",
      "False\n",
      "True\n"
     ]
    }
   ],
   "source": [
    "mySet1 = {1, 2, 3, 4, 5}\n",
    "mySet2 = {3, 4}\n",
    "mySet3 = {0, 1, 2, 3, 4, 5, 6, 7}\n",
    "print(mySet1 == mySet2)\n",
    "print(mySet1 >= mySet2)\n",
    "print(mySet2 <= mySet3)\n",
    "print(9 in mySet3)\n",
    "print(7 in mySet3)"
   ],
   "metadata": {
    "collapsed": false,
    "ExecuteTime": {
     "end_time": "2024-04-10T08:27:16.088433590Z",
     "start_time": "2024-04-10T08:27:16.087475188Z"
    }
   },
   "id": "4c42007dc2f88e04",
   "execution_count": 35
  }
 ],
 "metadata": {
  "kernelspec": {
   "display_name": "Python 3",
   "language": "python",
   "name": "python3"
  },
  "language_info": {
   "codemirror_mode": {
    "name": "ipython",
    "version": 2
   },
   "file_extension": ".py",
   "mimetype": "text/x-python",
   "name": "python",
   "nbconvert_exporter": "python",
   "pygments_lexer": "ipython2",
   "version": "2.7.6"
  }
 },
 "nbformat": 4,
 "nbformat_minor": 5
}
