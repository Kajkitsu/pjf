{
 "cells": [
  {
   "cell_type": "markdown",
   "source": [
    "# Mechanizm comprehension\n",
    "Język Python dąży do minimalizacji użycia pętli, zarówno z powodu chęci zachowania reguł\n",
    "paradygmatu funkcyjnego jak i z powodów wydajności, gdyż pętla for w Pythonie jest bardzo\n",
    "wolna. W tej części poznamy podstawowe mechanizmy pozwalające uniknąć stosowania pętli.\n",
    "\n",
    "Mechanizm comprehension pozwala na “zwinięcie” pętli w wyrażenie oparte o znaną już strukturę\n",
    "danych - listę lub słownik."
   ],
   "metadata": {
    "collapsed": false
   },
   "id": "768b58ccda6ac863"
  },
  {
   "cell_type": "markdown",
   "source": [
    "## List comprehension\n",
    "List comprehension pozwala na utworzenie listy za pomocą wyrażenia definiującego regułę dla\n",
    "pojedynczych elementów listy. Zobaczmy najprostsze przykłady pętli for i analogicznego wyrażenia\n",
    "comprehension generującego listę liczb od 0 do 9."
   ],
   "metadata": {
    "collapsed": false
   },
   "id": "128b681e8d7f19ac"
  },
  {
   "cell_type": "code",
   "outputs": [
    {
     "name": "stdout",
     "output_type": "stream",
     "text": [
      "[1, 2, 3, 4, 5, 6, 7, 8, 9, 10, 11, 12, 13, 14, 15, 16, 17, 18, 19, 20, 21, 22, 23, 24, 25, 26, 27, 28, 29, 30, 31, 32, 33, 34, 35, 36, 37, 38, 39, 40, 41, 42, 43, 44, 45, 46, 47, 48, 49, 50, 51, 52, 53, 54, 55, 56, 57, 58, 59, 60, 61, 62, 63, 64, 65, 66, 67, 68, 69, 70, 71, 72, 73, 74, 75, 76, 77, 78, 79, 80, 81, 82, 83, 84, 85, 86, 87, 88, 89, 90, 91, 92, 93, 94, 95, 96, 97, 98, 99]\n"
     ]
    }
   ],
   "source": [
    "my_first_list = list()\n",
    "for i in range (1, 100):\n",
    "    my_first_list.append(i) #bardzo wolna realizacja\n",
    "print(my_first_list)"
   ],
   "metadata": {
    "collapsed": false,
    "ExecuteTime": {
     "end_time": "2024-04-17T09:08:11.987536789Z",
     "start_time": "2024-04-17T09:08:11.941646360Z"
    }
   },
   "id": "4885251d80b665a1",
   "execution_count": 3
  },
  {
   "cell_type": "markdown",
   "source": [
    "Zastosowanie mechanizmu list comprehension dla powyższego przykładu"
   ],
   "metadata": {
    "collapsed": false
   },
   "id": "a2ba3e5de552c1ed"
  },
  {
   "cell_type": "code",
   "outputs": [
    {
     "name": "stdout",
     "output_type": "stream",
     "text": [
      "[1, 2, 3, 4, 5, 6, 7, 8, 9, 10, 11, 12, 13, 14, 15, 16, 17, 18, 19, 20, 21, 22, 23, 24, 25, 26, 27, 28, 29, 30, 31, 32, 33, 34, 35, 36, 37, 38, 39, 40, 41, 42, 43, 44, 45, 46, 47, 48, 49, 50, 51, 52, 53, 54, 55, 56, 57, 58, 59, 60, 61, 62, 63, 64, 65, 66, 67, 68, 69, 70, 71, 72, 73, 74, 75, 76, 77, 78, 79, 80, 81, 82, 83, 84, 85, 86, 87, 88, 89, 90, 91, 92, 93, 94, 95, 96, 97, 98, 99]\n"
     ]
    }
   ],
   "source": [
    "my_second_list = [element for element in range(1, 100)]\n",
    "print(my_second_list)"
   ],
   "metadata": {
    "collapsed": false,
    "ExecuteTime": {
     "end_time": "2024-04-17T09:08:12.002522091Z",
     "start_time": "2024-04-17T09:08:11.993044292Z"
    }
   },
   "id": "2fc9c4102edc9715",
   "execution_count": 4
  },
  {
   "cell_type": "markdown",
   "source": [
    "Składnia wyrażenia list comprehension może wydawać się skomplikowana, ale w praktyce tak nie\n",
    "jest. W nawiasach kwadratowych (tak jak w liście) określamy lokalną nazwę elementu (czym\n",
    "będziemy wypełniać listę) oraz sposób jej wypełnienia z wykorzystaniem składni pętli for.\n",
    "\n",
    "Czyli w powyższym przykładzie element to element listy, zaś for element in range(1, 100) określa\n",
    "nam jak będą tworzone poszczególne elementy listy.\n",
    "\n",
    "Kolejny przykład, bardziej związany z przetwarzaniem sygnałów. Zastosujemy progowanie twarde\n",
    "dla listy liczb - wszystkie liczby, których wartość bezwzględna jest większa od wartości progu\n",
    "zachowajmy, pozostałe (których wartości bezwzględne są mniejsze lub równe) zamieńmy na zero.\n",
    "Funkcję progującą sygnał 𝑆 progiem 𝜆 możemy zapisać tak:\n",
    "\n",
    "𝑆𝑡 [𝑖] = {𝑆[𝑖], jeżeli |𝑆[𝑖]| > 𝜆 0, jeżeli |𝑆[𝑖]| ≤ 𝜆 }\n"
   ],
   "metadata": {
    "collapsed": false
   },
   "id": "630daf60abe1c3bf"
  },
  {
   "cell_type": "code",
   "outputs": [],
   "source": [
    "def hard_treshold(signal, treshold):\n",
    "    return [sample if abs(sample)>treshold else 0 for sample in signal]\n",
    "my_signal = [-9, -8, -7, -6, -5, -4, -3, -2, -1, 0, 1, 2, 3, 4, 5, 6, 7, 8 ,9]\n",
    "tresholded_signal = hard_treshold(my_signal, 2)\n",
    "print(tresholded_signal)"
   ],
   "metadata": {
    "collapsed": false
   },
   "id": "1c46f99d5a891db3"
  },
  {
   "cell_type": "markdown",
   "source": [
    "### Dict comprehension\n",
    "W analogiczny sposób mechanizm comprehension możemy zastosować do słowników"
   ],
   "metadata": {
    "collapsed": false
   },
   "id": "47da5efeef9f5a0f"
  },
  {
   "cell_type": "code",
   "outputs": [],
   "source": [
    "my_list = [1, 2, 3, 4, 5]\n",
    "my_dict = {str(i):i for i in my_list}\n",
    "print(type(my_dict))\n",
    "print(my_dict)"
   ],
   "metadata": {
    "collapsed": false
   },
   "id": "6c7477a322a55874"
  },
  {
   "cell_type": "code",
   "outputs": [],
   "source": [
    "my_dict_2 = {c:len(c) for c in ['Jaguar', 'Ford', 'Toyota', 'Dodge']}\n",
    "print(type(my_dict_2))\n",
    "print(my_dict_2)"
   ],
   "metadata": {
    "collapsed": false
   },
   "id": "ef6bc5e206efa606"
  },
  {
   "cell_type": "code",
   "outputs": [],
   "source": [
    "my_list_3 = ['apple', 'pineapple', 'banana', 'strawberry']\n",
    "my_dict_3 = {f:f.capitalize() for f in my_list_3}\n",
    "print(type(my_dict_3))\n",
    "print(my_dict_3)"
   ],
   "metadata": {
    "collapsed": false
   },
   "id": "20beeb2111564145"
  }
 ],
 "metadata": {
  "kernelspec": {
   "display_name": "Python 3",
   "language": "python",
   "name": "python3"
  },
  "language_info": {
   "codemirror_mode": {
    "name": "ipython",
    "version": 2
   },
   "file_extension": ".py",
   "mimetype": "text/x-python",
   "name": "python",
   "nbconvert_exporter": "python",
   "pygments_lexer": "ipython2",
   "version": "2.7.6"
  }
 },
 "nbformat": 4,
 "nbformat_minor": 5
}
