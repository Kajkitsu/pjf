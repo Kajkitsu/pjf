{
 "cells": [
  {
   "cell_type": "markdown",
   "source": [
    "# Typy złożone\n",
    "## Łańcuchy znakowe (String)\n",
    "Łańcuchy znakowe w Pythonie można utworzyć za pomocą cudzysłowów lub apostrofów."
   ],
   "metadata": {
    "collapsed": false
   },
   "id": "d63dfcd4331285fb"
  },
  {
   "cell_type": "code",
   "outputs": [
    {
     "name": "stdout",
     "output_type": "stream",
     "text": [
      "Programowanie w językach funkcyjnych\n",
      "Programowanie w językach funkcyjnych\n",
      "<class 'str'>\n",
      "<class 'str'>\n"
     ]
    }
   ],
   "source": [
    "a = \"Programowanie w językach funkcyjnych\"\n",
    "b = 'Programowanie w językach funkcyjnych'\n",
    "print(a)\n",
    "print(b)\n",
    "print(type(a))\n",
    "print(type(b))"
   ],
   "metadata": {
    "collapsed": false,
    "ExecuteTime": {
     "end_time": "2024-04-10T07:53:11.919966988Z",
     "start_time": "2024-04-10T07:53:11.871385716Z"
    }
   },
   "id": "c80edeee097126f1",
   "execution_count": 16
  },
  {
   "cell_type": "markdown",
   "source": [
    "Pojedynczy znak jest również łańcuchem"
   ],
   "metadata": {
    "collapsed": false
   },
   "id": "381e93b7e422e5b1"
  },
  {
   "cell_type": "code",
   "outputs": [
    {
     "name": "stdout",
     "output_type": "stream",
     "text": [
      "<class 'str'>\n"
     ]
    }
   ],
   "source": [
    "a = 'w'\n",
    "print(type(a))"
   ],
   "metadata": {
    "collapsed": false,
    "ExecuteTime": {
     "end_time": "2024-04-10T07:53:11.962514163Z",
     "start_time": "2024-04-10T07:53:11.923261746Z"
    }
   },
   "id": "6a8f0f8219e22868",
   "execution_count": 17
  },
  {
   "cell_type": "markdown",
   "source": [
    "Łańcuchy znakowe można łączyć ze sobą z wykorzystaniem operatora konkatenacji (+).\n",
    "Łańcuchy znakowe są niemutowalne, to znaczy każda operacja na łańcuchu znakowym\n",
    "zwraca nowy obiekt nie modyﬁkując przy typ jej operandów. Nie można również zmienić\n",
    "wartości pojedynczego znaku w łańcuchu znakowym (spowoduje to rzucenie wyjątku)."
   ],
   "metadata": {
    "collapsed": false
   },
   "id": "b593b0fd830c8908"
  },
  {
   "cell_type": "code",
   "outputs": [
    {
     "name": "stdout",
     "output_type": "stream",
     "text": [
      "Hello World!\n",
      "Hello World!\n",
      "False False\n",
      "e\n"
     ]
    }
   ],
   "source": [
    "a=\"Hello \"\n",
    "b=\"World!\"\n",
    "c=a+b\n",
    "print(a+b)\n",
    "print(c)\n",
    "print(a is c, b is c)\n",
    "print(a[1])"
   ],
   "metadata": {
    "collapsed": false,
    "ExecuteTime": {
     "end_time": "2024-04-10T07:53:11.980765648Z",
     "start_time": "2024-04-10T07:53:11.966807239Z"
    }
   },
   "id": "17aca0cef8cc50f2",
   "execution_count": 18
  },
  {
   "cell_type": "markdown",
   "source": [
    "Łańcuchy znakowe można również powielać z wykorzystaniem operatora (*)"
   ],
   "metadata": {
    "collapsed": false
   },
   "id": "c10c45054f6f0f0"
  },
  {
   "cell_type": "code",
   "outputs": [
    {
     "name": "stdout",
     "output_type": "stream",
     "text": [
      "Kura gdacze kookookoo\n"
     ]
    }
   ],
   "source": [
    "k = \"koo\"\n",
    "print(\"Kura gdacze \" + 3 * k)"
   ],
   "metadata": {
    "collapsed": false,
    "ExecuteTime": {
     "end_time": "2024-04-10T07:53:12.068051442Z",
     "start_time": "2024-04-10T07:53:11.981111608Z"
    }
   },
   "id": "7122f6c43282e140",
   "execution_count": 19
  },
  {
   "cell_type": "markdown",
   "source": [
    "W łańcuchach znakowych działa operator tablicowy (nawias kwadratowy [])."
   ],
   "metadata": {
    "collapsed": false
   },
   "id": "ce3f77a745ee9f0e"
  },
  {
   "cell_type": "code",
   "outputs": [
    {
     "name": "stdout",
     "output_type": "stream",
     "text": [
      "P\n",
      "w\n"
     ]
    }
   ],
   "source": [
    "print(\"Programowanie w językach funkcyjnych\"[0])\n",
    "print(\"Programowanie w językach funkcyjnych\"[14])\n"
   ],
   "metadata": {
    "collapsed": false,
    "ExecuteTime": {
     "end_time": "2024-04-10T07:53:12.069324086Z",
     "start_time": "2024-04-10T07:53:12.000814331Z"
    }
   },
   "id": "c6c42f3660494b38",
   "execution_count": 20
  },
  {
   "cell_type": "markdown",
   "source": [
    "Operator tablicowy w Pythonie przyjmuje również wartości ujemne. Dla wartości -1 zwracany jest ostatni element, dla -2 przedostatni itd."
   ],
   "metadata": {
    "collapsed": false
   },
   "id": "37c36c3dbbd3701"
  },
  {
   "cell_type": "code",
   "outputs": [
    {
     "name": "stdout",
     "output_type": "stream",
     "text": [
      "h\n",
      "k\n"
     ]
    }
   ],
   "source": [
    "print(\"Programowanie w językach funkcyjnych\"[-1])\n",
    "print(\"Programowanie w językach funkcyjnych\"[-8])"
   ],
   "metadata": {
    "collapsed": false,
    "ExecuteTime": {
     "end_time": "2024-04-10T07:53:12.069838250Z",
     "start_time": "2024-04-10T07:53:12.043654103Z"
    }
   },
   "id": "14e6fca5b88d8d78",
   "execution_count": 21
  },
  {
   "cell_type": "markdown",
   "source": [],
   "metadata": {
    "collapsed": false
   },
   "id": "4564f041dd733ef3"
  },
  {
   "cell_type": "markdown",
   "source": [
    "Operator tablicowy przyjmuje również zakresy (z ang. range, slice). Na przykład dla łańcucha znakowego a zapis a[0:2] oznacza, że w wyniku uzyskamy łańcuch znakowy począwszy od znaku o indeksie 0 do znaku o indeksie 1 włącznie (lub 2 wyłącznie)."
   ],
   "metadata": {
    "collapsed": false
   },
   "id": "7ca33756bf606b21"
  },
  {
   "cell_type": "code",
   "outputs": [
    {
     "name": "stdout",
     "output_type": "stream",
     "text": [
      "ogramowa\n"
     ]
    }
   ],
   "source": [
    "a=\"Programowanie w językach funkcyjnych\"\n",
    "print(a[2:10])"
   ],
   "metadata": {
    "collapsed": false,
    "ExecuteTime": {
     "end_time": "2024-04-10T07:53:12.165741348Z",
     "start_time": "2024-04-10T07:53:12.072869276Z"
    }
   },
   "id": "50c1bf375a03241b",
   "execution_count": 22
  },
  {
   "cell_type": "markdown",
   "source": [
    "Zakres można również zastosować z jedną liczbą np. a[2:] lub a[:-2]"
   ],
   "metadata": {
    "collapsed": false
   },
   "id": "ba5a79f0fcb31c14"
  },
  {
   "cell_type": "code",
   "outputs": [
    {
     "name": "stdout",
     "output_type": "stream",
     "text": [
      "ogramowa\n",
      "ogramowanie w językach funkcyjnych\n",
      "Programowanie w językach fu\n",
      "yjnych\n",
      "Programowanie w językach funkcyjnych\n"
     ]
    }
   ],
   "source": [
    "a=\"Programowanie w językach funkcyjnych\"\n",
    "print(a[2:10])\n",
    "print(a[2:])\n",
    "print(a[:-9])\n",
    "print(a[-6:])\n",
    "print(a[:])"
   ],
   "metadata": {
    "collapsed": false,
    "ExecuteTime": {
     "end_time": "2024-04-10T07:53:12.186851290Z",
     "start_time": "2024-04-10T07:53:12.167174054Z"
    }
   },
   "id": "33d59fb6f433b477",
   "execution_count": 23
  },
  {
   "cell_type": "markdown",
   "source": [],
   "metadata": {
    "collapsed": false
   },
   "id": "3285fe1f8b2f9f52"
  },
  {
   "cell_type": "markdown",
   "source": [
    "A także z trzema liczbami (dwa dwukropki), gdzie trzecia liczba będzie oznaczała skok np. a[0:8:2]. W zapisie z dwoma dwukropkami można również pominąć jedną z liczb."
   ],
   "metadata": {
    "collapsed": false
   },
   "id": "521e76106dc23b93"
  },
  {
   "cell_type": "code",
   "outputs": [
    {
     "name": "stdout",
     "output_type": "stream",
     "text": [
      "Prwe\n",
      "Pormwnewjzkc ukyn\n",
      "ormwnewjzkc ukync\n",
      "Programo\n",
      "Programowanie w językach funkcyjnych\n"
     ]
    }
   ],
   "source": [
    "a=\"Programowanie w językach funkcyjnych\"\n",
    "print(a[0:15:4]) # odpowiedni konstrukcji for (int i=0; i<15; i+=2)\n",
    "print(a[:-2:2])\n",
    "print(a[2::2])\n",
    "print(a[0:8:])\n",
    "print(a[::])"
   ],
   "metadata": {
    "collapsed": false,
    "ExecuteTime": {
     "end_time": "2024-04-10T07:53:12.239778457Z",
     "start_time": "2024-04-10T07:53:12.190062263Z"
    }
   },
   "id": "911e4b55b07b92ad",
   "execution_count": 24
  },
  {
   "cell_type": "markdown",
   "source": [
    "Długość łańcucha znakowego uzyskujemy z wykorzystaniem funkcji len() ."
   ],
   "metadata": {
    "collapsed": false
   },
   "id": "19dd6cc28d5242eb"
  },
  {
   "cell_type": "code",
   "outputs": [
    {
     "name": "stdout",
     "output_type": "stream",
     "text": [
      "36\n"
     ]
    }
   ],
   "source": [
    "a=\"Programowanie w językach funkcyjnych\"\n",
    "print(len(a))"
   ],
   "metadata": {
    "collapsed": false,
    "ExecuteTime": {
     "end_time": "2024-04-10T07:53:12.256847240Z",
     "start_time": "2024-04-10T07:53:12.243345628Z"
    }
   },
   "id": "fbc5a3c56971ddb",
   "execution_count": 25
  },
  {
   "cell_type": "markdown",
   "source": [
    "Łańcuchy znakowe można interpolować zmiennymi (umieszczać wewnątrz nich zmienne, operacja taka jak w printf z języka C) z wykorzystaniem metody format. Można to zrobić na kilka sposobów"
   ],
   "metadata": {
    "collapsed": false
   },
   "id": "91844b9500ccc1b2"
  },
  {
   "cell_type": "code",
   "outputs": [
    {
     "name": "stdout",
     "output_type": "stream",
     "text": [
      "Oto łańcuch znakowy interpolowany zmiennymi.\n",
      "wartość pi = 3.14\n",
      "Liczba pi ma wartość około 3.14\n",
      "Jan Kowalski otrzymał ocenę 2\n"
     ]
    }
   ],
   "source": [
    "import math\n",
    "print(\"Oto {} interpolowany {}.\".format(\"łańcuch znakowy\",\"zmiennymi\"))\n",
    "pi=3.14\n",
    "print(\"wartość pi = \" + str(pi))\n",
    "print(\"Liczba pi ma wartość około {}\".format(pi))\n",
    "print(\"{student} otrzymał ocenę {ocena}\".format(student=\"Jan Kowalski\", ocena=2))\n"
   ],
   "metadata": {
    "collapsed": false,
    "ExecuteTime": {
     "end_time": "2024-04-10T07:53:12.315542566Z",
     "start_time": "2024-04-10T07:53:12.259779612Z"
    }
   },
   "id": "2dcffc7e5ec29ea3",
   "execution_count": 26
  },
  {
   "cell_type": "markdown",
   "source": [
    "Łańcuchy znakowe można interpolować również za pomocą tzw. f-stringów (format stringów). F-stringi rozpoczynają się preﬁxem f. w klamrach (wąsach) można umieścić zmienne lub wyrażenia. Taki sposób jest obecnie zalecany i w większości zastosowań charakteryzuje się najlepszą wydajnością."
   ],
   "metadata": {
    "collapsed": false
   },
   "id": "e650a90b4fb97231"
  },
  {
   "cell_type": "code",
   "outputs": [
    {
     "name": "stdout",
     "output_type": "stream",
     "text": [
      "Programowanie w językach funkcyjnych\n",
      "Liczba pi ma wartość około 3.14\n",
      "Napis Programowanie w językach funkcyjnych ma długość 36 znaków\n"
     ]
    }
   ],
   "source": [
    "jakich=\"funkcyjnych\"\n",
    "pjf=f\"Programowanie w językach {jakich}\"\n",
    "print(f\"{pjf}\")\n",
    "print(f\"Liczba pi ma wartość około {pi}\")\n",
    "print(f\"Napis {pjf} ma długość {len(pjf)} znaków\")"
   ],
   "metadata": {
    "collapsed": false,
    "ExecuteTime": {
     "end_time": "2024-04-10T07:53:12.316590972Z",
     "start_time": "2024-04-10T07:53:12.297504185Z"
    }
   },
   "id": "a5a3bbed94e1f6f",
   "execution_count": 27
  },
  {
   "cell_type": "markdown",
   "source": [
    "Łańcuch znakowy ma również kilka przydatnych metod:"
   ],
   "metadata": {
    "collapsed": false
   },
   "id": "9754de586a31925d"
  },
  {
   "cell_type": "code",
   "outputs": [
    {
     "name": "stdout",
     "output_type": "stream",
     "text": [
      "Programowanie w językach funkcyjnych\n",
      "PROGRAMOWANIE W JĘZYKACH FUNKCYJNYCH\n",
      "programowanie w językach funkcyjnych\n",
      "pROgRAmOwaNIe W jĘZYKAcH fUNKcyJnyCH\n",
      "Programowanie W Językach Funkcyjnych\n"
     ]
    }
   ],
   "source": [
    "pjf=\"ProGraMoWAniE w JęzykaCh FunkCYjNYch\"\n",
    "print(pjf.capitalize())\n",
    "print(pjf.upper())\n",
    "print(pjf.lower())\n",
    "print(pjf.swapcase())\n",
    "print(pjf.title())"
   ],
   "metadata": {
    "collapsed": false,
    "ExecuteTime": {
     "end_time": "2024-04-10T07:53:12.318860846Z",
     "start_time": "2024-04-10T07:53:12.297624302Z"
    }
   },
   "id": "883c8ab8f59a91f7",
   "execution_count": 28
  },
  {
   "cell_type": "markdown",
   "source": [
    "Aby sprawdzić czy dany łańcuch znakowy występuje w innym łańcuchu znakowym posługujemy się operatorem _in_ :"
   ],
   "metadata": {
    "collapsed": false
   },
   "id": "e1a957144acf853e"
  },
  {
   "cell_type": "code",
   "outputs": [
    {
     "name": "stdout",
     "output_type": "stream",
     "text": [
      "True\n",
      "False\n"
     ]
    }
   ],
   "source": [
    "a=\"laa baa maa daa\"\n",
    "print(\"aa\" in a)\n",
    "print(\"bb\" in a)"
   ],
   "metadata": {
    "collapsed": false,
    "ExecuteTime": {
     "end_time": "2024-04-10T07:53:12.373447513Z",
     "start_time": "2024-04-10T07:53:12.316160809Z"
    }
   },
   "id": "738194467259984f",
   "execution_count": 29
  },
  {
   "cell_type": "markdown",
   "source": [
    "Liczbę podłańcuchów występujących w danym łańcuchu znakowym można wyznaczyć z wykorzystaniem metody _count()_"
   ],
   "metadata": {
    "collapsed": false
   },
   "id": "c0edac628658e244"
  },
  {
   "cell_type": "code",
   "outputs": [
    {
     "data": {
      "text/plain": "4"
     },
     "execution_count": 30,
     "metadata": {},
     "output_type": "execute_result"
    }
   ],
   "source": [
    "\"laa baa maa daa\".count(\"aa\")"
   ],
   "metadata": {
    "collapsed": false,
    "ExecuteTime": {
     "end_time": "2024-04-10T07:53:12.374221189Z",
     "start_time": "2024-04-10T07:53:12.359626086Z"
    }
   },
   "id": "5237ac999b11567",
   "execution_count": 30
  }
 ],
 "metadata": {
  "kernelspec": {
   "display_name": "Python 3",
   "language": "python",
   "name": "python3"
  },
  "language_info": {
   "codemirror_mode": {
    "name": "ipython",
    "version": 2
   },
   "file_extension": ".py",
   "mimetype": "text/x-python",
   "name": "python",
   "nbconvert_exporter": "python",
   "pygments_lexer": "ipython2",
   "version": "2.7.6"
  }
 },
 "nbformat": 4,
 "nbformat_minor": 5
}
