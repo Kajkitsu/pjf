{
 "cells": [
  {
   "cell_type": "markdown",
   "source": [
    "# Słownik\n",
    "Słownik jest tablicą asocjacyjną (kolekcją) umożliwiającą przechowywanie danych w układzie unikalnych par key:value\n",
    "Cechy słownika:\n",
    "1. uporządkowanie danych (w Python do wersji 3.7, wcześniejsze wersje języka posiadały słownik nieuporządkowany). Uporządkowanie polega na zachowaniu kolejności dodawania elementów do słownika.\n",
    "2. modyﬁkowalność - istnieje możliwość modyﬁkowania zawartości słownika\n",
    "3. unikalność danych - słownik nie pozwala na przechowywanie duplikatów"
   ],
   "metadata": {
    "collapsed": false
   },
   "id": "384713e4de2b7422"
  },
  {
   "cell_type": "code",
   "outputs": [
    {
     "name": "stdout",
     "output_type": "stream",
     "text": [
      "myDict1 to <class 'dict'> o rozmiarze 4 i zawiera {'Abacki': 3.5, 'Babacki': 4.0, 'Cabacki': 5.0, 'Dabacki': 3.0}\n",
      "myDict2 to <class 'dict'> o rozmiarze 0 i zawiera {}\n",
      "myDict3 to <class 'dict'> o rozmiarze 0 i zawiera {}\n"
     ]
    }
   ],
   "source": [
    "myDict1 = {\"Abacki\":3.5, \"Babacki\":4.0, \"Cabacki\":5.0, \"Dabacki\":3.0}\n",
    "myDict2 = {}\n",
    "myDict3 = dict()\n",
    "print(f\"myDict1 to {type(myDict1)} o rozmiarze {len(myDict1)} i zawiera {myDict1}\")\n",
    "print(f\"myDict2 to {type(myDict2)} o rozmiarze {len(myDict2)} i zawiera {myDict2}\")\n",
    "print(f\"myDict3 to {type(myDict2)} o rozmiarze {len(myDict3)} i zawiera {myDict3}\")"
   ],
   "metadata": {
    "collapsed": false,
    "ExecuteTime": {
     "end_time": "2024-04-10T08:20:30.319024171Z",
     "start_time": "2024-04-10T08:20:30.226109840Z"
    }
   },
   "id": "8845b1a3cd45474a",
   "execution_count": 2
  },
  {
   "cell_type": "markdown",
   "source": [
    "### Dostęp do elementów słownika\n",
    "Dostęp odbywa się przez podanie istniejącego w słowniku klucza"
   ],
   "metadata": {
    "collapsed": false
   },
   "id": "bd60005a44d7d486"
  },
  {
   "cell_type": "code",
   "outputs": [
    {
     "name": "stdout",
     "output_type": "stream",
     "text": [
      "Cabacki ocena = 5.0\n",
      "Dabacki ocena = 3.0\n"
     ]
    }
   ],
   "source": [
    "myDict1 = {\"Abacki\":3.5, \"Babacki\":4.0, \"Cabacki\":5.0, \"Dabacki\":3.0 }\n",
    "print(f\"Cabacki ocena = {myDict1['Cabacki']}\")\n",
    "print(f\"Dabacki ocena = {myDict1.get('Dabacki')}\")\n",
    "#print(f\"Nowak ocena = {myDict1['Nowak']}\")\n",
    "#wywołanie nieistniejąceg"
   ],
   "metadata": {
    "collapsed": false,
    "ExecuteTime": {
     "end_time": "2024-04-10T08:20:30.344733884Z",
     "start_time": "2024-04-10T08:20:30.301728021Z"
    }
   },
   "id": "65c9ed6815156cae",
   "execution_count": 3
  },
  {
   "cell_type": "markdown",
   "source": [
    "### Modyﬁkowalność zawartości słownika"
   ],
   "metadata": {
    "collapsed": false
   },
   "id": "d1f70c5e776d8ddf"
  },
  {
   "cell_type": "code",
   "outputs": [
    {
     "name": "stdout",
     "output_type": "stream",
     "text": [
      "{'Abacki': 3.5, 'Babacki': 2.0, 'Cabacki': 5.0, 'Dabacki': 3.0, 'Wabacki': 4.5}\n",
      "{'Abacki': 3.5, 'Babacki': 2.0, 'Cabacki': 5.0, 'Dabacki': 3.0, 'Wabacki': 2.0}\n"
     ]
    }
   ],
   "source": [
    "myDict1 = {\"Abacki\":3.5, \"Babacki\":4.0, \"Cabacki\":5.0, \"Dabacki\":3.0 }\n",
    "myDict1['Babacki'] = 2.0\n",
    "#modyfikacja wartości dla istniejącego klucza\n",
    "myDict1['Wabacki'] = 4.5\n",
    "#dodanie nowego klucza i wartości\n",
    "print(f\"{myDict1}\")\n",
    "myDict1.update({'Wabacki':2.0})\n",
    "print(f\"{myDict1}\")"
   ],
   "metadata": {
    "collapsed": false,
    "ExecuteTime": {
     "end_time": "2024-04-10T08:20:30.347231661Z",
     "start_time": "2024-04-10T08:20:30.345327774Z"
    }
   },
   "id": "16bf9bfbe7e91194",
   "execution_count": 4
  },
  {
   "cell_type": "markdown",
   "source": [
    "### Usuwanie elementów słownika\n",
    "1. myDict.pop() - usunięcie ze słownika elementu o wskazanym kluczu\n",
    "2. myDict.popitem() - usunięcie ze słownika ostatniego dodanego elementu\n",
    "3. del - słowo kluczowe powoduje usunięcie ze słownika elementu o wskazanym kluczu, lub całego słownika"
   ],
   "metadata": {
    "collapsed": false
   },
   "id": "22868501cfb26ed6"
  },
  {
   "cell_type": "code",
   "outputs": [
    {
     "name": "stdout",
     "output_type": "stream",
     "text": [
      "{'Abacki': 3.5, 'Babacki': 4.0, 'Dabacki': 3.0}, pobrano 5.0\n",
      "\n",
      "{'Abacki': 3.5, 'Babacki': 4.0, 'Dabacki': 3.0, 'Wabacki': 4.5}\n",
      "\n",
      "{'Abacki': 3.5, 'Babacki': 4.0, 'Dabacki': 3.0}, pobrano ('Wabacki', 4.5)\n",
      "<class 'tuple'>\n",
      "\n",
      "{'Babacki': 4.0, 'Dabacki': 3.0}\n"
     ]
    }
   ],
   "source": [
    "myDict1 = {\"Abacki\":3.5, \"Babacki\":4.0, \"Cabacki\":5.0, \"Dabacki\":3.0 }\n",
    "a = myDict1.pop('Cabacki')\n",
    "print(f\"{myDict1}, pobrano {a}\\n\")\n",
    "myDict1['Wabacki'] = 4.5\n",
    "print(f\"{myDict1}\\n\")\n",
    "a = myDict1.popitem()\n",
    "print(f\"{myDict1}, pobrano {a}\")\n",
    "print(f\"{type(a)}\\n\")\n",
    "del myDict1['Abacki']\n",
    "print(f\"{myDict1}\\n\")\n",
    "del myDict1\n",
    "#print(f\"{myDict1}\\n\")\n",
    "#spowoduje rzucenie wyjątku, obiekt o wskazanej nazwie nie istnieje"
   ],
   "metadata": {
    "collapsed": false,
    "ExecuteTime": {
     "end_time": "2024-04-10T08:20:30.417479925Z",
     "start_time": "2024-04-10T08:20:30.350160307Z"
    }
   },
   "id": "4d5acf6fba72c5c4",
   "execution_count": 5
  },
  {
   "cell_type": "markdown",
   "source": [
    "### Czyszczenie zawartości słownika\n",
    "myDict.clear()"
   ],
   "metadata": {
    "collapsed": false
   },
   "id": "d7f9b63ed3d373f0"
  },
  {
   "cell_type": "code",
   "outputs": [
    {
     "name": "stdout",
     "output_type": "stream",
     "text": [
      "myDict zawiera {}\n",
      "Obiekt myDict1 to <class 'dict'>\n"
     ]
    }
   ],
   "source": [
    "myDict1 = {\"Abacki\":3.5, \"Babacki\":4.0, \"Cabacki\":5.0, \"Dabacki\":3.0 }\n",
    "myDict1.clear()\n",
    "print(f\"myDict zawiera {myDict1}\")\n",
    "print(f\"Obiekt myDict1 to {type(myDict1)}\")"
   ],
   "metadata": {
    "collapsed": false,
    "ExecuteTime": {
     "end_time": "2024-04-10T08:20:30.452732663Z",
     "start_time": "2024-04-10T08:20:30.368138832Z"
    }
   },
   "id": "18cc5e2a20cb4a19",
   "execution_count": 6
  },
  {
   "cell_type": "markdown",
   "source": [
    "### Unikalność przechowywanych danych"
   ],
   "metadata": {
    "collapsed": false
   },
   "id": "337d0ce3368876a5"
  },
  {
   "cell_type": "code",
   "outputs": [
    {
     "name": "stdout",
     "output_type": "stream",
     "text": [
      "{'Abacki': 3.5, 'Babacki': 4.0, 'Cabacki': 5.0, 'Dabacki': 3.0}\n"
     ]
    }
   ],
   "source": [
    "myDict1 = {\"Abacki\":3.5, \"Babacki\":4.0, \"Cabacki\":5.0, \"Dabacki\":3.0 }\n",
    "print(f\"{myDict1}\")"
   ],
   "metadata": {
    "collapsed": false,
    "ExecuteTime": {
     "end_time": "2024-04-10T08:20:30.453371966Z",
     "start_time": "2024-04-10T08:20:30.415678383Z"
    }
   },
   "id": "5023c0bb541d3dec",
   "execution_count": 7
  },
  {
   "cell_type": "markdown",
   "source": [
    "### \"Lista\" kluczy\n",
    "myDict.keys() - metoda zwraca tzw. iterable, czyli klasę implementującą iter. Aby uzyskać listę wartości należy wykonać rzutowanie na typ list"
   ],
   "metadata": {
    "collapsed": false
   },
   "id": "4ff7d0d9e0f5cfd"
  },
  {
   "cell_type": "code",
   "outputs": [
    {
     "name": "stdout",
     "output_type": "stream",
     "text": [
      "myKeys to <class 'dict_keys'> i zawiera dict_keys(['Abacki', 'Babacki', 'Cabacki', 'Dabacki'])\n",
      "listOfMyKeys to <class 'list'> i zawiera ['Abacki', 'Babacki', 'Cabacki', 'Dabacki']\n"
     ]
    }
   ],
   "source": [
    "myDict1 = {\"Abacki\":3.5, \"Babacki\":4.0, \"Cabacki\":5.0, \"Dabacki\":3.0}\n",
    "myKeys = myDict1.keys()\n",
    "print(f\"myKeys to {type(myKeys)} i zawiera {myKeys}\")\n",
    "listOfMyKeys = list(myKeys)\n",
    "print(f\"listOfMyKeys to {type(listOfMyKeys)} i zawiera {listOfMyKeys}\")"
   ],
   "metadata": {
    "collapsed": false,
    "ExecuteTime": {
     "end_time": "2024-04-10T08:20:30.475521147Z",
     "start_time": "2024-04-10T08:20:30.415857998Z"
    }
   },
   "id": "978b79dc0c11817",
   "execution_count": 8
  },
  {
   "cell_type": "markdown",
   "source": [
    "### \"Lista\" wartości\n",
    "myDict.values() - metoda zwraca tzw. iterable, czyli klasę implementującą iter. Aby uzyskać listę wartości należy wykonać rzutowanie na typ list"
   ],
   "metadata": {
    "collapsed": false
   },
   "id": "43924439e1ef401c"
  },
  {
   "cell_type": "code",
   "outputs": [
    {
     "name": "stdout",
     "output_type": "stream",
     "text": [
      "myValues to <class 'dict_values'> i zawiera dict_values([3.5, 4.0, 5.0, 3.0])\n",
      "listOfMyValues to <class 'list'> i zawiera [3.5, 4.0, 5.0, 3.0]\n"
     ]
    }
   ],
   "source": [
    "myDict1 = {\"Abacki\":3.5, \"Babacki\":4.0, \"Cabacki\":5.0, \"Dabacki\":3.0}\n",
    "myValues = myDict1.values()\n",
    "print(f\"myValues to {type(myValues)} i zawiera {myValues}\")\n",
    "listOfMyValues = list(myValues)\n",
    "print(f\"listOfMyValues to {type(listOfMyValues)} i zawiera {listOfMyValues}\")"
   ],
   "metadata": {
    "collapsed": false,
    "ExecuteTime": {
     "end_time": "2024-04-10T08:20:30.476559583Z",
     "start_time": "2024-04-10T08:20:30.455789412Z"
    }
   },
   "id": "ffca011632fbc74e",
   "execution_count": 9
  },
  {
   "cell_type": "markdown",
   "source": [
    "### Pobranie elementów słownika do innych typów\n",
    "myDict.items() - zwraca listę widoków na elementy słownika"
   ],
   "metadata": {
    "collapsed": false
   },
   "id": "ebc8901a0f8a3755"
  },
  {
   "cell_type": "code",
   "outputs": [
    {
     "name": "stdout",
     "output_type": "stream",
     "text": [
      "a to jest <class 'dict_items'> i zawiera: dict_items([('Abacki', 3.5), ('Babacki', 4.0), ('Cabacki', 5.0), ('Dabacki', 3.0)])\n",
      "\n",
      "myDictElems to jest <class 'list'> i zawiera: [('Abacki', 3.5), ('Babacki', 4.0), ('Cabacki', 5.0), ('Dabacki', 3.0)]\n",
      "\n",
      "Element myDictElems to jest <class 'tuple'>\n"
     ]
    }
   ],
   "source": [
    "myDict1 = {\"Abacki\":3.5, \"Babacki\":4.0, \"Cabacki\":5.0, \"Dabacki\":3.0}\n",
    "a = myDict1.items()\n",
    "print(f\"a to jest {type(a)} i zawiera: {a}\\n\")\n",
    "myDictElems = list(a)\n",
    "print(f\"myDictElems to jest {type(myDictElems)} i zawiera: {myDictElems}\\n\")\n",
    "print(f\"Element myDictElems to jest {type(myDictElems[0])}\")"
   ],
   "metadata": {
    "collapsed": false,
    "ExecuteTime": {
     "end_time": "2024-04-10T08:20:30.531879084Z",
     "start_time": "2024-04-10T08:20:30.459848219Z"
    }
   },
   "id": "459d90fd3c1ecd87",
   "execution_count": 10
  },
  {
   "cell_type": "markdown",
   "source": [
    "### Poruszanie się po słowniku\n",
    "Wyświetlenie wszystkich kluczy w słowniku"
   ],
   "metadata": {
    "collapsed": false
   },
   "id": "89e42383d924d7b0"
  },
  {
   "cell_type": "code",
   "outputs": [
    {
     "name": "stdout",
     "output_type": "stream",
     "text": [
      "Abacki\n",
      "Babacki\n",
      "Cabacki\n",
      "Dabacki\n"
     ]
    }
   ],
   "source": [
    "myDict1 = {\"Abacki\":3.5, \"Babacki\":4.0, \"Cabacki\":5.0, \"Dabacki\":3.0}\n",
    "for x in myDict1:\n",
    "    print(x)"
   ],
   "metadata": {
    "collapsed": false,
    "ExecuteTime": {
     "end_time": "2024-04-10T08:20:30.532427548Z",
     "start_time": "2024-04-10T08:20:30.523638365Z"
    }
   },
   "id": "3d7b4d61c2b3f8bb",
   "execution_count": 11
  },
  {
   "cell_type": "code",
   "outputs": [
    {
     "name": "stdout",
     "output_type": "stream",
     "text": [
      "Abacki\n",
      "Babacki\n",
      "Cabacki\n",
      "Dabacki\n"
     ]
    }
   ],
   "source": [
    "myDict1 = {\"Abacki\":3.5, \"Babacki\":4.0, \"Cabacki\":5.0, \"Dabacki\":3.0}\n",
    "for x in myDict1.keys():\n",
    "    print(x)"
   ],
   "metadata": {
    "collapsed": false,
    "ExecuteTime": {
     "end_time": "2024-04-10T08:20:30.532849491Z",
     "start_time": "2024-04-10T08:20:30.523864838Z"
    }
   },
   "id": "c1fa627762e50d0c",
   "execution_count": 12
  },
  {
   "cell_type": "code",
   "outputs": [
    {
     "name": "stdout",
     "output_type": "stream",
     "text": [
      "3.5\n",
      "4.0\n",
      "5.0\n",
      "3.0\n"
     ]
    }
   ],
   "source": [
    "myDict1 = {\"Abacki\":3.5, \"Babacki\":4.0, \"Cabacki\":5.0, \"Dabacki\":3.0}\n",
    "for x in myDict1:\n",
    "    print(myDict1[x])"
   ],
   "metadata": {
    "collapsed": false,
    "ExecuteTime": {
     "end_time": "2024-04-10T08:20:30.595162625Z",
     "start_time": "2024-04-10T08:20:30.534384464Z"
    }
   },
   "id": "98d1a54e1df29d13",
   "execution_count": 13
  },
  {
   "cell_type": "code",
   "outputs": [
    {
     "name": "stdout",
     "output_type": "stream",
     "text": [
      "3.5\n",
      "4.0\n",
      "5.0\n",
      "3.0\n"
     ]
    }
   ],
   "source": [
    "myDict1 = {\"Abacki\":3.5, \"Babacki\":4.0, \"Cabacki\":5.0, \"Dabacki\":3.0}\n",
    "for x in myDict1.values():\n",
    "    print(x)"
   ],
   "metadata": {
    "collapsed": false,
    "ExecuteTime": {
     "end_time": "2024-04-10T08:20:30.620517665Z",
     "start_time": "2024-04-10T08:20:30.554767199Z"
    }
   },
   "id": "a0a82aaad781954b",
   "execution_count": 14
  },
  {
   "cell_type": "code",
   "outputs": [
    {
     "name": "stdout",
     "output_type": "stream",
     "text": [
      "Abacki 3.5\n",
      "Babacki 4.0\n",
      "Cabacki 5.0\n",
      "Dabacki 3.0\n"
     ]
    }
   ],
   "source": [
    "myDict1 = {\"Abacki\":3.5, \"Babacki\":4.0, \"Cabacki\":5.0, \"Dabacki\":3.0}\n",
    "for x, y in myDict1.items():\n",
    "    print(x, y)"
   ],
   "metadata": {
    "collapsed": false,
    "ExecuteTime": {
     "end_time": "2024-04-10T08:20:30.622991315Z",
     "start_time": "2024-04-10T08:20:30.595497317Z"
    }
   },
   "id": "1b77c05f72fdbb",
   "execution_count": 15
  },
  {
   "cell_type": "markdown",
   "source": [
    "### Kopiowanie słownika\n",
    "myDict.copy()"
   ],
   "metadata": {
    "collapsed": false
   },
   "id": "636d6bf0089c7c09"
  },
  {
   "cell_type": "code",
   "outputs": [
    {
     "name": "stdout",
     "output_type": "stream",
     "text": [
      "{'Abacki': 3.5, 'Babacki': 4.0, 'Cabacki': 5.0, 'Dabacki': 3.0}\n"
     ]
    }
   ],
   "source": [
    "myDict1 = {\"Abacki\":3.5, \"Babacki\":4.0, \"Cabacki\":5.0, \"Dabacki\":3.0}\n",
    "myDict2 = myDict1.copy()\n",
    "print(myDict2)"
   ],
   "metadata": {
    "collapsed": false,
    "ExecuteTime": {
     "end_time": "2024-04-10T08:20:30.623745082Z",
     "start_time": "2024-04-10T08:20:30.620948317Z"
    }
   },
   "id": "3ffdf5e4a108d3aa",
   "execution_count": 16
  },
  {
   "cell_type": "markdown",
   "source": [
    "dict(myDict) - funkcja!"
   ],
   "metadata": {
    "collapsed": false
   },
   "id": "4940298c17a53bd2"
  },
  {
   "cell_type": "code",
   "outputs": [
    {
     "name": "stdout",
     "output_type": "stream",
     "text": [
      "{'Abacki': 3.5, 'Babacki': 4.0, 'Cabacki': 5.0, 'Dabacki': 3.0}\n"
     ]
    }
   ],
   "source": [
    "myDict1 = {\"Abacki\":3.5, \"Babacki\":4.0, \"Cabacki\":5.0, \"Dabacki\":3.0}\n",
    "myDict2 = dict(myDict1)\n",
    "print(myDict2)"
   ],
   "metadata": {
    "collapsed": false,
    "ExecuteTime": {
     "end_time": "2024-04-10T08:20:30.681832916Z",
     "start_time": "2024-04-10T08:20:30.623579937Z"
    }
   },
   "id": "38815f06f07b1b3",
   "execution_count": 17
  },
  {
   "cell_type": "markdown",
   "source": [
    "### Zagnieżdżanie słowników"
   ],
   "metadata": {
    "collapsed": false
   },
   "id": "c523e5a134e10a3b"
  },
  {
   "cell_type": "code",
   "outputs": [
    {
     "name": "stdout",
     "output_type": "stream",
     "text": [
      "{'c1': {'name': 'Toyota', 'year': 2010}, 'c2': {'name': 'Chrysler', 'year': 2013}, 'c3': {'name': 'Porshe', 'year': 2017}}\n"
     ]
    }
   ],
   "source": [
    "car1 = {'name': 'Toyota', 'year': 2010}\n",
    "car2 = {'name': 'Chrysler', 'year': 2013}\n",
    "car3 = {'name': 'Porshe', 'year': 2017}\n",
    "myGarage = {'c1': car1, 'c2': car2, 'c3': car3}\n",
    "print(myGarage)"
   ],
   "metadata": {
    "collapsed": false,
    "ExecuteTime": {
     "end_time": "2024-04-10T08:20:30.682406855Z",
     "start_time": "2024-04-10T08:20:30.679569761Z"
    }
   },
   "id": "f6d03761f6302c7a",
   "execution_count": 18
  },
  {
   "cell_type": "markdown",
   "source": [
    "Można też w bardziej wyraﬁnowany sposób"
   ],
   "metadata": {
    "collapsed": false
   },
   "id": "a93407181bd9f7b5"
  },
  {
   "cell_type": "code",
   "outputs": [
    {
     "name": "stdout",
     "output_type": "stream",
     "text": [
      "{'c1': {'name': 'Bugatti', 'year': 2020}, 'c2': {'name': 'Ferrari', 'year': 2019}, 'c3': {'name': 'Lamborghini', 'year': 2018}}\n"
     ]
    }
   ],
   "source": [
    "myDreamGarage = {'c1': {'name': 'Bugatti', 'year': 2020}, 'c2': {'name': 'Ferrari', 'year': 2019}, 'c3': {'name': 'Lamborghini', 'year': 2018}}\n",
    "print(myDreamGarage)"
   ],
   "metadata": {
    "collapsed": false,
    "ExecuteTime": {
     "end_time": "2024-04-10T08:20:30.693993111Z",
     "start_time": "2024-04-10T08:20:30.679711908Z"
    }
   },
   "id": "34da874438b60d75",
   "execution_count": 19
  }
 ],
 "metadata": {
  "kernelspec": {
   "display_name": "Python 3",
   "language": "python",
   "name": "python3"
  },
  "language_info": {
   "codemirror_mode": {
    "name": "ipython",
    "version": 2
   },
   "file_extension": ".py",
   "mimetype": "text/x-python",
   "name": "python",
   "nbconvert_exporter": "python",
   "pygments_lexer": "ipython2",
   "version": "2.7.6"
  }
 },
 "nbformat": 4,
 "nbformat_minor": 5
}
