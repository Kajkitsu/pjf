{
 "cells": [
  {
   "cell_type": "markdown",
   "id": "00e71b89",
   "metadata": {},
   "source": [
    "# Pętle\n",
    "\n",
    "Ten notatnik wyjaśnia, jak używać pętli `for` i `while` w Pythonie.\n"
   ]
  },
  {
   "cell_type": "markdown",
   "id": "56ab4204",
   "metadata": {},
   "source": [
    "## Pętla for\n",
    "\n",
    "W Pythonie pętla `for` jest używana do iteracji po sekwencji (takiej jak lista, krotka, słownik, zbiór lub łańcuch) lub innych obiektach iterowalnych. Iterowanie po sekwencji nazywane jest trawersowaniem.\n",
    "\n",
    "**Uwaga:** W Pythonie nie występuje operator `++`, np. `a++`. Zamiast tego operatora stosujemy konstrukcję `a+=1`.\n"
   ]
  },
  {
   "cell_type": "code",
   "execution_count": 1,
   "id": "8c8cc634",
   "metadata": {
    "ExecuteTime": {
     "end_time": "2024-04-17T08:29:38.227677393Z",
     "start_time": "2024-04-17T08:29:38.208342662Z"
    }
   },
   "outputs": [
    {
     "name": "stdout",
     "output_type": "stream",
     "text": [
      "<class 'list'>\n",
      "Volvo, Toyota, Porshe, Reanult, Dacia, Hundai, Honda, Ferrari, BMW, Ford, "
     ]
    }
   ],
   "source": [
    "# List of car brands\n",
    "cars = [\"Volvo\", \"Toyota\", \"Porshe\", \"Reanult\", \"Dacia\", \"Hundai\", \"Honda\", \"Ferrari\", \"BMW\", \"Ford\"]\n",
    "print(type(cars))\n",
    "\n",
    "# Print each car brand on the same line\n",
    "for car in cars:\n",
    "    print(f\"{car}\", end=\", \")\n"
   ]
  },
  {
   "cell_type": "code",
   "execution_count": 2,
   "id": "b91fce65",
   "metadata": {
    "ExecuteTime": {
     "end_time": "2024-04-17T08:29:38.242946147Z",
     "start_time": "2024-04-17T08:29:38.210834236Z"
    }
   },
   "outputs": [
    {
     "name": "stdout",
     "output_type": "stream",
     "text": [
      ">> 0. Volvo\n",
      ">> 1. Toyota\n",
      ">> 2. Porshe\n",
      ">> 3. Reanult\n",
      ">> 4. Dacia\n",
      ">> 5. Hundai\n",
      ">> 6. Honda\n",
      ">> 7. Ferrari\n",
      ">> 8. BMW\n",
      ">> 9. Ford\n"
     ]
    }
   ],
   "source": [
    "# Using enumerate() to get index and value\n",
    "for counter, car in enumerate(cars):\n",
    "    print(f\">> {counter}. {car}\")\n"
   ]
  },
  {
   "cell_type": "code",
   "execution_count": 3,
   "id": "4623f7ac",
   "metadata": {
    "ExecuteTime": {
     "end_time": "2024-04-17T08:29:38.285928364Z",
     "start_time": "2024-04-17T08:29:38.229529874Z"
    }
   },
   "outputs": [
    {
     "name": "stdout",
     "output_type": "stream",
     "text": [
      "Pozycja 0 na liście to Volvo\n",
      "Pozycja 1 na liście to Toyota\n",
      "Pozycja 2 na liście to Porshe\n",
      "Pozycja 3 na liście to Reanult\n",
      "Pozycja 4 na liście to Dacia\n",
      "Pozycja 5 na liście to Hundai\n",
      "Pozycja 6 na liście to Honda\n",
      "Pozycja 7 na liście to Ferrari\n",
      "Pozycja 8 na liście to BMW\n",
      "Pozycja 9 na liście to Ford\n"
     ]
    }
   ],
   "source": [
    "# Looping through list using range() - less common approach\n",
    "for i in range(len(cars)):\n",
    "    print(f\"Pozycja {i} na liście to {cars[i]}\")\n"
   ]
  },
  {
   "cell_type": "code",
   "execution_count": 4,
   "id": "3aa682f8",
   "metadata": {
    "ExecuteTime": {
     "end_time": "2024-04-17T08:29:38.286738853Z",
     "start_time": "2024-04-17T08:29:38.272705124Z"
    }
   },
   "outputs": [
    {
     "name": "stdout",
     "output_type": "stream",
     "text": [
      "Pozycja 0 na liście to Volvo\n",
      "Pozycja 1 na liście to Toyota\n",
      "Pozycja 2 na liście to Porshe\n",
      "Pozycja 3 na liście to Reanult\n",
      "Pozycja 4 na liście to Dacia\n",
      "Pozycja 5 na liście to Hundai\n",
      "Pozycja 6 na liście to Honda\n",
      "Pozycja 7 na liście to Ferrari\n",
      "Pozycja 8 na liście to BMW\n",
      "Pozycja 9 na liście to Ford\n"
     ]
    }
   ],
   "source": [
    "# Looping with a counter variable\n",
    "counter = len(cars)\n",
    "for i in range(counter):\n",
    "    print(f\"Pozycja {i} na liście to {cars[i]}\")\n"
   ]
  },
  {
   "cell_type": "code",
   "execution_count": 5,
   "id": "33f1dd56",
   "metadata": {
    "ExecuteTime": {
     "end_time": "2024-04-17T08:29:38.341324947Z",
     "start_time": "2024-04-17T08:29:38.274542008Z"
    }
   },
   "outputs": [
    {
     "name": "stdout",
     "output_type": "stream",
     "text": [
      "Pozycja 0 na liście to Volvo\n",
      "Pozycja 3 na liście to Reanult\n",
      "Pozycja 6 na liście to Honda\n",
      "Pozycja 9 na liście to Ford\n"
     ]
    }
   ],
   "source": [
    "# Skipping items with step in range()\n",
    "jump = 3\n",
    "for i in range(0, counter, jump):\n",
    "    print(f\"Pozycja {i} na liście to {cars[i]}\")\n"
   ]
  },
  {
   "cell_type": "markdown",
   "id": "357164e2",
   "metadata": {},
   "source": [
    "## Pętla while\n",
    "\n",
    "Pętla `while` w Pythonie jest używana do iteracji po bloku kodu tak długo, jak długo wyrażenie testowe (warunek) jest prawdziwe.\n"
   ]
  },
  {
   "cell_type": "code",
   "execution_count": 6,
   "id": "4cec2c1a",
   "metadata": {
    "ExecuteTime": {
     "end_time": "2024-04-17T08:29:38.343054355Z",
     "start_time": "2024-04-17T08:29:38.297830508Z"
    }
   },
   "outputs": [
    {
     "name": "stdout",
     "output_type": "stream",
     "text": [
      "Na pozycji 0 znajduje się Volvo\n",
      "Na pozycji 2 znajduje się Porshe\n",
      "Na pozycji 4 znajduje się Dacia\n",
      "Na pozycji 6 znajduje się Honda\n",
      "Na pozycji 8 znajduje się BMW\n"
     ]
    }
   ],
   "source": [
    "# While loop example\n",
    "i = 0\n",
    "while i < counter:\n",
    "    print(f\"Na pozycji {i} znajduje się {cars[i]}\")\n",
    "    i += 2\n"
   ]
  }
 ],
 "metadata": {
  "kernelspec": {
   "name": "python3",
   "language": "python",
   "display_name": "Python 3 (ipykernel)"
  }
 },
 "nbformat": 4,
 "nbformat_minor": 5
}
