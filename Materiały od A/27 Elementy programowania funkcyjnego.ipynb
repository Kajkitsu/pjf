{
 "cells": [
  {
   "cell_type": "markdown",
   "id": "f8bf07e1",
   "metadata": {},
   "source": [
    "# Elementy programowania funkcyjnego\n",
    "\n",
    "Wprowadzenie do elementów programowania funkcyjnego w Pythonie, w tym funkcje jako obiekty pierwszoklasowe.\n"
   ]
  },
  {
   "cell_type": "markdown",
   "id": "920d2a17",
   "metadata": {},
   "source": [
    "## Funkcje jako obiekty\n",
    "Czym jest funkcja?\n",
    "czy funkcję można przypisać do zmiennej?"
   ]
  },
  {
   "cell_type": "code",
   "outputs": [
    {
     "name": "stdout",
     "output_type": "stream",
     "text": [
      "21\n",
      "m jest typu: <class 'function'>\n",
      "(<class 'object'>,)\n"
     ]
    }
   ],
   "source": [
    "def my_multiply(a, b):\n",
    "    return a * b\n",
    "\n",
    "m = my_multiply\n",
    "print(m(3, 7))\n",
    "print(f\"m jest typu: {type(m)}\")\n",
    "\n",
    "# Sprawdzenie typu bazowego\n",
    "print(type(m).__bases__)\n"
   ],
   "metadata": {
    "collapsed": false,
    "ExecuteTime": {
     "end_time": "2024-04-17T09:02:51.200820668Z",
     "start_time": "2024-04-17T09:02:51.185689866Z"
    }
   },
   "id": "dc87a3b7e57c0f83",
   "execution_count": 5
  },
  {
   "cell_type": "markdown",
   "source": [
    "## Funkcja jest obiektem???"
   ],
   "metadata": {
    "collapsed": false
   },
   "id": "2aba84e1c299efeb"
  },
  {
   "cell_type": "code",
   "outputs": [
    {
     "name": "stdout",
     "output_type": "stream",
     "text": [
      "z jest typu: <class 'int'>\n",
      "Typ bazowy z: (<class 'object'>,)\n",
      "\n",
      "y jest typu: <class 'float'>\n",
      "Typ bazowy y: (<class 'object'>,)\n",
      "\n",
      "x jest typu: <class 'str'>\n",
      "Typ bazowy x: (<class 'object'>,)\n"
     ]
    }
   ],
   "source": [
    "z = 7\n",
    "y = 3.14\n",
    "x = \"asdf\"\n",
    "print(f\"z jest typu: {type(z)}\")\n",
    "print(f\"Typ bazowy z: {type(z).__bases__}\\n\")\n",
    "print(f\"y jest typu: {type(y)}\")\n",
    "print(f\"Typ bazowy y: {type(y).__bases__}\\n\")\n",
    "print(f\"x jest typu: {type(x)}\")\n",
    "print(f\"Typ bazowy x: {type(x).__bases__}\")\n"
   ],
   "metadata": {
    "collapsed": false,
    "ExecuteTime": {
     "end_time": "2024-04-17T09:02:51.252819526Z",
     "start_time": "2024-04-17T09:02:51.204753968Z"
    }
   },
   "id": "7d03c3989c727416",
   "execution_count": 6
  },
  {
   "cell_type": "markdown",
   "source": [
    "Klasą bazową dla _<class ‘function’>_ jest klasa _<class ‘object’>_, ale dla typów wbudowanych mamy\n",
    "identyczną sytuację.\n",
    "W Pythonie funkcja jest obiektem pierwszoklasowym (_first-class citizen_ lub _first-class type_), co\n",
    "oznacza, że ma takie same właściwości jak każdy inny typ wbudowany - czyli jest obiektem."
   ],
   "metadata": {
    "collapsed": false
   },
   "id": "49b40e16e5f15ed2"
  },
  {
   "cell_type": "markdown",
   "source": [
    "## Nieco bardziej rozbudowany przykład"
   ],
   "metadata": {
    "collapsed": false
   },
   "id": "9c68736b85d5b747"
  },
  {
   "cell_type": "code",
   "outputs": [
    {
     "name": "stdout",
     "output_type": "stream",
     "text": [
      "z = 2.142857142857143\n",
      "Błąd wartości: Dzielenie przez ZERO!!!\n",
      "y = None\n"
     ]
    }
   ],
   "source": [
    "def my_complicated(a, b, c):\n",
    "    try:\n",
    "        if c == 0:\n",
    "            raise RuntimeError(\"Dzielenie przez ZERO!!!\")\n",
    "        return (a * b) / c\n",
    "    except RuntimeError as err:\n",
    "        print(f\"Błąd wartości: {str(err)}\")\n",
    "\n",
    "z = my_complicated\n",
    "y = my_complicated\n",
    "print(f\"z = {z(3, 5, 7)}\")\n",
    "print(f\"y = {y(6, 2.2, 0)}\")\n"
   ],
   "metadata": {
    "collapsed": false,
    "ExecuteTime": {
     "end_time": "2024-04-17T09:02:51.253514402Z",
     "start_time": "2024-04-17T09:02:51.252485920Z"
    }
   },
   "id": "fcc7923babcaafc1",
   "execution_count": 7
  },
  {
   "cell_type": "markdown",
   "source": [
    "W Pythonie do zmiennej możemy przypisać funkcję. Tą samą funkcję możemy przypisać do wielu\n",
    "zmiennych, czyli za każdym razem tworzymy referencję.\n",
    "W programowaniu funkcyjnym zmienną przechowującą referencję do funkcji nazywamy domknię-\n",
    "ciem.\n",
    "### Cechy funkcji jako obiektu pierwszoklasowego\n",
    "1. Funkcje są obiektami i mogą być przypisywane do zmiennych (co sprawdziliśmy w powyższych\n",
    "przykładach)\n",
    "2. Funkcje mogą być przechowywane w strukturach danych\n",
    "3. Funkcje mogą być przekazywane do innych funkcji\n",
    "4. Funkcje mogą być zagnieżdżone i zwracane z innych funkcji\n",
    "5. Funkcje mogą przechwytywać stan lokalny (np. jeśli są zagnieżdżone w funkcji)\n",
    "6. Funkcje mogą być definiowane ad hoc\n",
    "7. Obiekty mogą zachowywać się jako funkcje odpowiadają cechom paradygmatu funkcyjnego.\n",
    "Python jest językiem stawiającym duży nacisk na paradygmat funkcyjny."
   ],
   "metadata": {
    "collapsed": false
   },
   "id": "74696345ac395f2d"
  },
  {
   "cell_type": "markdown",
   "source": [
    "## Przechowywanie funkcji w strukturach danych\n",
    "\n",
    "List funkcji"
   ],
   "metadata": {
    "collapsed": false
   },
   "id": "66a0846b1500a41e"
  },
  {
   "cell_type": "code",
   "outputs": [
    {
     "name": "stdout",
     "output_type": "stream",
     "text": [
      "my_list to: <class 'list'>\n",
      "[<function my_f_1 at 0x7bbeb118fb50>, <function my_f_2 at 0x7bbeb118fac0>]\n",
      "Funkcja nr 1: 15, funkcja nr 2: 18\n"
     ]
    }
   ],
   "source": [
    "def my_f_1(a, b):\n",
    "    return a * b\n",
    "def my_f_2(c, d):\n",
    "    return c + d\n",
    "    \n",
    "my_list = [my_f_1, my_f_2]\n",
    "print(f\"my_list to: {type(my_list)}\")\n",
    "print(my_list)\n",
    "print(f\"Funkcja nr 1: {my_list[0](3, 5)}, funkcja nr 2: {my_list[1](7, 11)}\")"
   ],
   "metadata": {
    "collapsed": false,
    "ExecuteTime": {
     "end_time": "2024-04-17T09:02:51.254173113Z",
     "start_time": "2024-04-17T09:02:51.252634526Z"
    }
   },
   "id": "333e280e1c78a39c",
   "execution_count": 8
  },
  {
   "cell_type": "markdown",
   "source": [
    "Słownik funkcji:"
   ],
   "metadata": {
    "collapsed": false
   },
   "id": "102cc35d616123e5"
  },
  {
   "cell_type": "code",
   "outputs": [
    {
     "name": "stdout",
     "output_type": "stream",
     "text": [
      "my_dict to: <class 'dict'>\n",
      "{'func1': <function my_f_1 at 0x7bbeb118fb50>, 'func2': <function my_f_2 at 0x7bbeb118fac0>}\n",
      "Funkcja nr 1: 28, funkcja nr 2: 17\n"
     ]
    }
   ],
   "source": [
    "my_dict = {\"func1\":my_f_1, \"func2\": my_f_2}\n",
    "print(f\"my_dict to: {type(my_dict)}\")\n",
    "print(my_dict)\n",
    "print(f\"Funkcja nr 1: {my_dict['func1'](4, 7)}, funkcja nr 2: {my_dict['func2'](12, 5)}\")"
   ],
   "metadata": {
    "collapsed": false,
    "ExecuteTime": {
     "end_time": "2024-04-17T09:02:51.254609852Z",
     "start_time": "2024-04-17T09:02:51.252697438Z"
    }
   },
   "id": "e19b436cfa0c6e4",
   "execution_count": 9
  }
 ],
 "metadata": {
  "kernelspec": {
   "name": "python3",
   "language": "python",
   "display_name": "Python 3 (ipykernel)"
  }
 },
 "nbformat": 4,
 "nbformat_minor": 5
}
