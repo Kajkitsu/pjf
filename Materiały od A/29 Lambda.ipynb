{
 "cells": [
  {
   "cell_type": "markdown",
   "source": [
    "# Lambda\n",
    "Lambda jest jednolinijkową, anonimową funkcją. Funkcja taka nie posiada nazwy, a przez użycie\n",
    "słowa kluczowego lambda informujemy Pythona, że właśnie tworzymy taką funkcję. Następnie\n",
    "podajmy listę parametrów, które chcemy, aby przyjmowała, a po znaku : definiujemy jej zawartość.\n",
    "Jej najprostsza postać wygląda następująco:\n",
    "lambda <parametry> : <wyrażenie>\n",
    "Przykładowo:\n",
    "lambda x, y: x * y\n",
    "Powyższa funkcja przyjmuje dwa parametry x i y a następnie zwraca ich iloczyn.\n",
    "## Funkcja wyższego rzędu\n",
    "Funkcja wyższego rzędu jest to zwykła funkcja, z tą różnicą, że jako parametr przyjmuje inną\n",
    "funkcję lub zwraca inną funkcję.\n",
    "Przykład przedstawiający działanie funkcji wyższego rzędu:"
   ],
   "metadata": {
    "collapsed": false
   },
   "id": "eef788a0e70ed304"
  },
  {
   "cell_type": "code",
   "outputs": [
    {
     "name": "stdout",
     "output_type": "stream",
     "text": [
      "8\n",
      "49\n"
     ]
    }
   ],
   "source": [
    "def my_function(f, parameter): # funkcja wyższego rzędu\n",
    "    return(f(parameter))\n",
    "\n",
    "def my_increment(a): # zwykła funkcja nr 1\n",
    "    return a + 1\n",
    "\n",
    "def my_exponentation_2(a):# zwykła funkcja nr 2\n",
    "    return a ** 2\n",
    "\n",
    "print(my_function(my_increment, 7))\n",
    "print(my_function(my_exponentation_2, 7))"
   ],
   "metadata": {
    "collapsed": false,
    "ExecuteTime": {
     "end_time": "2024-04-17T09:27:47.517949352Z",
     "start_time": "2024-04-17T09:27:47.516836262Z"
    }
   },
   "id": "84311c7998293e02",
   "execution_count": 1
  },
  {
   "cell_type": "markdown",
   "source": [
    "Zdefiniowaliśmy dwie zwykłe funkcje wyłącznie na potrzeby wywołania funkcji wyższego rzędu. Nie\n",
    "ma w tym żadnego błędu, lecz zapis ten można skrócić przez zastosowanie wyrażenia lambda"
   ],
   "metadata": {
    "collapsed": false
   },
   "id": "afa8e9dc818e37c0"
  },
  {
   "cell_type": "code",
   "outputs": [
    {
     "name": "stdout",
     "output_type": "stream",
     "text": [
      "8\n",
      "49\n"
     ]
    }
   ],
   "source": [
    "def my_function(f, parameter):\n",
    "    return(f(parameter))\n",
    "print(my_function(lambda a: a + 1, 7))\n",
    "print(my_function(lambda a: a ** 2, 7))"
   ],
   "metadata": {
    "collapsed": false,
    "ExecuteTime": {
     "end_time": "2024-04-17T09:27:47.522782205Z",
     "start_time": "2024-04-17T09:27:47.517328307Z"
    }
   },
   "id": "57cecb1f45f52f2d",
   "execution_count": 2
  },
  {
   "cell_type": "markdown",
   "source": [
    "## Praktyczne zastosowanie funcji lambda\n",
    "### Filter\n",
    "Filtrowanie zbioru danych"
   ],
   "metadata": {
    "collapsed": false
   },
   "id": "5156b36e1027856b"
  },
  {
   "cell_type": "code",
   "outputs": [
    {
     "name": "stdout",
     "output_type": "stream",
     "text": [
      "[11, 13, 15, 17, 19]\n"
     ]
    }
   ],
   "source": [
    "my_list = [1, 3, 5, 7, 9, 11, 13, 15, 17, 19]\n",
    "filtered_list = list(filter(lambda a: a > 9, my_list))\n",
    "print(filtered_list)"
   ],
   "metadata": {
    "collapsed": false,
    "ExecuteTime": {
     "end_time": "2024-04-17T09:27:47.523288891Z",
     "start_time": "2024-04-17T09:27:47.517567798Z"
    }
   },
   "id": "383cce6736e392dc",
   "execution_count": 3
  },
  {
   "cell_type": "markdown",
   "source": [
    "### Map\n",
    "Zamiana elementów zbioru"
   ],
   "metadata": {
    "collapsed": false
   },
   "id": "f5b3cf069c36789a"
  },
  {
   "cell_type": "code",
   "outputs": [
    {
     "name": "stdout",
     "output_type": "stream",
     "text": [
      "[1, 27, 125, 343, 729, 1331, 2197, 3375, 4913, 6859]\n"
     ]
    }
   ],
   "source": [
    "my_list = [1, 3, 5, 7, 9, 11, 13, 15, 17, 19]\n",
    "output_list = list(map(lambda a: a ** 3, my_list))\n",
    "print(output_list)"
   ],
   "metadata": {
    "collapsed": false,
    "ExecuteTime": {
     "end_time": "2024-04-17T09:27:47.535189537Z",
     "start_time": "2024-04-17T09:27:47.517768611Z"
    }
   },
   "id": "c34fc063b335b4cf",
   "execution_count": 4
  },
  {
   "cell_type": "markdown",
   "source": [
    "### Reduce"
   ],
   "metadata": {
    "collapsed": false
   },
   "id": "37ca29b18059fd0"
  },
  {
   "cell_type": "code",
   "outputs": [
    {
     "name": "stdout",
     "output_type": "stream",
     "text": [
      "100\n"
     ]
    }
   ],
   "source": [
    "from functools import reduce\n",
    "\n",
    "my_list = [1, 3, 5, 7, 9, 11, 13, 15, 17, 19]\n",
    "output_list_2 = reduce(lambda a, b: a + b, my_list)\n",
    "print(output_list_2)"
   ],
   "metadata": {
    "collapsed": false,
    "ExecuteTime": {
     "end_time": "2024-04-17T09:27:47.544371513Z",
     "start_time": "2024-04-17T09:27:47.525150204Z"
    }
   },
   "id": "a08c7ce6b8d736b7",
   "execution_count": 5
  },
  {
   "cell_type": "markdown",
   "source": [
    "### Instrukcja warunkowa w wyrażeniu lambda \n",
    "Ogólna postać:\n",
    "lambda <parametry>: wartość IF wyrażenie prawdziwe ELSE (…)"
   ],
   "metadata": {
    "collapsed": false
   },
   "id": "64310892a4126431"
  },
  {
   "cell_type": "code",
   "outputs": [
    {
     "name": "stdout",
     "output_type": "stream",
     "text": [
      "Dziecko\n",
      "Nastolatek\n",
      "Dorosły\n"
     ]
    }
   ],
   "source": [
    "maturity = lambda a: 'Dziecko' if a < 10 else ('Nastolatek' if a < 18 else 'Dorosły')\n",
    "print(maturity(8))\n",
    "print(maturity(14))\n",
    "print(maturity(21))"
   ],
   "metadata": {
    "collapsed": false,
    "ExecuteTime": {
     "end_time": "2024-04-17T09:27:47.577536026Z",
     "start_time": "2024-04-17T09:27:47.537587679Z"
    }
   },
   "id": "2dfe8b914c6acd",
   "execution_count": 6
  }
 ],
 "metadata": {
  "kernelspec": {
   "display_name": "Python 3",
   "language": "python",
   "name": "python3"
  },
  "language_info": {
   "codemirror_mode": {
    "name": "ipython",
    "version": 2
   },
   "file_extension": ".py",
   "mimetype": "text/x-python",
   "name": "python",
   "nbconvert_exporter": "python",
   "pygments_lexer": "ipython2",
   "version": "2.7.6"
  }
 },
 "nbformat": 4,
 "nbformat_minor": 5
}
