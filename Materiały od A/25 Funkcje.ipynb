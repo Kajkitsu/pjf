{
 "cells": [
  {
   "cell_type": "markdown",
   "id": "0d1c3ab6",
   "metadata": {},
   "source": [
    "# Funkcje\n",
    "\n",
    "1. Funkcje deﬁniujemy za pomocą słowa kluczowego def\n",
    "2. Pisownia długich nazw w konwencji snake_case - każdy człon nazwy rozpoczyna\n",
    "się małą literą, a człony złożonych nazw łączone są znakiem podkreślenia, np.\n",
    "very_long_function_name\n",
    "3. Wnętrze funkcji jest wcięte - podobnie jak pętli i instrukcji warunkowych\n",
    "\n",
    "Poniższy kod przedstawia funkcję oraz jej wywołanie"
   ]
  },
  {
   "cell_type": "code",
   "outputs": [
    {
     "name": "stdout",
     "output_type": "stream",
     "text": [
      "Hello Python World :-)\n"
     ]
    }
   ],
   "source": [
    "def my_hello_world():\n",
    "    print(\"Hello Python World :-)\")\n",
    "\n",
    "my_hello_world()"
   ],
   "metadata": {
    "collapsed": false,
    "ExecuteTime": {
     "end_time": "2024-04-17T08:34:44.102986642Z",
     "start_time": "2024-04-17T08:34:44.095500663Z"
    }
   },
   "id": "ab48c169e52f9912",
   "execution_count": 2
  },
  {
   "cell_type": "markdown",
   "source": [
    "## Deﬁniowanie prostych funkcji\n",
    "1. Funkcje w Pythonie, podobnie jak w innych językach mogą przyjmować określoną lub\n",
    "nieokreśloną liczbę argumentów.\n",
    "2. Argumenty funkcji podawane są w zapisie pozycyjnym\n",
    "3. Wynik wykonania funkcji zwracany jest przy użyciu instrukcji return"
   ],
   "metadata": {
    "collapsed": false
   },
   "id": "3f03a1d107d9e38a"
  },
  {
   "cell_type": "code",
   "outputs": [
    {
     "name": "stdout",
     "output_type": "stream",
     "text": [
      "27\n"
     ]
    }
   ],
   "source": [
    "def multiply(a, b):\n",
    "    return a * b\n",
    "\n",
    "result = multiply(3, 9)\n",
    "print(result)"
   ],
   "metadata": {
    "collapsed": false,
    "ExecuteTime": {
     "end_time": "2024-04-17T08:34:44.142715270Z",
     "start_time": "2024-04-17T08:34:44.101865721Z"
    }
   },
   "id": "3d6a2b4291b9b795",
   "execution_count": 3
  },
  {
   "cell_type": "markdown",
   "source": [
    "Funkcję można wywołać również za pomocą argumentów nazwanych - w takiej sytuacji ich\n",
    "kolejność nie ma znaczenia"
   ],
   "metadata": {
    "collapsed": false
   },
   "id": "93c549ab54444938"
  },
  {
   "cell_type": "code",
   "outputs": [
    {
     "name": "stdout",
     "output_type": "stream",
     "text": [
      "0.4444444444444444\n"
     ]
    }
   ],
   "source": [
    "def divide(a, b):\n",
    "    return a / b\n",
    "\n",
    "result = divide(b=9, a=4)\n",
    "print(result)"
   ],
   "metadata": {
    "collapsed": false,
    "ExecuteTime": {
     "end_time": "2024-04-17T08:34:44.170792765Z",
     "start_time": "2024-04-17T08:34:44.164570735Z"
    }
   },
   "id": "b0273f83720b87e",
   "execution_count": 4
  },
  {
   "cell_type": "markdown",
   "source": [
    "Wywołanie funkcji z argumentami pozycyjnymi i nazwanymi"
   ],
   "metadata": {
    "collapsed": false
   },
   "id": "59d9ca2c4303bd51"
  },
  {
   "cell_type": "code",
   "outputs": [
    {
     "name": "stdout",
     "output_type": "stream",
     "text": [
      "1.2\n"
     ]
    }
   ],
   "source": [
    "def complicated_divide(a, b, c):\n",
    "    return (a * b) / c\n",
    "\n",
    "result = complicated_divide(2, 3, 5)\n",
    "print(result)"
   ],
   "metadata": {
    "collapsed": false,
    "ExecuteTime": {
     "end_time": "2024-04-17T08:34:44.171350261Z",
     "start_time": "2024-04-17T08:34:44.164893591Z"
    }
   },
   "id": "3db1fe91671bf10e",
   "execution_count": 5
  },
  {
   "cell_type": "code",
   "outputs": [
    {
     "name": "stdout",
     "output_type": "stream",
     "text": [
      "3.3333333333333335\n"
     ]
    }
   ],
   "source": [
    "result = complicated_divide(2, c=3, b=5)\n",
    "print(result)"
   ],
   "metadata": {
    "collapsed": false,
    "ExecuteTime": {
     "end_time": "2024-04-17T08:34:44.186444145Z",
     "start_time": "2024-04-17T08:34:44.165025259Z"
    }
   },
   "id": "6dd51d3dbba1414",
   "execution_count": 6
  },
  {
   "cell_type": "markdown",
   "source": [
    "Kolejność wykorzystania argumentów pozycyjnych oraz nazwanych jest istotna - argument\n",
    "nazwany nie może poprzedzać argumentu pozycyjnego"
   ],
   "metadata": {
    "collapsed": false
   },
   "id": "7cb46c20dd8c31fa"
  },
  {
   "cell_type": "code",
   "outputs": [
    {
     "ename": "SyntaxError",
     "evalue": "positional argument follows keyword argument (358301295.py, line 4)",
     "output_type": "error",
     "traceback": [
      "\u001B[0;36m  Cell \u001B[0;32mIn[7], line 4\u001B[0;36m\u001B[0m\n\u001B[0;31m    result = complicated_divide(c=2, 3, 5)\u001B[0m\n\u001B[0m                                         ^\u001B[0m\n\u001B[0;31mSyntaxError\u001B[0m\u001B[0;31m:\u001B[0m positional argument follows keyword argument\n"
     ]
    }
   ],
   "source": [
    "# To spowoduje błąd składni (SyntaxError)\n",
    "def complicated_divide(a, b, c):\n",
    "    return (a * b) / c\n",
    "result = complicated_divide(c=2, 3, 5)\n",
    "print(result)"
   ],
   "metadata": {
    "collapsed": false,
    "ExecuteTime": {
     "end_time": "2024-04-17T08:34:44.187472443Z",
     "start_time": "2024-04-17T08:34:44.165118798Z"
    }
   },
   "id": "2e4acf9c597516dd",
   "execution_count": 7
  }
 ],
 "metadata": {
  "kernelspec": {
   "name": "python3",
   "language": "python",
   "display_name": "Python 3 (ipykernel)"
  }
 },
 "nbformat": 4,
 "nbformat_minor": 5
}
