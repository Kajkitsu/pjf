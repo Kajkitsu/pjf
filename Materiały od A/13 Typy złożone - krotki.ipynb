{
 "cells": [
  {
   "cell_type": "markdown",
   "source": [
    "# Krotka (ang. tupla)\n",
    "Krotka jest jednym z czterech wbudowanych typów przeznaczonych do przechowywania\n",
    "kolekcji danych - pozostałe typy to:\n",
    "1. listy (List),\n",
    "2. zbiory (Set),\n",
    "3. słowniki (Dictionary)\n",
    "Krotka jest uporządkowanum ciągiem wartości będącym odpowiednikiem matematycznej\n",
    "n-ki (przykładem uporządkowanej pary są współrzędne punktu na płaszczyźnie)"
   ],
   "metadata": {
    "collapsed": false
   },
   "id": "fbad81182484e4bc"
  },
  {
   "cell_type": "code",
   "outputs": [
    {
     "name": "stdout",
     "output_type": "stream",
     "text": [
      "<class 'tuple'>\n",
      "<class 'tuple'>\n",
      "<class 'tuple'>\n",
      "<class 'tuple'>\n"
     ]
    }
   ],
   "source": [
    "car = (\"Volvo\", \"Toyota\", \"Porshe\", \"Reanult\", \"Dacia\", \"Hundai\", \"Honda\")\n",
    "car2 = ()\n",
    "#możliwe, ale to jest bez sensu\n",
    "car3 = tuple()\n",
    "#możliwe, ale to również jest bez sensu\n",
    "moto = tuple((\"Ducati\", \"Suzuki\", \"Yamaha\"))\n",
    "print(f\"{type(car)}\")\n",
    "print(f\"{type(car2)}\")\n",
    "print(f\"{type(car3)}\")\n",
    "print(f\"{type(moto)}\")"
   ],
   "metadata": {
    "collapsed": false,
    "ExecuteTime": {
     "end_time": "2024-04-10T08:08:31.100632920Z",
     "start_time": "2024-04-10T08:08:31.099682966Z"
    }
   },
   "id": "51e3d8cda4ecd625",
   "execution_count": 1
  },
  {
   "cell_type": "markdown",
   "source": [
    "### Cechy krotki\n",
    "1. uporządkowanie - oznacza, że jej elementy posiadają określony porządek, który nie\n",
    "może być zmodyﬁkowany\n",
    "2. niezmienialność (niemutowalność) - oznacza, że nie mamy możliwości modyﬁkacji\n",
    "zawartości krotki, dodania nowego lub usunięcia jej istniejącego elementu, który zostął\n",
    "określony w momencie jej utworzenia\n",
    "3. duplikaty - ponieważ krotki są indeksowane, możliwe jest przechowywanie duplikatów\n",
    "wartości"
   ],
   "metadata": {
    "collapsed": false
   },
   "id": "49ce40d37f6800a3"
  },
  {
   "cell_type": "code",
   "outputs": [
    {
     "name": "stdout",
     "output_type": "stream",
     "text": [
      "<class 'tuple'>\n",
      "car = ('Volvo', 'Toyota', 'Porshe', 'Reanult', 'Toyota', 'Volvo')\n",
      "Toyota\n"
     ]
    }
   ],
   "source": [
    "car = (\"Volvo\", \"Toyota\", \"Porshe\", \"Reanult\", \"Toyota\", \"Volvo\")\n",
    "print(f\"{type(car)}\")\n",
    "print(f\"car = {car}\")\n",
    "print(car[1])"
   ],
   "metadata": {
    "collapsed": false,
    "ExecuteTime": {
     "end_time": "2024-04-10T08:08:31.101581760Z",
     "start_time": "2024-04-10T08:08:31.100046845Z"
    }
   },
   "id": "8e85870756e7dc03",
   "execution_count": 2
  },
  {
   "cell_type": "markdown",
   "source": [
    "### Rozmiar krotki\n",
    "Dostępny jest przy użyciu funkcji len(myTuple)"
   ],
   "metadata": {
    "collapsed": false
   },
   "id": "12de80acac6b42b3"
  },
  {
   "cell_type": "code",
   "outputs": [
    {
     "name": "stdout",
     "output_type": "stream",
     "text": [
      "6\n"
     ]
    }
   ],
   "source": [
    "car = (\"Volvo\", \"Toyota\", \"Porshe\", \"Reanult\", \"Toyota\", \"Volvo\")\n",
    "print(f\"{len(car)}\")"
   ],
   "metadata": {
    "collapsed": false,
    "ExecuteTime": {
     "end_time": "2024-04-10T08:08:31.114689115Z",
     "start_time": "2024-04-10T08:08:31.100196436Z"
    }
   },
   "id": "26feca6e521d761a",
   "execution_count": 3
  },
  {
   "cell_type": "markdown",
   "source": [
    "### Krotka z pojedynczym elementem?\n",
    "Możliwe jest utworzenie krotki z pojedynczym elementem - w tym celu należy skorzystać z symbolu przecinka"
   ],
   "metadata": {
    "collapsed": false
   },
   "id": "6b7650c0d7add25"
  },
  {
   "cell_type": "code",
   "outputs": [
    {
     "name": "stdout",
     "output_type": "stream",
     "text": [
      "<class 'tuple'>\n",
      "('Bugatti',)\n",
      "Bugatti\n"
     ]
    }
   ],
   "source": [
    "superCar = (\"Bugatti\",)\n",
    "print(f\"{type(superCar)}\")\n",
    "print(f\"{superCar}\")\n",
    "print(f\"{superCar[0]}\")"
   ],
   "metadata": {
    "collapsed": false,
    "ExecuteTime": {
     "end_time": "2024-04-10T08:08:31.158823645Z",
     "start_time": "2024-04-10T08:08:31.114432342Z"
    }
   },
   "id": "27ec253f438d980d",
   "execution_count": 4
  },
  {
   "cell_type": "markdown",
   "source": [
    "### Przykłady krotek"
   ],
   "metadata": {
    "collapsed": false
   },
   "id": "644b657bb29749fe"
  },
  {
   "cell_type": "code",
   "outputs": [
    {
     "name": "stdout",
     "output_type": "stream",
     "text": [
      "krotka1 to <class 'tuple'>, krotka1 = ('Volvo', 'Toyota', 'Porshe')\n",
      "krotka2 to <class 'tuple'>, krotka2 = (1, 3, 5, 7, 9)\n",
      "krotka3 to <class 'tuple'>, krotka3 = (True, False, False, True)\n",
      "krotka4 to <class 'tuple'>, krotka4 = (3, 'Volvo', [True, False, 'parking'], ('as', 3), 'Volvo')\n",
      "True\n",
      "False\n",
      "krotka4 to <class 'tuple'>, krotka4 = (3, 'Volvo', [False, False, 'parking'], ('as', 3), 'Volvo')\n"
     ]
    }
   ],
   "source": [
    "krotka1 = (\"Volvo\", \"Toyota\", \"Porshe\")\n",
    "krotka2 = (1, 3, 5, 7, 9)\n",
    "krotka3 = (True, False, False, True)\n",
    "krotka4 = (3, \"Volvo\", [True, False, \"parking\"], (\"as\", 3), \"Volvo\")\n",
    "print(f\"krotka1 to {type(krotka1)}, krotka1 = {krotka1}\")\n",
    "print(f\"krotka2 to {type(krotka2)}, krotka2 = {krotka2}\")\n",
    "print(f\"krotka3 to {type(krotka3)}, krotka3 = {krotka3}\")\n",
    "print(f\"krotka4 to {type(krotka4)}, krotka4 = {krotka4}\")\n",
    "print(krotka4[2][0])\n",
    "krotka4[2][0] = False\n",
    "print(krotka4[2][0])\n",
    "print(f\"krotka4 to {type(krotka4)}, krotka4 = {krotka4}\")"
   ],
   "metadata": {
    "collapsed": false,
    "ExecuteTime": {
     "end_time": "2024-04-10T08:08:31.159940427Z",
     "start_time": "2024-04-10T08:08:31.131453103Z"
    }
   },
   "id": "5b6a4b42fcfd8ef0",
   "execution_count": 5
  },
  {
   "cell_type": "markdown",
   "source": [
    "### Dostęp do elementów krotki"
   ],
   "metadata": {
    "collapsed": false
   },
   "id": "c03d18e55b3e78be"
  },
  {
   "cell_type": "code",
   "outputs": [
    {
     "name": "stdout",
     "output_type": "stream",
     "text": [
      "Element nr 3 jest typu <class 'tuple'> i ma wartość ('as', 3)\n"
     ]
    }
   ],
   "source": [
    "krotka4 = (3, \"Volvo\", [True, False, \"parking\"], (\"as\", 3), \"Volvo\")\n",
    "myId = 3\n",
    "print(f\"Element nr {myId} jest typu {type(krotka4[myId])} i ma wartość {krotka4[myId]}\")"
   ],
   "metadata": {
    "collapsed": false,
    "ExecuteTime": {
     "end_time": "2024-04-10T08:08:31.191454676Z",
     "start_time": "2024-04-10T08:08:31.147419242Z"
    }
   },
   "id": "35a1db8d84a171a2",
   "execution_count": 6
  }
 ],
 "metadata": {
  "kernelspec": {
   "display_name": "Python 3",
   "language": "python",
   "name": "python3"
  },
  "language_info": {
   "codemirror_mode": {
    "name": "ipython",
    "version": 2
   },
   "file_extension": ".py",
   "mimetype": "text/x-python",
   "name": "python",
   "nbconvert_exporter": "python",
   "pygments_lexer": "ipython2",
   "version": "2.7.6"
  }
 },
 "nbformat": 4,
 "nbformat_minor": 5
}
