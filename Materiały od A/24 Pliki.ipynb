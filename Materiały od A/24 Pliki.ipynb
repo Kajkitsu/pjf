{
 "cells": [
  {
   "cell_type": "markdown",
   "id": "c1309a33",
   "metadata": {},
   "source": [
    "# Pliki\n",
    "\n",
    "Otwieranie pliku.\n",
    "Najprostsza metoda:\n",
    "\n",
    "W argumencie funkcji _open()_ podajemy pełną ścieżkę do pliku lub ścieżkę względną\n",
    "(od miejsca w którym znajduje się uruchamiana aplikacja)"
   ]
  },
  {
   "cell_type": "code",
   "outputs": [
    {
     "name": "stdout",
     "output_type": "stream",
     "text": [
      "<class '_io.TextIOWrapper'>\n"
     ]
    }
   ],
   "source": [
    "# Opening a file\n",
    "myFile = open(\"test_01.txt\")\n",
    "print(f\"{type(myFile)}\")\n",
    "myFile.close()"
   ],
   "metadata": {
    "collapsed": false,
    "ExecuteTime": {
     "end_time": "2024-04-17T08:39:39.330575499Z",
     "start_time": "2024-04-17T08:39:39.304092196Z"
    }
   },
   "id": "d3b9ee98813b5105",
   "execution_count": 3
  },
  {
   "cell_type": "markdown",
   "source": [
    "Tryby otwarcia pliku:\n",
    "1. *r8 - otwarcie w trybie do odczytu (domyślny tryb otwarcia pliku)\n",
    "2. *w* - otwarcie pliku do zapisu, jeżeli plik nie istnieje - zostanie utworzony, jeżeli istnieje -\n",
    "zawartośc zostanie zniszczona\n",
    "3. *x* - otwarcie w trybie exclusive creation - jeżeli plik nie istnieje - zostanie utworzony,\n",
    "jeżeli istnieje - operacja zakończy się błędem\n",
    "4. *a* - otwarcie pliku w trybie dodawania, bez usuwania zastanej zawartości pliku, jeżeli\n",
    "plik nie istnieje - zostanie utworzony\n",
    "5. *t* - otwarcie pliku w trybie tekstowym (domyślny tryb otwarcia pliku)\n",
    "6. *b* - otwarcie pliku w trybie binarnym\n",
    "7. *+* - operator łączenia trybu otwarcia pliku (np. r+w)\n",
    "Dla systemów klasy Windows domyślną stroną kodową dla plików tekstowych jest cp1252,\n",
    "a dla systemów klasy Linux domyślną stroną kodową jest utf-8, zaleca się otwieranie\n",
    "plików tekstowych przy użyciu poniższej składni:"
   ],
   "metadata": {
    "collapsed": false
   },
   "id": "a7baedad191f4607"
  },
  {
   "cell_type": "code",
   "outputs": [
    {
     "name": "stdout",
     "output_type": "stream",
     "text": [
      "<class 'list'>\n",
      "['Napis testowy nr 0\\n', 'Napis testowy nr 1\\n', 'Napis testowy nr 2\\n', 'Napis testowy nr 3\\n', 'Napis testowy nr 4\\n']\n"
     ]
    }
   ],
   "source": [
    "myFile = open(\"test_02.txt\", mode=\"r\", encoding='utf-8')\n",
    "allMyLines = myFile.readlines()\n",
    "print(f\"{type(allMyLines)}\")\n",
    "print(f\"{allMyLines}\")\n"
   ],
   "metadata": {
    "collapsed": false,
    "ExecuteTime": {
     "end_time": "2024-04-17T08:39:39.350109566Z",
     "start_time": "2024-04-17T08:39:39.330899490Z"
    }
   },
   "id": "39bf50f4b43e52c9",
   "execution_count": 4
  },
  {
   "cell_type": "markdown",
   "source": [
    "### Zapis do pliku"
   ],
   "metadata": {
    "collapsed": false
   },
   "id": "e42d837323251564"
  },
  {
   "cell_type": "code",
   "outputs": [
    {
     "name": "stdout",
     "output_type": "stream",
     "text": [
      "Napis testowy nr 0\n",
      "Napis testowy nr 1\n",
      "Napis testowy nr 2\n",
      "Napis testowy nr 3\n",
      "Napis testowy nr 4\n"
     ]
    }
   ],
   "source": [
    "# Writing to a file\n",
    "myFile = open(\"test_02.txt\", mode=\"w\", encoding='utf-8')\n",
    "for i in range(5):\n",
    "    myFile.write(f\"Napis testowy nr {i}\\n\")\n",
    "myFile.close()\n",
    "with open(\"test_02.txt\", mode=\"r\", encoding='utf-8') as myFile:\n",
    "    for line in myFile:\n",
    "        print(f\"{line.strip()}\")"
   ],
   "metadata": {
    "collapsed": false,
    "ExecuteTime": {
     "end_time": "2024-04-17T08:39:39.350498997Z",
     "start_time": "2024-04-17T08:39:39.348707481Z"
    }
   },
   "id": "c06c61c0f2d3258c",
   "execution_count": 5
  },
  {
   "cell_type": "markdown",
   "source": [
    "### Czytanie zawartości pliku"
   ],
   "metadata": {
    "collapsed": false
   },
   "id": "1bb649ba28214947"
  },
  {
   "cell_type": "code",
   "outputs": [
    {
     "name": "stdout",
     "output_type": "stream",
     "text": [
      "test 1\n",
      "test 2\n",
      "test 3\n",
      "test 4\n",
      "test 5\n",
      "test 6\n",
      "test 7\n",
      "test 8\n",
      "test 9\n",
      "test 10\n",
      "test 11\n",
      "test 12\n",
      "test 13\n",
      "test 14\n",
      "test 15\n",
      "test 16\n",
      "test 17\n",
      "test 18\n",
      "test 19\n",
      "test 20\n",
      "test 21\n",
      "test 22\n",
      "test 23\n",
      "test 24\n",
      "test 25\n",
      "test 26\n",
      "test 27\n",
      "test 28\n",
      "test 29\n"
     ]
    }
   ],
   "source": [
    "# Reading from a file\n",
    "myFile = open(\"test_01.txt\", mode=\"r\", encoding='utf-8')\n",
    "for line in myFile:\n",
    "    print(f\"{line.strip()}\")\n",
    "myFile.close()"
   ],
   "metadata": {
    "collapsed": false,
    "ExecuteTime": {
     "end_time": "2024-04-17T08:39:39.394913331Z",
     "start_time": "2024-04-17T08:39:39.351931383Z"
    }
   },
   "id": "61f47ea9373983bd",
   "execution_count": 6
  },
  {
   "cell_type": "code",
   "outputs": [
    {
     "name": "stdout",
     "output_type": "stream",
     "text": [
      "Napis testowy nr 0\n",
      "\n",
      "Napis testowy nr 1\n",
      "Napis testowy nr 2\n"
     ]
    }
   ],
   "source": [
    "# Reading lines\n",
    "myFile = open(\"test_02.txt\", mode=\"r\", encoding='utf-8')\n",
    "myLine1 = myFile.readline()\n",
    "myLine2 = myFile.readline().strip()\n",
    "myLine3 = myFile.readline()\n",
    "print(f\"{myLine1}\")\n",
    "print(f\"{myLine2}\")\n",
    "print(f\"{myLine3}\")"
   ],
   "metadata": {
    "collapsed": false,
    "ExecuteTime": {
     "end_time": "2024-04-17T08:39:39.395307654Z",
     "start_time": "2024-04-17T08:39:39.392611502Z"
    }
   },
   "id": "5d8156d9b359db63",
   "execution_count": 7
  }
 ],
 "metadata": {
  "kernelspec": {
   "name": "python3",
   "language": "python",
   "display_name": "Python 3 (ipykernel)"
  }
 },
 "nbformat": 4,
 "nbformat_minor": 5
}
