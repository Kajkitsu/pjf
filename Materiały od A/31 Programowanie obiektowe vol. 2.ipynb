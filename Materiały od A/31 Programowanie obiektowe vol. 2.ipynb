{
 "cells": [
  {
   "cell_type": "markdown",
   "source": [
    "# Programowanie obiektowe 2\n",
    "### Metaklasa \n",
    "Metaklasa jest klasą, której obiekty są klasami (metaklasa służy do tworzenia klas)\n",
    "Każda klasa jest instancją pewnej metaklasy. Domyślnie, dla wszystkich klas, metaklasą jest klasa\n",
    "o nazwie type\n",
    "W metaklasie można zdefiniować specjalne metody, które będą miały wpływ na proces tworzenia\n",
    "klas. Najważniejszą z tych metod jest metoda \\_\\_new\\_\\_(), która zawsze jest wykonywana przed\n",
    "metodą \\_\\_init\\_\\_(). wynika to z tego, iż metoda \\_\\_new\\_\\_() tworzy obiekt klasy, a metoda\n",
    "\\_\\_init\\_\\_() inicjalizuje ten obiekt"
   ],
   "metadata": {
    "collapsed": false
   },
   "id": "57589393fa5ea8a4"
  },
  {
   "cell_type": "code",
   "outputs": [
    {
     "name": "stdout",
     "output_type": "stream",
     "text": [
      "Hello programmer\n"
     ]
    }
   ],
   "source": [
    "class MyMetaClass(type):\n",
    "    def __new__(cls, name, bases, attrs): # Modyfikacja atrybutów lub metody przed utworzeniem klasy\n",
    "        attrs['custom_attr'] = 'Hello programmer'\n",
    "        return super().__new__(cls, name, bases, attrs)\n",
    "    \n",
    "class ClassExample(metaclass=MyMetaClass):\n",
    "    pass\n",
    "\n",
    "przyklad = ClassExample()\n",
    "print(przyklad.custom_attr)"
   ],
   "metadata": {
    "collapsed": false,
    "ExecuteTime": {
     "end_time": "2024-04-17T10:20:19.901302018Z",
     "start_time": "2024-04-17T10:20:19.900496242Z"
    }
   },
   "id": "1e9217493f070d46",
   "execution_count": 1
  },
  {
   "cell_type": "markdown",
   "source": [
    "MyMetaClass jest metaklasą dziedziczącą po po klasie type.\n",
    "\n",
    "W metodzie \\_\\_new\\_\\_() metaklasy możemy modyfikować atrybuty lub metody klasy przed jej\n",
    "utworzeniem. Następnie tworzymy klasę ClassExample z użyciem metaklasy MyMetaClass przez\n",
    "przekazanie argumentu metaclass=MyMetaClass. Powoduje to, że każda instancja klasy ClassEx-\n",
    "ample będzie posiadała atrybut custom_attr o wartości Hello programmer"
   ],
   "metadata": {
    "collapsed": false
   },
   "id": "bcec63cf78485f3b"
  },
  {
   "cell_type": "markdown",
   "source": [
    "## Dziedziczenie"
   ],
   "metadata": {
    "collapsed": false
   },
   "id": "d3474a1cf7d577e1"
  },
  {
   "cell_type": "code",
   "outputs": [
    {
     "name": "stdout",
     "output_type": "stream",
     "text": [
      "x = 3, y = 5\n",
      "x = 103, y = 205\n",
      "x = -5, y = 12, name = Named Point p2\n",
      "x = -15, y = 16, name = Moved Named Point p2\n"
     ]
    }
   ],
   "source": [
    "class Point:\n",
    "    def __init__(self, a, b):\n",
    "        self.x = a\n",
    "        self.y = b\n",
    "        \n",
    "    def __str__(self):\n",
    "        return f\"x = {self.x}, y = {self.y}\"\n",
    "    \n",
    "    def my_move(self, vx, vy):\n",
    "        self.x += vx\n",
    "        self.y += vy\n",
    "        \n",
    "class NamedPoint(Point):\n",
    "    def __init__(self, a, b, name):\n",
    "        super().__init__(a, b)\n",
    "        self.mn = name\n",
    "        \n",
    "    def __str__(self):\n",
    "        return f\"x = {self.x}, y = {self.y}, name = {self.mn}\"\n",
    "    \n",
    "    def my_move(self, vx, vy, new_name):\n",
    "        self.x += vx\n",
    "        self.y += vy\n",
    "        self.mn = new_name\n",
    "        \n",
    "if __name__ == '__main__':\n",
    "    p1 = Point(3, 5)\n",
    "    print(f\"{p1.__str__()}\")\n",
    "    p1.my_move(100, 200)\n",
    "    print(f\"{p1.__str__()}\")\n",
    "    p2 = NamedPoint(-5, 12, 'Named Point p2')\n",
    "    print(f\"{p2.__str__()}\")\n",
    "    p2.my_move(-10, 4, 'Moved Named Point p2')\n",
    "    print(f\"{p2.__str__()}\")"
   ],
   "metadata": {
    "collapsed": false,
    "ExecuteTime": {
     "end_time": "2024-04-17T10:20:19.906435328Z",
     "start_time": "2024-04-17T10:20:19.900756761Z"
    }
   },
   "id": "4d13fe36997643ce",
   "execution_count": 2
  },
  {
   "cell_type": "markdown",
   "source": [
    "### Sloty\n",
    "“Dodanie” nowego atrybutu dla obiektu - przykład (antyprzykład?)"
   ],
   "metadata": {
    "collapsed": false
   },
   "id": "5232b35688d12d0c"
  },
  {
   "cell_type": "code",
   "outputs": [
    {
     "name": "stdout",
     "output_type": "stream",
     "text": [
      "Value 999\n"
     ]
    }
   ],
   "source": [
    "class MyExample:\n",
    "    def __init__(self):\n",
    "        pass\n",
    "example_obj = MyExample()\n",
    "example_obj.new_attr = 'Value 999'\n",
    "print(example_obj.new_attr)"
   ],
   "metadata": {
    "collapsed": false,
    "ExecuteTime": {
     "end_time": "2024-04-17T10:20:19.959540399Z",
     "start_time": "2024-04-17T10:20:19.900873747Z"
    }
   },
   "id": "581b3717d1d813cc",
   "execution_count": 3
  },
  {
   "cell_type": "markdown",
   "source": [
    "W języku Python \\_\\_slots\\_\\_ to mechanizm umożliwiający kontrolę nad atrybutami i optymalizację pamięci dla instancji klasy. Kiedy używamy \\_\\_slots\\_\\_, deklarujemy listę atrybutów, które mogą być używane w instancjach danej klasy. Jest to alternatywna forma przechowywania atrybutów w porównaniu do standardowego słownika \\_\\_dict\\_\\_. \n",
    "\n",
    "Korzystanie z \\_\\_slots\\_\\_ ma kilka korzyści:\n",
    "\n",
    "1. Redukcja zużycia pamięci: Zamiast przechowywania atrybutów w słowniku dla każdej instancji, atrybuty są przechowywane bezpośrednio w tablicy, co prowadzi do mniejszego zużycia pamięci.\n",
    "2. Przyspieszenie dostępu do atrybutów - dostęp do atrybutów w \\_\\_slots\\_\\_ jest zazwyczaj szybszy niż dostęp do atrybutów w słowniku \\_\\_dict\\_\\_, ponieważ nie ma potrzeby przeszukiwania słownika.\n",
    "3. Ograniczenie możliwości dodawania nowych atrybutów - jeśli zdefiniujmy __slots__ dla klasy, to instancje tej klasy będą miały tylko te atrybuty, które zostały zdefiniowane. Nie będzie możliwości dodawania nowych atrybutów dynamicznie."
   ],
   "metadata": {
    "collapsed": false
   },
   "id": "cda4766375e377c9"
  },
  {
   "cell_type": "code",
   "outputs": [
    {
     "name": "stdout",
     "output_type": "stream",
     "text": [
      "Value 1\n",
      "Value 2\n"
     ]
    }
   ],
   "source": [
    "class MyExample:\n",
    "    __slots__ = ['attr_1', 'attr_2']\n",
    "    def __init__(self):\n",
    "        self.attr_1 = 'Value 1'\n",
    "        self.attr_2 = 'Value 2'\n",
    "example_obj = MyExample()\n",
    "print(example_obj.attr_1)\n",
    "print(example_obj.attr_2)\n",
    "# example_obj.new_attr = 'Value 999'"
   ],
   "metadata": {
    "collapsed": false,
    "ExecuteTime": {
     "end_time": "2024-04-17T10:20:19.960750979Z",
     "start_time": "2024-04-17T10:20:19.921496701Z"
    }
   },
   "id": "6f78fbb7e557ee98",
   "execution_count": 4
  }
 ],
 "metadata": {
  "kernelspec": {
   "display_name": "Python 3",
   "language": "python",
   "name": "python3"
  },
  "language_info": {
   "codemirror_mode": {
    "name": "ipython",
    "version": 2
   },
   "file_extension": ".py",
   "mimetype": "text/x-python",
   "name": "python",
   "nbconvert_exporter": "python",
   "pygments_lexer": "ipython2",
   "version": "2.7.6"
  }
 },
 "nbformat": 4,
 "nbformat_minor": 5
}
