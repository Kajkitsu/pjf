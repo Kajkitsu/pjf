{
 "cells": [
  {
   "cell_type": "markdown",
   "id": "d34aec02",
   "metadata": {},
   "source": [
    "# Wyjątki\n",
    "\n",
    "Obsługa i rzucanie wyjątków jest dość podobna do Javy - różnicą są słowa kluczowe:\n",
    "• zamiast catch w Pythonie jest except,\n",
    "• zamiast throw w Pythonie jest raise.\n",
    "Wyjątki jako zmienne wyłapuje się z wykorzystaniem słowa kluczowego as.\n",
    "Pełna dokumentacja (https://docs.python.org/3/library/exceptions.html) wyjątków"
   ]
  },
  {
   "cell_type": "markdown",
   "id": "78cebbdc",
   "metadata": {},
   "source": [
    "## Obsługa wbudowanych wyjątków\n",
    "Aby przechwycić wyjątek należy użyć instrukcji _try_ - _except_\n",
    "Przechwytywanie wbudowanych wyjątków (_ZeroDivisionError_)"
   ]
  },
  {
   "cell_type": "code",
   "outputs": [
    {
     "name": "stdout",
     "output_type": "stream",
     "text": [
      "UWAGA: division by zero\n"
     ]
    }
   ],
   "source": [
    "a = 2\n",
    "b = 0\n",
    "try:\n",
    "    print(a / b)\n",
    "except Exception as myErr:\n",
    "    print(f\"UWAGA: {myErr}\")\n"
   ],
   "metadata": {
    "collapsed": false,
    "ExecuteTime": {
     "end_time": "2024-04-17T08:36:52.519426497Z",
     "start_time": "2024-04-17T08:36:52.473795591Z"
    }
   },
   "id": "272594e597443914",
   "execution_count": 21
  },
  {
   "cell_type": "markdown",
   "source": [
    "## Samodzielne rzucanie wyjątków"
   ],
   "metadata": {
    "collapsed": false
   },
   "id": "373b91fb61841a8c"
  },
  {
   "cell_type": "code",
   "outputs": [
    {
     "name": "stdout",
     "output_type": "stream",
     "text": [
      "UWAGA: Nie mozna dzielic przez zero\n"
     ]
    }
   ],
   "source": [
    "try:\n",
    "    if b == 0:\n",
    "        raise RuntimeError(\"Nie mozna dzielic przez zero\")\n",
    "    print(a / b)\n",
    "except RuntimeError as myErr:\n",
    "    print(f\"UWAGA: {myErr}\")\n"
   ],
   "metadata": {
    "collapsed": false,
    "ExecuteTime": {
     "end_time": "2024-04-17T08:36:52.521853265Z",
     "start_time": "2024-04-17T08:36:52.519777169Z"
    }
   },
   "id": "2dab7395f65daf7b",
   "execution_count": 22
  },
  {
   "cell_type": "markdown",
   "source": [
    "## Obsługa wielu wyjątków i pełna konstrukcja"
   ],
   "metadata": {
    "collapsed": false
   },
   "id": "be0f307c98da920"
  },
  {
   "cell_type": "code",
   "outputs": [
    {
     "name": "stdout",
     "output_type": "stream",
     "text": [
      "Błąd wartości: Nie mozna dzielic przez zero\n",
      "Operacja zakończona\n"
     ]
    }
   ],
   "source": [
    "try:\n",
    "    a = 7\n",
    "    b = 0\n",
    "    if not isinstance(a, int) or not isinstance(b, int):\n",
    "        raise TypeError(\"Składniki dzielenia muszą być liczbami całkowitymi\")\n",
    "    elif b == 0:\n",
    "        raise RuntimeError(\"Nie mozna dzielic przez zero\")\n",
    "    else:\n",
    "        print(a / b)\n",
    "except RuntimeError as myErr:\n",
    "    print(f\"Błąd wartości: {str(myErr)}\")\n",
    "except TypeError as myErr:\n",
    "    print(f\"Błąd typu: {str(myErr)}\")\n",
    "finally:\n",
    "    print(\"Operacja zakończona\")\n"
   ],
   "metadata": {
    "collapsed": false,
    "ExecuteTime": {
     "end_time": "2024-04-17T08:36:52.592407659Z",
     "start_time": "2024-04-17T08:36:52.524388005Z"
    }
   },
   "id": "801ee98517d6f385",
   "execution_count": 23
  },
  {
   "cell_type": "markdown",
   "source": [
    "## Obsługa wyjątków w plikach\n",
    "Python posiada bardziej eleganckie sposoby dbania o zasoby - instrukcja _with_"
   ],
   "metadata": {
    "collapsed": false
   },
   "id": "dc45a03bc62b1767"
  },
  {
   "cell_type": "code",
   "outputs": [
    {
     "name": "stdout",
     "output_type": "stream",
     "text": [
      "test 1\n",
      "test 2\n",
      "test 3\n",
      "test 4\n",
      "test 5\n",
      "test 6\n",
      "test 7\n",
      "test 8\n",
      "test 9\n",
      "test 10\n",
      "test 11\n",
      "test 12\n",
      "Uwaga: Znaleziono niebezpieczny kod\n"
     ]
    }
   ],
   "source": [
    "with open(\"test_01.txt\", \"r\") as myFile:\n",
    "    try:\n",
    "        for line in myFile:\n",
    "            if \"test 13\" in line:\n",
    "                raise Warning(\"Znaleziono niebezpieczny kod\")\n",
    "            else:\n",
    "                print(f\"{line.strip()}\")\n",
    "    except Warning as myWarn:\n",
    "        print(f\"Uwaga: {myWarn}\")\n"
   ],
   "metadata": {
    "collapsed": false,
    "ExecuteTime": {
     "end_time": "2024-04-17T08:36:52.592869408Z",
     "start_time": "2024-04-17T08:36:52.568602187Z"
    }
   },
   "id": "ea0b6229572ddfe",
   "execution_count": 24
  }
 ],
 "metadata": {
  "kernelspec": {
   "name": "python3",
   "language": "python",
   "display_name": "Python 3 (ipykernel)"
  }
 },
 "nbformat": 4,
 "nbformat_minor": 5
}
