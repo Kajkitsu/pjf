{
 "cells": [
  {
   "cell_type": "markdown",
   "source": [
    "# Programowanie obiektowe w Python 01\n",
    "## Definicja klasy\n",
    "Konstrukcja klasy w Pythonie jest dość prosta, pamiętać jednak należy o kilku konwencjach, których nie spotkaliśmy w C++. Nagłówek klasy rozpoczyna słowo kluczowe class po którym następuje nazwa klasy.\n",
    "```\n",
    "class MyClass:\n",
    "```\n",
    "Na ten moment przyjmiemy, że po nazwie klasy następuje dwukropek po którym rozpoczyna się zakres klasy. Konstrukcję nagłówka klasy rozbudujemy przy okazji dziedziczenia.\n",
    "\n",
    "W zakresie klasy możemy zdefiniować co najmniej: * atrybuty klasy * metody klasy * metody\n",
    "\n",
    "Skupmy się na ten moment na metodach. Metody, to operacje na obiektach. Metody definiujemy w sposób identyczny jak fukcje, z tym, że znajdują się one w zakresie klasy. W Pythonie metody wyróżnić można po tym, że ich pierwszym argumentem jest zawsze self. Definiuje on nam zakres lub inaczej kontekst, na którym wykonywane są operacje. Jest referencją do obiektu, na którym wykonywana jest metoda. Abstrahując od różnic technicznych self jest w pewnym sensie odpowiednikiem wskaźnika this z języka C++ (zaznaczając, że self nie jest wskaźnikiem a referencją).\n",
    "\n",
    "Spośród metod wyróżnić można metody specjalne lub kalkując z angielskiego magic methods - metody magiczne, które mają specjalną konstrukcję nazwy - rozpoczynają się one i kończą podwójnym znakiem podkreślenia. Z angielskiego podkreślenie to underscore, stąd pochodzi ich potoczna skrótowa nazwa dunder double underscore - podwójne podkreślenie.\n",
    "\n",
    "Pierwszym dunderem jaki poznamy jest konstruktor __init__(). Konstruktor jest funkcją, w której powinniśmy co najmniej zdefiniować (czyli zainicjalizować) atrybuty obiektów. Atrybuty definiujemy poprzez przypisanie im wartości. Dobrą praktyką jest utworzenie konstruktora przyjmującego argumenty odpowiadające atrybutom z wartościami domyślnymi.\n",
    "\n",
    "Python nie ma kwalifikatorów dostępu - atrybutom nadajemy kwalifikację dostępu przez konwencję prefiksu nazwy: \n",
    "- *_* (pojedyncze podkreślenie) - protected \n",
    "- *\\_\\_* (podwójne podkreślenie) - private\n",
    "- bez prefixu - public\n",
    "\n",
    "Nadal nie powoduje to, że nie będziemy mieli dostępu z zewnątrz do atrybutów oznaczonych jako protected lub private."
   ],
   "metadata": {
    "collapsed": false
   },
   "id": "45f0d35fd7b5c459"
  },
  {
   "cell_type": "markdown",
   "source": [
    "### Atrybuty instancji"
   ],
   "metadata": {
    "collapsed": false
   },
   "id": "6501ce8d161e5cb0"
  },
  {
   "cell_type": "code",
   "outputs": [
    {
     "name": "stdout",
     "output_type": "stream",
     "text": [
      "(2.0, 2.0)\n",
      "(5.2, 2.0)\n",
      "(5.2, 2.7)\n",
      "(6.2, 2.7)\n"
     ]
    },
    {
     "ename": "AttributeError",
     "evalue": "'Point' object has no attribute 'move_poi'",
     "output_type": "error",
     "traceback": [
      "\u001B[0;31m---------------------------------------------------------------------------\u001B[0m",
      "\u001B[0;31mAttributeError\u001B[0m                            Traceback (most recent call last)",
      "Cell \u001B[0;32mIn[120], line 28\u001B[0m\n\u001B[1;32m     26\u001B[0m p1\u001B[38;5;241m.\u001B[39mmove_point_step_x()\n\u001B[1;32m     27\u001B[0m \u001B[38;5;28mprint\u001B[39m(p1)\n\u001B[0;32m---> 28\u001B[0m \u001B[43mp1\u001B[49m\u001B[38;5;241;43m.\u001B[39;49m\u001B[43mmove_poi\u001B[49m\n",
      "\u001B[0;31mAttributeError\u001B[0m: 'Point' object has no attribute 'move_poi'"
     ]
    }
   ],
   "source": [
    "class Point:\n",
    "    def __init__(self, x:float=0.0, y:float=0.0):\n",
    "        self._x = x    # atrybut instancji\n",
    "        self._y = y    # atrybut instancji\n",
    "\n",
    "    def __str__(self):\n",
    "        return f\"({self._x}, {self._y})\"\n",
    "    \n",
    "    def move_point_in_x(self, a:float=0.0):\n",
    "        self._x += a\n",
    "        \n",
    "    def move_point_in_y(self, b:float=0.0):\n",
    "        self._y += b\n",
    "        \n",
    "    def move_point_step_x(self, sx:float=1.0):\n",
    "        self._x += sx\n",
    "        \n",
    "    def move_point_step_y(self, sy:float=1.0):\n",
    "        self._y += sy\n",
    "p1 = Point(2.0,2.0)\n",
    "print(p1)\n",
    "p1.move_point_in_x(3.2)\n",
    "print(p1)\n",
    "p1.move_point_in_y(0.7)\n",
    "print(p1)\n",
    "p1.move_point_step_x()\n",
    "print(p1)\n",
    "p1.move_poi"
   ],
   "metadata": {
    "collapsed": false,
    "ExecuteTime": {
     "end_time": "2024-04-17T10:12:48.836255290Z",
     "start_time": "2024-04-17T10:12:48.781956839Z"
    }
   },
   "id": "12dd8422b8ca8162",
   "execution_count": 120
  },
  {
   "cell_type": "markdown",
   "source": [
    "### Atrybuty instancji i atrybuty klasy\n",
    "Klasa w której wyłącznie jej instancje posiadają atrybuty\n",
    "W poniższym przykładzie zadaniem osoby rejestrującej studentów jest pamiętanie jaki ostatni numer dokumentu został wydany i jaki będzie numer kolejnego dokumentu."
   ],
   "metadata": {
    "collapsed": false
   },
   "id": "3d93157d76e04845"
  },
  {
   "cell_type": "code",
   "outputs": [
    {
     "name": "stdout",
     "output_type": "stream",
     "text": [
      "Document=74238, Jan Nowak, birth year=1999\n",
      "I'm Jan Nowak\n",
      "I'm 25 years old\n",
      "Document=16219, Jan Nowak, birth year=1999\n"
     ]
    }
   ],
   "source": [
    "import datetime\n",
    "class Student:\n",
    "    def __init__(self, attrib1, attrib2, attrib3, attrib4):\n",
    "        self.document = attrib1\n",
    "        # atrybut instancji\n",
    "        self.name = attrib2\n",
    "        # atrybut instancji\n",
    "        self.surname = attrib3\n",
    "        # atrybut instancji\n",
    "        self.birth_year = attrib4\n",
    "        # atrybut instancji\n",
    "        \n",
    "    def __str__(self):\n",
    "        return f\"Document={self.document}, {self.name} {self.surname}, birth year={self.birth_year}\"\n",
    "    \n",
    "    def change_document(self, attrib1):\n",
    "        self.document = attrib1\n",
    "        \n",
    "    def whats_your_name(self):\n",
    "        return f\"I'm {self.name} {self.surname}\"\n",
    "    \n",
    "    def how_old_are_you(self):\n",
    "        return f\"I'm {self.age()} years old\"\n",
    "    \n",
    "    def age(self):\n",
    "        return int(datetime.date.today().strftime(\"%Y\")) - self.birth_year\n",
    "    \n",
    "student = Student('74238', 'Jan', 'Nowak', 1999)\n",
    "print(student)\n",
    "print(student.whats_your_name())\n",
    "print(student.how_old_are_you())\n",
    "student.change_document('16219')\n",
    "print(student)"
   ],
   "metadata": {
    "collapsed": false,
    "ExecuteTime": {
     "end_time": "2024-04-17T10:12:48.854563728Z",
     "start_time": "2024-04-17T10:12:48.841086333Z"
    }
   },
   "id": "8bb51db2e11345c0",
   "execution_count": 121
  },
  {
   "cell_type": "markdown",
   "source": [
    "Wykorzystajmy atrybut klasy, czyli atrybut definicji, z której tworzymy instancje kolejnych studentów.\n",
    "\n",
    "Poniżej przedstawiona jest implementacja klasy posiadającej swoje atrybuty oraz jej instancje posiadające własne atrybuty"
   ],
   "metadata": {
    "collapsed": false
   },
   "id": "43d4937b40ef0ee5"
  },
  {
   "cell_type": "code",
   "outputs": [
    {
     "name": "stdout",
     "output_type": "stream",
     "text": [
      "Document=47617, Jan Nowak, birth year=1999\n",
      "I'm Jan Nowak\n",
      "I'm 25 years old\n",
      "Class attribute:\n",
      "47618\n",
      "-----\n",
      "\n",
      "Document=47618, Paweł Kozłowski, birth year=2002\n",
      "I'm Paweł Kozłowski\n",
      "I'm 22 years old\n",
      "Class attribute:\n",
      "47619\n",
      "-----\n"
     ]
    }
   ],
   "source": [
    "import datetime\n",
    "class Student:\n",
    "    document = 47617 # atrybut klasy\n",
    "    \n",
    "    def __init__(self, attrib2: str, attrib3: str, attrib4: int):\n",
    "        self.document = Student.document # atrybut instancji pochodzący z atrybutu klasy\n",
    "        Student.document += 1\n",
    "        self.name = attrib2        # atrybut instancji\n",
    "        self.surname = attrib3     # atrybut instancji\n",
    "        self.birth_year = attrib4  # atrybut instancji\n",
    "        \n",
    "    def __str__(self):\n",
    "        return f\"Document={self.document}, {self.name} {self.surname}, birth year={self.birth_year}\"\n",
    "    \n",
    "    def change_document(self, attrib1):\n",
    "        self.document = attrib1\n",
    "        \n",
    "    def whats_your_name(self):\n",
    "        return f\"I'm {self.name} {self.surname}\"\n",
    "    \n",
    "    def how_old_are_you(self):\n",
    "        return f\"I'm {self.age()} years old\"\n",
    "    \n",
    "    def age(self):\n",
    "        return int(datetime.date.today().strftime(\"%Y\")) - self.birth_year\n",
    "    \n",
    "student_1 = Student('Jan', 'Nowak', 1999)\n",
    "print(student_1)\n",
    "print(student_1.whats_your_name())\n",
    "print(student_1.how_old_are_you())\n",
    "print('Class attribute:')\n",
    "print(Student.document)\n",
    "print('-----\\n')\n",
    "student_2 = Student('Paweł', 'Kozłowski', 2002)\n",
    "print(student_2)\n",
    "print(student_2.whats_your_name())\n",
    "print(student_2.how_old_are_you())\n",
    "print('Class attribute:')\n",
    "print(Student.document)\n",
    "print('-----')"
   ],
   "metadata": {
    "collapsed": false,
    "ExecuteTime": {
     "end_time": "2024-04-17T10:12:48.917585118Z",
     "start_time": "2024-04-17T10:12:48.854804653Z"
    }
   },
   "id": "e1593388504473",
   "execution_count": 122
  },
  {
   "cell_type": "markdown",
   "source": [
    "### Metody statyczne i metody klas, atrybuty klas\n",
    "Atrybuty zdefiniowane w zakresie klasy to tzw. atrybuty klasy. Atrybuty klasy dostępne są dla każdego obiektu zarówno w przestrzeni nazw klasy jak i w przestrzeniach nazw obiektów tej klasy. \n",
    "Modyfikacja atrybutu klasy z przestrzeni klas powoduje zmianę wartości atrybutu dla wszystkich obiektów klasy."
   ],
   "metadata": {
    "collapsed": false
   },
   "id": "990ccde1504d694e"
  },
  {
   "cell_type": "code",
   "outputs": [
    {
     "name": "stdout",
     "output_type": "stream",
     "text": [
      "Kowalski=2, Nowak=2, w klasie=2\n",
      "Kowalski=2, Nowak=3, w klasie=2\n",
      "Kowalski=4, Nowak=3, w klasie=4\n"
     ]
    }
   ],
   "source": [
    "class Person:\n",
    "    legs_count=2 #przestrzeń nazw klasy\n",
    "    \n",
    "    def __init__(self,name:str=\"\",surname:str=\"\"):\n",
    "        self.name=name\n",
    "        self.surname=surname    #przestrzeń nazw obiektu\n",
    "        \n",
    "    def increment_legs_count(self):\n",
    "        Person.legs_count+=1\n",
    "        \n",
    "    def set_legs_count(self,value:int):\n",
    "        self.legs_count=value #przestrzeń nazw obiektu\n",
    "        \n",
    "kowalski=Person(\"Jan\",\"Kowalski\")\n",
    "nowak=Person(\"Janusz\",\"Nowak\")\n",
    "print(f\"Kowalski={kowalski.legs_count}, Nowak={nowak.legs_count}, w klasie={Person.legs_count}\")\n",
    "nowak.set_legs_count(3) #modyfikacja w przestrzeni nazw obiektu\n",
    "print(f\"Kowalski={kowalski.legs_count}, Nowak={nowak.legs_count}, w klasie={Person.legs_count}\")\n",
    "nowak.increment_legs_count()\n",
    "nowak.increment_legs_count()\n",
    "print(f\"Kowalski={kowalski.legs_count}, Nowak={nowak.legs_count}, w klasie={Person.legs_count}\")"
   ],
   "metadata": {
    "collapsed": false,
    "ExecuteTime": {
     "end_time": "2024-04-17T10:12:48.918215801Z",
     "start_time": "2024-04-17T10:12:48.908317403Z"
    }
   },
   "id": "7ac1dd3cee119b45",
   "execution_count": 123
  },
  {
   "cell_type": "markdown",
   "source": [
    "Powyższy przykład ma również pewną niedogodność. Metoda increment_legs_count pomimo, iż nie wykonuje operacji w przestrzeni nazw obiektu potrzebuje obiektu by mogła zostać wywołana. W tej sytuacji lepszym rozwiązaniem byłoby stworzenie metody niezależnej od obecności instancji klasy, czyli tzw. metody klasy. W Pythonie tworzymy ją z wykorzystaniem dekoratora @class-method. Metoda klasy ma dostęp do przestrzeni nazw klasy poprzez jej wymagany pierwszy argument zwykle nazywany cls, przez analogię do self. Zachowanie nie uległo zmianie, nie mniej wywołanie nie wymaga już referencji do obiektu, dlatego metodę klasy wywołujemy przez nazwę klasy: Person.increment_legs_count()."
   ],
   "metadata": {
    "collapsed": false
   },
   "id": "c2fc6277ad3c16d9"
  },
  {
   "cell_type": "code",
   "outputs": [
    {
     "name": "stdout",
     "output_type": "stream",
     "text": [
      "Kowalski=2, Nowak=2, w klasie=2\n",
      "Kowalski=2, Nowak=3, w klasie=2\n",
      "Kowalski=4, Nowak=3, w klasie=4\n"
     ]
    }
   ],
   "source": [
    "class Person:\n",
    "    legs_count=2 #przestrzeń nazw klasy\n",
    "    \n",
    "    def __init__(self,name:str=\"\",surname:str=\"\"):#przestrzeń nazw obiektu\n",
    "        self.name=name\n",
    "        self.surname=surname\n",
    "        \n",
    "    @classmethod\n",
    "    def increment_legs_count(cls):\n",
    "        cls.legs_count+=1\n",
    "        \n",
    "    def set_legs_count(self,value:int): #przestrzeń nazw obiektu\n",
    "        self.legs_count=value\n",
    "        \n",
    "kowalski=Person(\"Jan\",\"Kowalski\")\n",
    "nowak=Person(\"Janusz\",\"Nowak\")\n",
    "print(f\"Kowalski={kowalski.legs_count}, Nowak={nowak.legs_count}, w klasie={Person.legs_count}\")\n",
    "nowak.set_legs_count(3) #modyfikacja w przestrzeni nazw obiektu\n",
    "print(f\"Kowalski={kowalski.legs_count}, Nowak={nowak.legs_count}, w klasie={Person.legs_count}\")\n",
    "Person.increment_legs_count()\n",
    "Person.increment_legs_count()\n",
    "print(f\"Kowalski={kowalski.legs_count}, Nowak={nowak.legs_count}, w klasie={Person.legs_count}\")"
   ],
   "metadata": {
    "collapsed": false,
    "ExecuteTime": {
     "end_time": "2024-04-17T10:12:48.918637582Z",
     "start_time": "2024-04-17T10:12:48.908461419Z"
    }
   },
   "id": "fac5c71c843e9c7d",
   "execution_count": 124
  },
  {
   "cell_type": "markdown",
   "source": [
    "Czasami jednak nie mamy potrzeby przekazywania stanu klasy do metody. W tej sytuacji zastosowanie mają metody statyczne. Przez to, że metoda statyczna nie ma dostępu do przestrzeni\n",
    "klasy ani obiektu, z którego została wykonana w zasadzie jest analogią funkcji w przestrzeni nazw\n",
    "klasy lub obiektu."
   ],
   "metadata": {
    "collapsed": false
   },
   "id": "3a64540ec0f2917b"
  },
  {
   "cell_type": "code",
   "outputs": [
    {
     "name": "stdout",
     "output_type": "stream",
     "text": [
      "<class '__main__.Triangle'>\n",
      "Triangle a=(0, 0), b=(0, 2), c=(1, 1)\n",
      "<class '__main__.Square'>\n",
      "Square a=(0, 0), b=(0, 1), c=(1, 0), d=(1, 1)\n"
     ]
    }
   ],
   "source": [
    "class Triangle(object):\n",
    "    def __init__(self,args):\n",
    "        self.a=args[0]\n",
    "        self.b=args[1]\n",
    "        self.c=args[2]\n",
    "        \n",
    "    def __str__(self):\n",
    "        return f\"Triangle a={self.a}, b={self.b}, c={self.c}\"\n",
    "    \n",
    "class Square(object):\n",
    "    def __init__(self,args):\n",
    "        self.a=args[0]\n",
    "        self.b=args[1]\n",
    "        self.c=args[2]\n",
    "        self.d=args[3]\n",
    "        \n",
    "    def __str__(self):\n",
    "        return f\"Square a={self.a}, b={self.b}, c={self.c}, d={self.d}\"\n",
    "    \n",
    "class FiguresFactory:\n",
    "    @staticmethod\n",
    "    def produce_figure(points:list):\n",
    "        if len(points)==3:\n",
    "            return Triangle(points)\n",
    "        if len(points)==4:\n",
    "            return Square(points)\n",
    "        \n",
    "triangle=FiguresFactory.produce_figure([(0,0), (0, 2), (1, 1)])\n",
    "square=FiguresFactory.produce_figure([(0, 0), (0, 1), (1, 0), (1, 1)])\n",
    "print(type(triangle))\n",
    "print(triangle)\n",
    "print(type(square))\n",
    "print(square)"
   ],
   "metadata": {
    "collapsed": false,
    "ExecuteTime": {
     "end_time": "2024-04-17T10:12:49.020415561Z",
     "start_time": "2024-04-17T10:12:48.922492271Z"
    }
   },
   "id": "aa22676bd5144e86",
   "execution_count": 125
  },
  {
   "cell_type": "markdown",
   "source": [
    "Poznaliśmy już dwie metody dunder: 1. \\_\\_init\\_\\_ - inicjowanie obiektu w klasie 2. \\_\\_str\\_\\_ -\n",
    "wypisanie stanu obiektu w postaci czytelnej dla człowieka\n",
    "\\_\\_repr\\_\\_ - wypisanie “oficjalnej” reprezentacji tekstowej obiektu (występuje jako zastępcza\n",
    "metoda, gdy nie zaimplementujemy własnej \\_\\_str\\_\\_)"
   ],
   "metadata": {
    "collapsed": false
   },
   "id": "1f3a7af866ac8302"
  },
  {
   "cell_type": "code",
   "outputs": [
    {
     "name": "stdout",
     "output_type": "stream",
     "text": [
      "Car\n"
     ]
    }
   ],
   "source": [
    "class Car:\n",
    "    def __repr__(self):\n",
    "        return f\"{self.__class__.__qualname__}\"\n",
    "car = Car()\n",
    "print(car)"
   ],
   "metadata": {
    "collapsed": false,
    "ExecuteTime": {
     "end_time": "2024-04-17T10:12:49.021127804Z",
     "start_time": "2024-04-17T10:12:48.963814396Z"
    }
   },
   "id": "f367c6a1f0cd86e6",
   "execution_count": 126
  },
  {
   "cell_type": "markdown",
   "source": [
    "Inny przykład:"
   ],
   "metadata": {
    "collapsed": false
   },
   "id": "f84a2bb5e2c70859"
  },
  {
   "cell_type": "code",
   "outputs": [
    {
     "data": {
      "text/plain": "'2024-04-17 12:12:48.966674'"
     },
     "execution_count": 127,
     "metadata": {},
     "output_type": "execute_result"
    }
   ],
   "source": [
    "import datetime\n",
    "now = datetime.datetime.now()\n",
    "now.__str__()"
   ],
   "metadata": {
    "collapsed": false,
    "ExecuteTime": {
     "end_time": "2024-04-17T10:12:49.022287295Z",
     "start_time": "2024-04-17T10:12:49.008306509Z"
    }
   },
   "id": "ed5dcbab3ca001d7",
   "execution_count": 127
  },
  {
   "cell_type": "code",
   "outputs": [
    {
     "data": {
      "text/plain": "'datetime.datetime(2024, 4, 17, 12, 12, 49, 22537)'"
     },
     "execution_count": 128,
     "metadata": {},
     "output_type": "execute_result"
    }
   ],
   "source": [
    "import datetime\n",
    "now = datetime.datetime.now()\n",
    "now.__repr__()"
   ],
   "metadata": {
    "collapsed": false,
    "ExecuteTime": {
     "end_time": "2024-04-17T10:12:49.101867125Z",
     "start_time": "2024-04-17T10:12:49.024240937Z"
    }
   },
   "id": "5ce89fb655d11e8f",
   "execution_count": 128
  },
  {
   "cell_type": "markdown",
   "source": [
    "Oczywiście, we własnej klasie możemy te metody zaimplementować i przesłonić metody odziedzic-\n",
    "zone, które najczęściej nie są zbyt użyteczne."
   ],
   "metadata": {
    "collapsed": false
   },
   "id": "11dcb2099b174244"
  },
  {
   "cell_type": "code",
   "outputs": [
    {
     "name": "stdout",
     "output_type": "stream",
     "text": [
      "<__main__.Car object at 0x7c3c1d30a350>\n",
      "<__main__.Car object at 0x7c3c1d30a350>\n"
     ]
    }
   ],
   "source": [
    "class Car:\n",
    "    def __init__(self, producer, model, fuel):\n",
    "        self.producer = producer\n",
    "        self.model = model\n",
    "        self.fuel = fuel\n",
    "my_car = Car(\"Dodge\", \"Charger\", \"gasoline\")\n",
    "print(my_car.__str__())\n",
    "print(my_car.__repr__())"
   ],
   "metadata": {
    "collapsed": false,
    "ExecuteTime": {
     "end_time": "2024-04-17T10:12:49.102819021Z",
     "start_time": "2024-04-17T10:12:49.088449205Z"
    }
   },
   "id": "53a78fbb5f96217d",
   "execution_count": 129
  },
  {
   "cell_type": "code",
   "outputs": [
    {
     "name": "stdout",
     "output_type": "stream",
     "text": [
      "I'm Dodge, model Charger, I like gasoline\n",
      "Dodge, Charger, gasoline\n"
     ]
    }
   ],
   "source": [
    "class Car:\n",
    "    def __init__(self, producer, model, fuel):\n",
    "        self.producer = producer\n",
    "        self.model = model\n",
    "        self.fuel = fuel\n",
    "        \n",
    "    def __str__(self):\n",
    "        return f\"I'm {self.producer}, model {self.model}, I like {self.fuel}\"\n",
    "    \n",
    "    def __repr__(self):\n",
    "        return f\"{self.producer}, {self.model}, {self.fuel}\"\n",
    "my_car = Car(\"Dodge\", \"Charger\", \"gasoline\")\n",
    "print(f\"{my_car.__str__()}\")\n",
    "print(f\"{my_car.__repr__()}\")"
   ],
   "metadata": {
    "collapsed": false,
    "ExecuteTime": {
     "end_time": "2024-04-17T10:12:49.160164077Z",
     "start_time": "2024-04-17T10:12:49.106195811Z"
    }
   },
   "id": "bcb1394bb4d29026",
   "execution_count": 130
  },
  {
   "cell_type": "markdown",
   "source": [
    "### Przeładowanie operatorów\n",
    "Dodawanie obiektów."
   ],
   "metadata": {
    "collapsed": false
   },
   "id": "4f0a9f5fbf821c08"
  },
  {
   "cell_type": "code",
   "outputs": [],
   "source": [
    "class RandomNumbers:\n",
    "    def __init__(self, a, b):\n",
    "        self.a = a\n",
    "        self.b = b\n",
    "        \n",
    "set_a = RandomNumbers(2, 4)\n",
    "set_b = RandomNumbers(3, 5)\n",
    "#print(set_a + set_b)"
   ],
   "metadata": {
    "collapsed": false,
    "ExecuteTime": {
     "end_time": "2024-04-17T10:12:49.163198389Z",
     "start_time": "2024-04-17T10:12:49.118972788Z"
    }
   },
   "id": "1638d4c9972214f0",
   "execution_count": 131
  },
  {
   "cell_type": "markdown",
   "source": [
    "Oczywiście, można napisać metodę add_random_numbers() w naszej klasie, ale lepszym\n",
    "rozwiązaniem będzie skorzystanie z metody \\_\\_add\\_\\_\n",
    "Dzięki temu będziemy mogli korzystać z operatora +"
   ],
   "metadata": {
    "collapsed": false
   },
   "id": "29bac2c1f193c14e"
  },
  {
   "cell_type": "code",
   "outputs": [
    {
     "name": "stdout",
     "output_type": "stream",
     "text": [
      "RandomNumbers(12, 19)\n"
     ]
    }
   ],
   "source": [
    "class RandomNumbers:\n",
    "    def __init__(self, a, b):\n",
    "        self.a = a\n",
    "        self.b = b\n",
    "        \n",
    "    def __add__(self, other): # Tylko obiekty klasy Random_numbers mogą zostać dodane\n",
    "        if not isinstance(other, RandomNumbers):\n",
    "            return NotImplemented\n",
    "        return RandomNumbers(other.a + self.a, other.b + self.b)\n",
    "    \n",
    "    def __repr__(self):\n",
    "        return f\"{self.__class__.__qualname__}({self.a}, {self.b})\"\n",
    "set_a = RandomNumbers(3, 8)\n",
    "set_b = RandomNumbers(9, 11)\n",
    "print(set_a + set_b)"
   ],
   "metadata": {
    "collapsed": false,
    "ExecuteTime": {
     "end_time": "2024-04-17T10:12:49.163610Z",
     "start_time": "2024-04-17T10:12:49.160493813Z"
    }
   },
   "id": "ee56acb92c245d79",
   "execution_count": 132
  },
  {
   "cell_type": "markdown",
   "source": [
    "Gdy obiekt RandomNumbers znajduje się po lewej stronie operatora +, Python wywoła metodę\n",
    "\\_\\_add\\_\\_\n",
    "Mnożenie \\_\\_mul\\_\\_"
   ],
   "metadata": {
    "collapsed": false
   },
   "id": "91ddf4194c1e643"
  },
  {
   "cell_type": "code",
   "outputs": [
    {
     "name": "stdout",
     "output_type": "stream",
     "text": [
      "RandomNumbers(6, 12)\n"
     ]
    }
   ],
   "source": [
    "class RandomNumbers:\n",
    "    def __init__(self, a, b):\n",
    "        self.a = a\n",
    "        self.b = b\n",
    "        \n",
    "    def __add__(self, other):\n",
    "        if not isinstance(other, RandomNumbers):\n",
    "            return NotImplemented\n",
    "        return RandomNumbers(other.a + self.a, other.b + self.b)\n",
    "    \n",
    "    def __mul__(self, other):\n",
    "        if not isinstance(other, int):\n",
    "            return NotImplemented\n",
    "        return RandomNumbers(self.a * other, self.b * other)\n",
    "    \n",
    "    def __repr__(self):\n",
    "        return f\"{self.__class__.__qualname__}({self.a}, {self.b})\"\n",
    "    \n",
    "set_a = RandomNumbers(2, 4)\n",
    "\n",
    "print(set_a * 3)\n",
    "\n",
    "# A co jeżeli spróbujemy wykonać działanie\n",
    "# print(4 * set_a)"
   ],
   "metadata": {
    "collapsed": false,
    "ExecuteTime": {
     "end_time": "2024-04-17T10:12:49.179881542Z",
     "start_time": "2024-04-17T10:12:49.165232738Z"
    }
   },
   "id": "4999406a53ad20d8",
   "execution_count": 133
  },
  {
   "cell_type": "markdown",
   "source": [
    "Błąd spowodowany jest ty, że Python wywołuje metodę \\_\\_mul\\_\\_ tylko wtedy, gdy po lewej stronie\n",
    "operatora * znajduje się obiekt klasy RandomNumbers\n",
    "\n",
    "Aby rozwiązać ten problem należy zaimplementować odwrotną metodę dunder"
   ],
   "metadata": {
    "collapsed": false
   },
   "id": "96ccebcae6b6219a"
  },
  {
   "cell_type": "code",
   "outputs": [
    {
     "name": "stdout",
     "output_type": "stream",
     "text": [
      "RandomNumbers(6, 12)\n",
      "RandomNumbers(8, 16)\n"
     ]
    }
   ],
   "source": [
    "class RandomNumbers:\n",
    "    def __init__(self, a, b):\n",
    "        self.a = a\n",
    "        self.b = b\n",
    "        \n",
    "    def __add__(self, other):\n",
    "        if not isinstance(other, RandomNumbers):\n",
    "            return NotImplemented\n",
    "        return RandomNumbers(other.a + self.a, other.b + self.b)\n",
    "    \n",
    "    def __mul__(self, other):\n",
    "        if not isinstance(other, int):\n",
    "            return NotImplemented\n",
    "        return RandomNumbers(self.a * other, self.b * other)\n",
    "    \n",
    "    def __rmul__(self, other):\n",
    "        return self.__mul__(other)\n",
    "    \n",
    "    def __repr__(self):\n",
    "        return f\"{self.__class__.__qualname__}({self.a}, {self.b})\"\n",
    "    \n",
    "set_a = RandomNumbers(2, 4)\n",
    "\n",
    "print(set_a * 3)\n",
    "print(4 * set_a)"
   ],
   "metadata": {
    "collapsed": false,
    "ExecuteTime": {
     "end_time": "2024-04-17T10:12:49.230457820Z",
     "start_time": "2024-04-17T10:12:49.176800091Z"
    }
   },
   "id": "f97814816ca609f7",
   "execution_count": 134
  },
  {
   "cell_type": "markdown",
   "source": [
    "Pełna dokumentacja: https://docs.python.org/3/reference/datamodel.html"
   ],
   "metadata": {
    "collapsed": false
   },
   "id": "e03b8084e03b6243"
  },
  {
   "cell_type": "markdown",
   "source": [
    "### Dekoratory\n",
    "\n",
    "Dekorator jest funkcją, która przyjmuje inną funkcję jako dane wejściowe, rozszerza jej zachowanie\n",
    "i zwraca nową funkcję jako dane wyjściowe. Jest to możliwe, ponieważ w języku Python funkcje\n",
    "są obiektami pierwszej klasy, co oznacza, że mogą być przekazywane jako argumenty do funkcji i\n",
    "zwracane z funkcji, podobnie jak inne typy obiektów, takie jak łańcuch znaków, liczby całkowite\n",
    "lub zmiennoprzecinkowe. Dekorator może być używany do dekorowania funkcji lub klasy.\n",
    "\n",
    "W Pythonie metoda statyczna to metoda, która nie wymaga tworzenia instancji klasy. Oznacza\n",
    "to, że pierwszy argument metody statycznej nie jest self, lecz zwykłym argumentem pozycyjnym\n",
    "lub nazwanym. Ponadto, metoda statyczna może nie posiadać żadnych argumentów."
   ],
   "metadata": {
    "collapsed": false
   },
   "id": "f3a7370f15ef14d9"
  },
  {
   "cell_type": "code",
   "outputs": [
    {
     "name": "stdout",
     "output_type": "stream",
     "text": [
      "265123456\n",
      "112\n",
      "26-512-34-56\n",
      "123456789\n",
      "12-345-67-89\n"
     ]
    }
   ],
   "source": [
    "class MobilePhone:\n",
    "    def __init__(self, brand: str, number: str):\n",
    "        self.brand = brand\n",
    "        self._number = number\n",
    "        \n",
    "    def get_number(self): # metoda instancji klasy, getter\n",
    "        return self._number\n",
    "    \n",
    "    @staticmethod\n",
    "    def get_emergency(): # metoda statyczna\n",
    "        return '112'\n",
    "    \n",
    "    @property\n",
    "    def number(self):\n",
    "        # właściwość klasy, getter\n",
    "        _number = '-'.join([self._number[:2], self._number[2:5], self._number[5:7], self._number[7:]])\n",
    "        return _number\n",
    "    \n",
    "    @number.setter\n",
    "    def number(self, number):\n",
    "        # setter\n",
    "        if len(number) != 9 or not number.isdigit():\n",
    "            raise ValueError('Invalid phone number')\n",
    "        self._number = number\n",
    "\n",
    "phone_1 = MobilePhone('OPPO', '265123456')\n",
    "print(phone_1.get_number())\n",
    "print(MobilePhone.get_emergency())\n",
    "print(phone_1.number)\n",
    "phone_1.number = '123456789'\n",
    "print(phone_1.get_number())\n",
    "print(phone_1.number)"
   ],
   "metadata": {
    "collapsed": false,
    "ExecuteTime": {
     "end_time": "2024-04-17T10:12:49.231000965Z",
     "start_time": "2024-04-17T10:12:49.224435573Z"
    }
   },
   "id": "a6affdd618ef406e",
   "execution_count": 135
  },
  {
   "cell_type": "markdown",
   "source": [
    "1. W tym przykładzie init jest zarezerwowaną metodą Pythona i działa jako konstruktor dla\n",
    "klasy MobilePhone.\n",
    "2. get_number jest zwykłą metodą instancji klasy i wymaga utworzenia jej instancji (obiektu) - jest to również getter.\n",
    "3. get_emergency jest metodą statyczną, i została ozdobiona dekoratorem @staticmethod. Ponadto, jako pierwszego argumentu nie posiada self, co oznacza, że nie wymaga tworzenia instancji klasy MobilePhone. W rzeczywistości get_emergency może działać jako samodzielna\n",
    "funkcja. Jednak jej istnienie ma tu sens i dlatego została umieszczona w klasie MobilePhone,\n",
    "aby telefon komórkowy mógł podać numer alarmowy.\n",
    "4. number jest właściwością klasy, została oznaczona dekoratorem @property i również jest\n",
    "getterem\n",
    "5. number ozanczona dekortorem @number.setter jest setterem, którego zadaniem jest kontrola\n",
    "poprawności aktualizowanych danych\n",
    "\n",
    "W praktyce, jeśli klasa MobilePhone będzie posiadała właściwość country (kraj), metoda\n",
    "get_emergency stałaby się metodą instancji, ponieważ będzie potrzebowała dostępu do właściwości country w celu podania prawidłowego numeru alarmowego"
   ],
   "metadata": {
    "collapsed": false
   },
   "id": "2830323e161acfd1"
  }
 ],
 "metadata": {
  "kernelspec": {
   "display_name": "Python 3",
   "language": "python",
   "name": "python3"
  },
  "language_info": {
   "codemirror_mode": {
    "name": "ipython",
    "version": 2
   },
   "file_extension": ".py",
   "mimetype": "text/x-python",
   "name": "python",
   "nbconvert_exporter": "python",
   "pygments_lexer": "ipython2",
   "version": "2.7.6"
  }
 },
 "nbformat": 4,
 "nbformat_minor": 5
}
