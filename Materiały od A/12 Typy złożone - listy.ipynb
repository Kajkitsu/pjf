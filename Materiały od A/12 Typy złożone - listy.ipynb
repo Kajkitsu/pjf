{
 "cells": [
  {
   "cell_type": "markdown",
   "source": [],
   "metadata": {
    "collapsed": false
   },
   "id": "8d30109b8a263903"
  },
  {
   "cell_type": "markdown",
   "source": [
    "# Listy\n",
    "Inicjalizacja zmiennej jako listy:"
   ],
   "metadata": {
    "collapsed": false
   },
   "id": "6cf03dda1af20132"
  },
  {
   "cell_type": "code",
   "outputs": [
    {
     "name": "stdout",
     "output_type": "stream",
     "text": [
      "Obiekt a to <class 'list'> i zawiera [1, 2, 3, 4]\n",
      "Obiekt b to <class 'list'> i zawiera []\n",
      "Obiekt a to <class 'list'> i zawiera []\n"
     ]
    }
   ],
   "source": [
    "a = [1, 2, 3, 4]\n",
    "b = []\n",
    "c = list()\n",
    "print(f\"Obiekt a to {type(a)} i zawiera {a}\")\n",
    "print(f\"Obiekt b to {type(b)} i zawiera {b}\")\n",
    "print(f\"Obiekt a to {type(c)} i zawiera {c}\")"
   ],
   "metadata": {
    "collapsed": false,
    "ExecuteTime": {
     "end_time": "2024-04-10T08:04:47.832155735Z",
     "start_time": "2024-04-10T08:04:47.819923752Z"
    }
   },
   "id": "168037bbe6c3fc04",
   "execution_count": 1
  },
  {
   "cell_type": "markdown",
   "source": [
    "## Podstawowe operacje na listach\n",
    "### Dodawanie nowego elementu\n",
    "_list.append()_"
   ],
   "metadata": {
    "collapsed": false
   },
   "id": "25982975e8c38b5d"
  },
  {
   "cell_type": "code",
   "outputs": [
    {
     "name": "stdout",
     "output_type": "stream",
     "text": [
      "Obiekt a to <class 'list'> i zawiera [1, 2, 3, 4, 328, 'WAT']\n",
      "Obiekt b to <class 'list'> i zawiera ['asd']\n",
      "Obiekt c to <class 'list'> i zawiera [[1, 2, 3, 4, 328, 'WAT'], ['asd']]\n"
     ]
    }
   ],
   "source": [
    "a = [1, 2, 3, 4]\n",
    "b = []\n",
    "c = list()\n",
    "a.append(328)\n",
    "a.append('WAT')\n",
    "b.append('asd')\n",
    "c.append(a)\n",
    "c.append(b)\n",
    "print(f\"Obiekt a to {type(a)} i zawiera {a}\")\n",
    "print(f\"Obiekt b to {type(b)} i zawiera {b}\")\n",
    "print(f\"Obiekt c to {type(c)} i zawiera {c}\")"
   ],
   "metadata": {
    "collapsed": false,
    "ExecuteTime": {
     "end_time": "2024-04-10T08:04:47.887372756Z",
     "start_time": "2024-04-10T08:04:47.831982265Z"
    }
   },
   "id": "6bcd5d9a4a43b4d3",
   "execution_count": 2
  },
  {
   "cell_type": "markdown",
   "source": [
    "### Usuwanie elementu z końca listy\n",
    "list.pop()"
   ],
   "metadata": {
    "collapsed": false
   },
   "id": "8fcabb6bedd53f23"
  },
  {
   "cell_type": "code",
   "outputs": [
    {
     "name": "stdout",
     "output_type": "stream",
     "text": [
      "a = [1, 2, 3, 4, 328]\n",
      "b = ['asd']\n",
      "c = [[1, 2, 3, 4, 328], ['asd']]\n",
      "\n",
      "Wykonano pop()\n",
      "a = [1, 2, 3, 4]\n",
      "b = []\n",
      "c = [[1, 2, 3, 4]]\n"
     ]
    }
   ],
   "source": [
    "a = [1, 2, 3, 4]\n",
    "b = []\n",
    "c = list()\n",
    "a.append(328)\n",
    "b.append('asd')\n",
    "c.append(a)\n",
    "c.append(b)\n",
    "print(f\"a = {a}\")\n",
    "print(f\"b = {b}\")\n",
    "print(f\"c = {c}\")\n",
    "a.pop()\n",
    "b.pop()\n",
    "c.pop()\n",
    "print(f\"\\nWykonano pop()\")\n",
    "print(f\"a = {a}\")\n",
    "print(f\"b = {b}\")\n",
    "print(f\"c = {c}\")\n",
    "#print(f\"\\nPróba wykonania pop() na pustej liście\")\n",
    "#b.pop()\n",
    "# zakończy się rzuceniem wyjątku"
   ],
   "metadata": {
    "collapsed": false,
    "ExecuteTime": {
     "end_time": "2024-04-10T08:04:47.887992551Z",
     "start_time": "2024-04-10T08:04:47.879614629Z"
    }
   },
   "id": "6b2031976782a0fe",
   "execution_count": 3
  },
  {
   "cell_type": "markdown",
   "source": [
    "### Wstawienie elementu na określoną pozycję listy\n",
    "list.insert()"
   ],
   "metadata": {
    "collapsed": false
   },
   "id": "bd498c22e4062bc7"
  },
  {
   "cell_type": "code",
   "outputs": [
    {
     "name": "stdout",
     "output_type": "stream",
     "text": [
      "a = [1, -328, 2, 3, 4]\n",
      "b = ['zxc', 'asd']\n",
      "c = [[1, -328, 2, 3, 4], 'qwerty', ['zxc', 'asd']]\n"
     ]
    }
   ],
   "source": [
    "a = [1, 2, 3, 4]\n",
    "b = []\n",
    "c = list()\n",
    "a.insert(1, -328)\n",
    "b.append('asd')\n",
    "b.insert(0, \"zxc\")\n",
    "c.append(a)\n",
    "c.append(b)\n",
    "c.insert(1, 'qwerty')\n",
    "print(f\"a = {a}\")\n",
    "print(f\"b = {b}\")\n",
    "print(f\"c = {c}\")"
   ],
   "metadata": {
    "collapsed": false,
    "ExecuteTime": {
     "end_time": "2024-04-10T08:04:47.888487426Z",
     "start_time": "2024-04-10T08:04:47.879749266Z"
    }
   },
   "id": "d1b5c52974fa1d3",
   "execution_count": 4
  },
  {
   "cell_type": "markdown",
   "source": [
    "### Usunięcie z listy pierwszego elementu o danej wartości\n",
    "list.remove()"
   ],
   "metadata": {
    "collapsed": false
   },
   "id": "19e01198ed0cbde9"
  },
  {
   "cell_type": "code",
   "outputs": [
    {
     "name": "stdout",
     "output_type": "stream",
     "text": [
      "q = [1, 2, 3, 4, 3, 2, 1, 2, 3, 4]\n",
      "q = [1, 2, 4, 3, 2, 1, 2, 3, 4]\n",
      "q = [1, 2, 4, 2, 1, 2, 3, 4]\n",
      "q = [1, 2, 4, 2, 1, 2, 4]\n"
     ]
    }
   ],
   "source": [
    "q = [1, 2, 3, 4, 3, 2, 1, 2, 3, 4]\n",
    "print(f\"q = {q}\")\n",
    "q.remove(3)\n",
    "print(f\"q = {q}\")\n",
    "q.remove(3)\n",
    "print(f\"q = {q}\")\n",
    "q.remove(3)\n",
    "print(f\"q = {q}\")\n",
    "#q.remove(3)\n",
    "#próba usunięcia z listy nieistniejącego elementu zakończy\n",
    "#print(f\"q = {q}\")"
   ],
   "metadata": {
    "collapsed": false,
    "ExecuteTime": {
     "end_time": "2024-04-10T08:04:47.888939282Z",
     "start_time": "2024-04-10T08:04:47.879833690Z"
    }
   },
   "id": "4836eec5b5833c14",
   "execution_count": 5
  },
  {
   "cell_type": "markdown",
   "source": [
    "### Wyświetlenie indeksu pierwszego elementu o danej wartości\n",
    "list.index()"
   ],
   "metadata": {
    "collapsed": false
   },
   "id": "5cc20a82c1005afb"
  },
  {
   "cell_type": "code",
   "outputs": [
    {
     "name": "stdout",
     "output_type": "stream",
     "text": [
      "Pierwsza \"2\" jest na pozycji 1\n"
     ]
    }
   ],
   "source": [
    "q = [1, 2, 3, 4, 3, 2, 1, 2, 3, 4]\n",
    "lookFor = 2\n",
    "print(f\"Pierwsza \\\"{lookFor}\\\" jest na pozycji {q.index(lookFor)}\")"
   ],
   "metadata": {
    "collapsed": false,
    "ExecuteTime": {
     "end_time": "2024-04-10T08:04:47.907244745Z",
     "start_time": "2024-04-10T08:04:47.879890170Z"
    }
   },
   "id": "c5267d8f632ae7b7",
   "execution_count": 6
  },
  {
   "cell_type": "markdown",
   "source": [
    "### Zliczenie ilości wystapień elementu o danej wartości\n",
    "list.count()"
   ],
   "metadata": {
    "collapsed": false
   },
   "id": "4fb1882c04aadb05"
  },
  {
   "cell_type": "code",
   "outputs": [
    {
     "name": "stdout",
     "output_type": "stream",
     "text": [
      "Ilość wystąpień \"3\" to 3\n"
     ]
    }
   ],
   "source": [
    "q = [1, 2, 3, 4, 3, 2, 1, 2, 3, 4]\n",
    "lookFor = 3\n",
    "print(f\"Ilość wystąpień \\\"{lookFor}\\\" to {q.count(lookFor)}\")"
   ],
   "metadata": {
    "collapsed": false,
    "ExecuteTime": {
     "end_time": "2024-04-10T08:04:47.976260383Z",
     "start_time": "2024-04-10T08:04:47.891001713Z"
    }
   },
   "id": "279712390da70690",
   "execution_count": 7
  },
  {
   "cell_type": "markdown",
   "source": [
    "### Sortowanie listy\n",
    "list.sort(reverse=True|False, key=myFunc)\n",
    "list.sort() - domyślnie sortuje elementy listy w porządku rosnącym"
   ],
   "metadata": {
    "collapsed": false
   },
   "id": "fb778e06ae0f11fd"
  },
  {
   "cell_type": "code",
   "outputs": [
    {
     "name": "stdout",
     "output_type": "stream",
     "text": [
      "q = [1, 2, 3, 4, 3, 2, 1, 2, 3, 4]\n",
      "q = [1, 1, 2, 2, 2, 3, 3, 3, 4, 4]\n"
     ]
    }
   ],
   "source": [
    "q = [1, 2, 3, 4, 3, 2, 1, 2, 3, 4]\n",
    "print(f\"q = {q}\")\n",
    "q.sort()\n",
    "print(f\"q = {q}\")"
   ],
   "metadata": {
    "collapsed": false,
    "ExecuteTime": {
     "end_time": "2024-04-10T08:04:47.977745738Z",
     "start_time": "2024-04-10T08:04:47.907675557Z"
    }
   },
   "id": "b1845fb7bb4b4bc2",
   "execution_count": 8
  },
  {
   "cell_type": "markdown",
   "source": [
    "list.sort(reverse=True) - sortowanie w porządku odwrotnym"
   ],
   "metadata": {
    "collapsed": false
   },
   "id": "7c5325364efca1c2"
  },
  {
   "cell_type": "code",
   "outputs": [
    {
     "name": "stdout",
     "output_type": "stream",
     "text": [
      "q = [1, 2, 3, 4, 3, 2, 1, 2, 3, 4]\n",
      "q = [4, 4, 3, 3, 3, 2, 2, 2, 1, 1]\n"
     ]
    }
   ],
   "source": [
    "q = [1, 2, 3, 4, 3, 2, 1, 2, 3, 4]\n",
    "print(f\"q = {q}\")\n",
    "q.sort(reverse=True)\n",
    "print(f\"q = {q}\")"
   ],
   "metadata": {
    "collapsed": false,
    "ExecuteTime": {
     "end_time": "2024-04-10T08:04:47.978304480Z",
     "start_time": "2024-04-10T08:04:47.955561603Z"
    }
   },
   "id": "2e31855dcf1c3260",
   "execution_count": 9
  },
  {
   "cell_type": "markdown",
   "source": [
    "### Sortowanie z wykorzystaniem własnej funkcji\n",
    "list.sort(key=myFunc)"
   ],
   "metadata": {
    "collapsed": false
   },
   "id": "d3b2be53ef073e23"
  },
  {
   "cell_type": "markdown",
   "source": [],
   "metadata": {
    "collapsed": false
   },
   "id": "496bb19fac4f43e4"
  },
  {
   "cell_type": "code",
   "outputs": [
    {
     "name": "stdout",
     "output_type": "stream",
     "text": [
      "myStrings = ['f', 'ui', 'asd', 'wvsdt', 'aedgh', 'dfghhhdd', 'dfggdfgdhddg']\n"
     ]
    }
   ],
   "source": [
    "def myFunc(a):\n",
    "    return (len(a))\n",
    "\n",
    "\n",
    "myStrings = [\"wvsdt\", \"asd\", \"ui\", \"f\", \"aedgh\", \"dfghhhdd\", \"dfggdfgdhddg\"]\n",
    "myStrings.sort(key=myFunc)\n",
    "print(f\"myStrings = {myStrings}\")"
   ],
   "metadata": {
    "collapsed": false,
    "ExecuteTime": {
     "end_time": "2024-04-10T08:04:47.978774754Z",
     "start_time": "2024-04-10T08:04:47.955665904Z"
    }
   },
   "id": "1ab178cfe16283d7",
   "execution_count": 10
  },
  {
   "cell_type": "markdown",
   "source": [
    "list.sort(reverse=True, key=myFunc)"
   ],
   "metadata": {
    "collapsed": false
   },
   "id": "99066396db388793"
  },
  {
   "cell_type": "code",
   "outputs": [
    {
     "name": "stdout",
     "output_type": "stream",
     "text": [
      "myStrings = ['dfggdfgdhddg', 'dfghhhdd', 'wvsdt', 'aedgh', 'asd', 'ui', 'f']\n"
     ]
    }
   ],
   "source": [
    "def myFunc(a):\n",
    "    return (len(a))\n",
    "\n",
    "\n",
    "myStrings = [\"wvsdt\", \"asd\", \"ui\", \"f\", \"aedgh\", \"dfghhhdd\", \"dfggdfgdhddg\"]\n",
    "myStrings.sort(reverse=True, key=myFunc)\n",
    "print(f\"myStrings = {myStrings}\")"
   ],
   "metadata": {
    "collapsed": false,
    "ExecuteTime": {
     "end_time": "2024-04-10T08:04:47.979259409Z",
     "start_time": "2024-04-10T08:04:47.955732473Z"
    }
   },
   "id": "c1c8cf74953d5179",
   "execution_count": 11
  },
  {
   "cell_type": "markdown",
   "source": [
    "### Odwrócenie zawartości listy\n",
    "list.reverse()"
   ],
   "metadata": {
    "collapsed": false
   },
   "id": "def48389788aeb18"
  },
  {
   "cell_type": "code",
   "outputs": [
    {
     "name": "stdout",
     "output_type": "stream",
     "text": [
      "myStrings = ['dfggdfgdhddg', 'dfghhhdd', 'aedgh', 'f', 'ui', 'asd', 'wvsdt']\n"
     ]
    }
   ],
   "source": [
    "myStrings = [\"wvsdt\", \"asd\", \"ui\", \"f\", \"aedgh\", \"dfghhhdd\", \"dfggdfgdhddg\"]\n",
    "myStrings.reverse()\n",
    "print(f\"myStrings = {myStrings}\")"
   ],
   "metadata": {
    "collapsed": false,
    "ExecuteTime": {
     "end_time": "2024-04-10T08:04:47.979718190Z",
     "start_time": "2024-04-10T08:04:47.955786233Z"
    }
   },
   "id": "1b4c076f56268c39",
   "execution_count": 12
  },
  {
   "cell_type": "markdown",
   "source": [
    "### Kopiowanie listy\n",
    "list.copy()"
   ],
   "metadata": {
    "collapsed": false
   },
   "id": "be6e1ef84202e42c"
  },
  {
   "cell_type": "code",
   "outputs": [
    {
     "name": "stdout",
     "output_type": "stream",
     "text": [
      "myStrings = ['wvsdt', 'asd', 'ui', 'f', 'aedgh', 'dfghhhdd', 'dfggdfgdhddg']\n",
      "myOtherStrings = ['wvsdt', 'asd', 'ui', 'f', 'aedgh', 'dfghhhdd', 'dfggdfgdhddg']\n"
     ]
    }
   ],
   "source": [
    "myStrings = [\"wvsdt\", \"asd\", \"ui\", \"f\", \"aedgh\", \"dfghhhdd\", \"dfggdfgdhddg\"]\n",
    "print(f\"myStrings = {myStrings}\")\n",
    "myOtherStrings = myStrings.copy()\n",
    "print(f\"myOtherStrings = {myOtherStrings}\")"
   ],
   "metadata": {
    "collapsed": false,
    "ExecuteTime": {
     "end_time": "2024-04-10T08:04:48.066483534Z",
     "start_time": "2024-04-10T08:04:47.961529859Z"
    }
   },
   "id": "61d3b3cfe8d247d7",
   "execution_count": 13
  },
  {
   "cell_type": "markdown",
   "source": [
    "### Usuwanie zawartoścli listy\n",
    "list.clear()"
   ],
   "metadata": {
    "collapsed": false
   },
   "id": "cd85176f16d227a4"
  },
  {
   "cell_type": "code",
   "outputs": [
    {
     "name": "stdout",
     "output_type": "stream",
     "text": [
      "myStrings = ['wvsdt', 'asd', 'ui', 'f', 'aedgh', 'dfghhhdd', 'dfggdfgdhddg']\n",
      "myStrings = [] i jest typu <class 'list'>\n"
     ]
    }
   ],
   "source": [
    "myStrings = [\"wvsdt\", \"asd\", \"ui\", \"f\", \"aedgh\", \"dfghhhdd\", \"dfggdfgdhddg\"]\n",
    "print(f\"myStrings = {myStrings}\")\n",
    "myStrings.clear()\n",
    "print(f\"myStrings = {myStrings} i jest typu {type(myStrings)}\")"
   ],
   "metadata": {
    "collapsed": false,
    "ExecuteTime": {
     "end_time": "2024-04-10T08:04:48.088383830Z",
     "start_time": "2024-04-10T08:04:48.019598491Z"
    }
   },
   "id": "e3c5268d280bdbdd",
   "execution_count": 14
  },
  {
   "cell_type": "markdown",
   "source": [
    "### Rozszerzenie listy przez dodanie elementów innej listy\n",
    "list.extend()"
   ],
   "metadata": {
    "collapsed": false
   },
   "id": "fb9879f90fb55ce5"
  },
  {
   "cell_type": "code",
   "outputs": [
    {
     "name": "stdout",
     "output_type": "stream",
     "text": [
      "q = [1, 2, 3, 4, 3, 2, 1, 2, 3, 4, 'wvsdt', 'asd', 'ui', 'f', 'aedgh', 'dfghhhdd', 'dfggdfgdhddg']\n",
      "<class 'list'>\n",
      "<class 'int'>\n"
     ]
    }
   ],
   "source": [
    "q = [1, 2, 3, 4, 3, 2, 1, 2, 3, 4]\n",
    "myStrings = [\"wvsdt\", \"asd\", \"ui\", \"f\", \"aedgh\", \"dfghhhdd\", \"dfggdfgdhddg\"]\n",
    "q.extend(myStrings)\n",
    "print(f\"q = {q}\")\n",
    "print(type(q))\n",
    "print(type(q[3]))"
   ],
   "metadata": {
    "collapsed": false,
    "ExecuteTime": {
     "end_time": "2024-04-10T08:04:48.089202627Z",
     "start_time": "2024-04-10T08:04:48.019767759Z"
    }
   },
   "id": "4fcccfe8de09f010",
   "execution_count": 15
  },
  {
   "cell_type": "markdown",
   "source": [
    "Łączenie zawartości list można również wykonać operatorem +"
   ],
   "metadata": {
    "collapsed": false
   },
   "id": "aa484806f23d9be2"
  },
  {
   "cell_type": "code",
   "outputs": [
    {
     "name": "stdout",
     "output_type": "stream",
     "text": [
      "myStrings = ['wvsdt', 'asd', 'ui', 'f', 'aedgh', 'dfghhhdd', 'dfggdfgdhddg', 1, 2, 3, 4, 3, 2, 1, 2, 3, 4]\n"
     ]
    }
   ],
   "source": [
    "q = [1, 2, 3, 4, 3, 2, 1, 2, 3, 4]\n",
    "myStrings = [\"wvsdt\", \"asd\", \"ui\", \"f\", \"aedgh\", \"dfghhhdd\", \"dfggdfgdhddg\"]\n",
    "myStrings = myStrings + q\n",
    "print(f\"myStrings = {myStrings}\")\n",
    "#myStrings.sort()\n",
    "#operacja niewykonalna, powoduje rzucenie wyjątku\n",
    "#print(f\"Sorted myStrings = {myStrings}\")"
   ],
   "metadata": {
    "collapsed": false,
    "ExecuteTime": {
     "end_time": "2024-04-10T08:04:48.090103729Z",
     "start_time": "2024-04-10T08:04:48.019838058Z"
    }
   },
   "id": "d0d2b7acafe4fbfa",
   "execution_count": 16
  },
  {
   "cell_type": "markdown",
   "source": [],
   "metadata": {
    "collapsed": false
   },
   "id": "396e5513ccd3662"
  },
  {
   "cell_type": "markdown",
   "source": [
    "### Listy a operatory tablicowe\n",
    "W listach operatory tablicowe działają identycznie jak w łańcuchach znaków"
   ],
   "metadata": {
    "collapsed": false
   },
   "id": "8f57bc8e46037907"
  },
  {
   "cell_type": "code",
   "outputs": [
    {
     "name": "stdout",
     "output_type": "stream",
     "text": [
      "Reanult\n",
      "Hundai\n",
      "['Reanult', 'Dacia', 'Hundai', 'Honda']\n",
      "['Reanult', 'Dacia', 'Hundai', 'Honda']\n",
      "['Volvo', 'Toyota', 'Porshe']\n",
      "['Volvo', 'Toyota', 'Porshe', 'Reanult']\n",
      "['Volvo', 'Porshe', 'Dacia', 'Honda']\n",
      "['Reanult', 'Honda']\n",
      "['Porshe']\n"
     ]
    }
   ],
   "source": [
    "car = [\"Volvo\", \"Toyota\", \"Porshe\", \"Reanult\", \"Dacia\", \"Hundai\", \"Honda\"]\n",
    "print(car[3])\n",
    "print(car[-2])\n",
    "print(car[3:])\n",
    "print(car[3:7])\n",
    "print(car[:3])\n",
    "print(car[:-3])\n",
    "print(car[::2])\n",
    "print(car[3::3])\n",
    "print(car[2:-3:2])"
   ],
   "metadata": {
    "collapsed": false,
    "ExecuteTime": {
     "end_time": "2024-04-10T08:04:48.155264398Z",
     "start_time": "2024-04-10T08:04:48.070638447Z"
    }
   },
   "id": "c15d2da9cd10032e",
   "execution_count": 17
  },
  {
   "cell_type": "markdown",
   "source": [
    "### Wyszukiwanie określonego elementu w liście\n",
    "Wykorzystujemy operator in"
   ],
   "metadata": {
    "collapsed": false
   },
   "id": "3436eeb27174d66e"
  },
  {
   "cell_type": "code",
   "outputs": [
    {
     "name": "stdout",
     "output_type": "stream",
     "text": [
      "True\n",
      "False\n"
     ]
    }
   ],
   "source": [
    "car = [\"Volvo\", \"Toyota\", \"Porshe\", \"Reanult\", \"Dacia\", \"Hundai\", \"Honda\"]\n",
    "print(\"Honda\" in car)\n",
    "print(\"Chevrolet\" in car)"
   ],
   "metadata": {
    "collapsed": false,
    "ExecuteTime": {
     "end_time": "2024-04-10T08:04:48.159349146Z",
     "start_time": "2024-04-10T08:04:48.143675855Z"
    }
   },
   "id": "857a65906c4dcffb",
   "execution_count": 18
  },
  {
   "cell_type": "markdown",
   "source": [
    "### Wyświetlenie rozmiaru listy\n",
    "len(list)"
   ],
   "metadata": {
    "collapsed": false
   },
   "id": "c391500779778747"
  },
  {
   "cell_type": "code",
   "outputs": [
    {
     "name": "stdout",
     "output_type": "stream",
     "text": [
      "7\n",
      "10\n",
      "17\n"
     ]
    }
   ],
   "source": [
    "car = [\"Volvo\", \"Toyota\", \"Porshe\", \"Reanult\", \"Dacia\", \"Hundai\", \"Honda\"]\n",
    "q = [1, 2, 3, 4, 3, 2, 1, 2, 3, 4]\n",
    "print(len(car))\n",
    "print(len(q))\n",
    "print(len(car + q))"
   ],
   "metadata": {
    "collapsed": false,
    "ExecuteTime": {
     "end_time": "2024-04-10T08:04:48.209796600Z",
     "start_time": "2024-04-10T08:04:48.160915128Z"
    }
   },
   "id": "4c2a26fcb657ecf2",
   "execution_count": 19
  },
  {
   "cell_type": "markdown",
   "source": [
    "Mutowalność (modyﬁkowalność) elementów listy"
   ],
   "metadata": {
    "collapsed": false
   },
   "id": "4971702f98aa9954"
  },
  {
   "cell_type": "code",
   "outputs": [
    {
     "name": "stdout",
     "output_type": "stream",
     "text": [
      "car = ['olvo', 'Toyota', 'Porshe', 'Reanult', 'Dacia', 'Hundai', 'Honda', 'Ferrari', 'BMW', 'Ford']\n",
      "car = ['olvo', 'Toyota', 'Chevrolet', 'Reanult', 'Dacia', 'Hundai', 'Honda', 'Ferrari', 'BMW', 'Ford']\n",
      "car = ['olvo', 'Toyota', 'Chevrolet', 'Reanult', 'Dacia', 'Hundai', 'Honda', 'Ferrari', 'Seat', 'Ford']\n",
      "Samochód nr 3 to Reanult\n",
      "car = ['Chevrolet', 'Dacia', 'Ferrari', 'Ford', 'Honda', 'Hundai', 'Reanult', 'Seat', 'Toyota', 'olvo']\n",
      "Samochód nr 8 to Toyota\n"
     ]
    }
   ],
   "source": [
    "car = [\"olvo\", \"Toyota\", \"Porshe\", \"Reanult\", \"Dacia\", \"Hundai\", \"Honda\", \"Ferrari\", \"BMW\", \"Ford\"]\n",
    "print(f\"car = {car}\")\n",
    "car[2] = \"Chevrolet\"\n",
    "print(f\"car = {car}\")\n",
    "car[8] = \"Seat\"\n",
    "print(f\"car = {car}\")\n",
    "myId = 3\n",
    "print(f\"Samochód nr {myId} to {car[myId]}\")\n",
    "car.sort()\n",
    "print(f\"car = {car}\")\n",
    "myId = 8\n",
    "print(f\"Samochód nr {myId} to {car[myId]}\")"
   ],
   "metadata": {
    "collapsed": false,
    "ExecuteTime": {
     "end_time": "2024-04-10T08:05:36.360553363Z",
     "start_time": "2024-04-10T08:05:36.315583544Z"
    }
   },
   "id": "c54064718419127f",
   "execution_count": 21
  },
  {
   "cell_type": "code",
   "outputs": [],
   "source": [],
   "metadata": {
    "collapsed": false
   },
   "id": "bb10ad828eb4b8be"
  }
 ],
 "metadata": {
  "kernelspec": {
   "display_name": "Python 3",
   "language": "python",
   "name": "python3"
  },
  "language_info": {
   "codemirror_mode": {
    "name": "ipython",
    "version": 2
   },
   "file_extension": ".py",
   "mimetype": "text/x-python",
   "name": "python",
   "nbconvert_exporter": "python",
   "pygments_lexer": "ipython2",
   "version": "2.7.6"
  }
 },
 "nbformat": 4,
 "nbformat_minor": 5
}
