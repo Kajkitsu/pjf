{
 "cells": [
  {
   "cell_type": "markdown",
   "source": [
    "# Podstawowe informacje o języku Python\n",
    "\n",
    "Python powstał we wczesnych latach 90-tych w Centrum voor Wiskunde en Informatica w Amsterdamie a jego twórcą jest Guido van Rossum. Obecnie Python tworzy jeden z\n",
    "najprężniej rozwijających ekosystemów, ze względu na jego szerokie zastosowania:\n",
    "1. aplikacje desktopowych,\n",
    "2. aplikacje web,\n",
    "3. skrypty\n",
    "4. narzędzia\n",
    "5. rozwiązania data science\n",
    "6. machine learning.\n",
    "\n",
    "Wykład (cyt.):\n",
    "_Python jest językiem interpretowanym, co w stosunku do języków kompilowanych takich\n",
    "jak C, C++ czy Pascal z jednej strony przekłada się na większą łatwość modyﬁkacji\n",
    "gotowego programu, z drugiej na większą powolność działania. Rzeczywisty sposób\n",
    "wykonywania programu w Pythonie zbliżony jest do języka Java. Program źródłowy\n",
    "napisany w języku Python najpierw kompilowany jest do postaci pośredniej (byte-code),\n",
    "która następnie wykonywana jest przez Wirtualną Maszynę Pythona (PVM)._\n",
    "\n",
    "Python może być traktowany jako język interpretowany, jednak w większości przypadków\n",
    "jego środowisko uruchomieniowe jest podobne do środowiska Javy. Jego najważniejsza\n",
    "implementacja CPython w zasadzie oparta jest o maszynę wirtualną (materiał dodatkowy\n",
    "(https://leanpub.com/insidethepythonvirtualmachine/read)).\n",
    "\n",
    "Python (podobnie jak C++) jest językiem wieloparadygmatowym wspierającym:\n",
    "1. programowanie imperatywne (jak w C),\n",
    "2. obiektowe z zaawansowanym mechanizmem reﬂeksji (jak w Javie lub Go)\n",
    "3. programowanie funkcyjne."
   ],
   "metadata": {
    "collapsed": false
   },
   "id": "1d90da5e154abf81"
  },
  {
   "cell_type": "markdown",
   "source": [
    "Wersja środowiska:"
   ],
   "metadata": {
    "collapsed": false
   },
   "id": "72e045cbbf05e15a"
  },
  {
   "cell_type": "code",
   "outputs": [
    {
     "name": "stdout",
     "output_type": "stream",
     "text": [
      "3.10.12 (main, Nov 20 2023, 15:14:05) [GCC 11.4.0]\n"
     ]
    }
   ],
   "source": [
    "import sys\n",
    "print(sys.version)"
   ],
   "metadata": {
    "collapsed": false,
    "ExecuteTime": {
     "end_time": "2024-04-10T07:27:30.356828376Z",
     "start_time": "2024-04-10T07:27:30.321581256Z"
    }
   },
   "id": "358f4e3ff3f0efc5",
   "execution_count": 20
  },
  {
   "cell_type": "markdown",
   "source": [
    "### Typowanie dynamiczne\n",
    "Python, w przeciwieństwie do C, C++, Javy czy Go jest językiem dynamicznym, to znaczy, że typ zmiennej może być zmieniany w trakcie uruchamiania i zależy on od typu przypisanej wartości. Nie ma zatem klasycznej deklaracji zmiennych."
   ],
   "metadata": {
    "collapsed": false
   },
   "id": "c38cb8b3f3f8f972"
  },
  {
   "cell_type": "code",
   "outputs": [
    {
     "name": "stdout",
     "output_type": "stream",
     "text": [
      "<class 'int'>\n",
      "<class 'float'>\n",
      "<class 'bool'>\n",
      "<class 'str'>\n"
     ]
    }
   ],
   "source": [
    "a = 1\n",
    "print(type(a))\n",
    "a = 2.3\n",
    "print(type(a))\n",
    "a = True\n",
    "print(type(a))\n",
    "a = \"WAT\"\n",
    "print(type(a))"
   ],
   "metadata": {
    "collapsed": false,
    "ExecuteTime": {
     "end_time": "2024-04-10T07:27:30.414086706Z",
     "start_time": "2024-04-10T07:27:30.360264950Z"
    }
   },
   "id": "38e4d9ea14e017cb",
   "execution_count": 21
  },
  {
   "cell_type": "markdown",
   "source": [
    "Weryﬁkację, czy zmienna jest określonego typu możemy uzyskać z wykorzystaniem funkcji _isinstance()_"
   ],
   "metadata": {
    "collapsed": false
   },
   "id": "16cd3ab2315dc5ac"
  },
  {
   "cell_type": "code",
   "outputs": [
    {
     "name": "stdout",
     "output_type": "stream",
     "text": [
      "False\n",
      "True\n",
      "False\n",
      "False\n"
     ]
    }
   ],
   "source": [
    "a = 1.2\n",
    "print(isinstance(a, int))\n",
    "print(isinstance(a, float))\n",
    "print(isinstance(a, bool))\n",
    "print(isinstance(a, str))"
   ],
   "metadata": {
    "collapsed": false,
    "ExecuteTime": {
     "end_time": "2024-04-10T07:27:30.417520547Z",
     "start_time": "2024-04-10T07:27:30.414818522Z"
    }
   },
   "id": "9739d9f061a0fa7d",
   "execution_count": 22
  },
  {
   "cell_type": "markdown",
   "source": [
    "### Typy numeryczne w Pythonie:\n",
    "1. int - całkowitoliczbowy\n",
    "2. ﬂoat - zmiennoprzecinkowy\n",
    "3. complex - liczby zespolone"
   ],
   "metadata": {
    "collapsed": false
   },
   "id": "c3500f1586584ce7"
  },
  {
   "cell_type": "code",
   "outputs": [
    {
     "name": "stdout",
     "output_type": "stream",
     "text": [
      "<class 'int'>\n",
      "<class 'float'>\n",
      "<class 'complex'>\n"
     ]
    }
   ],
   "source": [
    "a = 2\n",
    "print(type(a))\n",
    "b = 3.14159\n",
    "print(type(b))\n",
    "c = 3.971 + 4.318j\n",
    "print(type(c))"
   ],
   "metadata": {
    "collapsed": false,
    "ExecuteTime": {
     "end_time": "2024-04-10T07:27:30.485062108Z",
     "start_time": "2024-04-10T07:27:30.418342544Z"
    }
   },
   "id": "90155fbc95ba30bd",
   "execution_count": 23
  },
  {
   "cell_type": "markdown",
   "source": [
    "### Działania na liczbach:\n",
    "• dodawanie (+)\n",
    "• odejmowanie (-)\n",
    "• mnożenie (*)\n",
    "• dzielenie zmiennoprzecinkowe (/)\n",
    "• dzielenie całkowitoliczbowe (//)\n",
    "• reszta z dzielnia załkowitoliczbowego (%)\n",
    "• potęgowanie (**)"
   ],
   "metadata": {
    "collapsed": false
   },
   "id": "e8e756ec914f63"
  },
  {
   "cell_type": "code",
   "outputs": [
    {
     "name": "stdout",
     "output_type": "stream",
     "text": [
      "20\n",
      "6\n",
      "91\n",
      "1.8571428571428572\n",
      "1\n",
      "6\n",
      "62748517\n",
      "1.5936631617923337e-08\n"
     ]
    }
   ],
   "source": [
    "a = 13\n",
    "b = 7\n",
    "print(a + b)\n",
    "print(a - b)\n",
    "print(a * b)\n",
    "print(a / b)\n",
    "print(a // b)\n",
    "print(a % b)\n",
    "print(a ** b)\n",
    "print(a ** (-1 * b))"
   ],
   "metadata": {
    "collapsed": false,
    "ExecuteTime": {
     "end_time": "2024-04-10T07:27:30.485689036Z",
     "start_time": "2024-04-10T07:27:30.435471735Z"
    }
   },
   "id": "6649f390002142e",
   "execution_count": 24
  },
  {
   "cell_type": "markdown",
   "source": [
    "Dzielenie (zmiennoprzecinkowe i całkowitoliczbowe) wykonywane jest zależnie od typów operandów użytych w danym działaniu"
   ],
   "metadata": {
    "collapsed": false
   },
   "id": "21065ec024e55a4b"
  },
  {
   "cell_type": "code",
   "outputs": [
    {
     "name": "stdout",
     "output_type": "stream",
     "text": [
      "2.0\n",
      "1.8571428571428572\n",
      "1\n"
     ]
    }
   ],
   "source": [
    "print(8/4)\n",
    "print(13/7)\n",
    "print(13//7)"
   ],
   "metadata": {
    "collapsed": false,
    "ExecuteTime": {
     "end_time": "2024-04-10T07:27:30.561674219Z",
     "start_time": "2024-04-10T07:27:30.475577323Z"
    }
   },
   "id": "9301706a9bb40d36",
   "execution_count": 25
  },
  {
   "cell_type": "markdown",
   "source": [
    "W Pythonie wykorzystane jest klasyczne wymuszenie kolejności działań przy wykorzystaniu nawiasów"
   ],
   "metadata": {
    "collapsed": false
   },
   "id": "a95f094a95cff947"
  },
  {
   "cell_type": "code",
   "outputs": [
    {
     "name": "stdout",
     "output_type": "stream",
     "text": [
      "6\n",
      "8\n"
     ]
    }
   ],
   "source": [
    "a = 2 + 2 * 2\n",
    "b = (2 + 2) * 2\n",
    "print(a)\n",
    "print(b)"
   ],
   "metadata": {
    "collapsed": false,
    "ExecuteTime": {
     "end_time": "2024-04-10T07:27:30.605978618Z",
     "start_time": "2024-04-10T07:27:30.489792041Z"
    }
   },
   "id": "cfe5e431827c161d",
   "execution_count": 26
  },
  {
   "cell_type": "markdown",
   "source": [
    "Ostatnim typem numerycznym jest typ Boolean, który jest typem logicznym a jednocześnie specjalnym typem numerycznym."
   ],
   "metadata": {
    "collapsed": false
   },
   "id": "d4a3c506e6b3c38"
  },
  {
   "cell_type": "code",
   "outputs": [
    {
     "name": "stdout",
     "output_type": "stream",
     "text": [
      "True\n",
      "<class 'bool'>\n",
      "False\n",
      "<class 'bool'>\n"
     ]
    }
   ],
   "source": [
    "a = True\n",
    "b = False\n",
    "print(a)\n",
    "print(type(a))\n",
    "print(b)\n",
    "print(type(b))"
   ],
   "metadata": {
    "collapsed": false,
    "ExecuteTime": {
     "end_time": "2024-04-10T07:27:30.636790093Z",
     "start_time": "2024-04-10T07:27:30.568623005Z"
    }
   },
   "id": "6e9ccec85962fd0d",
   "execution_count": 27
  },
  {
   "cell_type": "markdown",
   "source": [
    "### Operatory logiczne:\n",
    "• koniunkcja (and)\n",
    "• alternatywa (or)\n",
    "• negacja (not)"
   ],
   "metadata": {
    "collapsed": false
   },
   "id": "b575d78e33a9c552"
  },
  {
   "cell_type": "code",
   "outputs": [
    {
     "name": "stdout",
     "output_type": "stream",
     "text": [
      "False\n",
      "True\n",
      "True\n"
     ]
    }
   ],
   "source": [
    "print(True and False)\n",
    "print(True or False)\n",
    "print(not False)"
   ],
   "metadata": {
    "collapsed": false,
    "ExecuteTime": {
     "end_time": "2024-04-10T07:27:30.639245506Z",
     "start_time": "2024-04-10T07:27:30.637295982Z"
    }
   },
   "id": "d12d2b3c71f10db5",
   "execution_count": 28
  },
  {
   "cell_type": "markdown",
   "source": [
    "### Operatory porównania (zawsze zwracają wartości logiczne):\n",
    "• klasyczny operator równości (==),\n",
    "• zaprzeczenie równości (!=)\n",
    "• nierówności ostre (<, >)\n",
    "• nierówności nieostrych (<=, >=)"
   ],
   "metadata": {
    "collapsed": false
   },
   "id": "72c05caf1e1c814e"
  },
  {
   "cell_type": "code",
   "outputs": [
    {
     "name": "stdout",
     "output_type": "stream",
     "text": [
      "True\n",
      "False\n",
      "False\n",
      "True\n",
      "False\n",
      "True\n"
     ]
    }
   ],
   "source": [
    "print(3 == 3)\n",
    "print(3 != 3)\n",
    "print(5 < 3)\n",
    "print(5 > 3)\n",
    "print(5 <= 3)\n",
    "print(5 >= 5)"
   ],
   "metadata": {
    "collapsed": false,
    "ExecuteTime": {
     "end_time": "2024-04-10T07:27:30.654620940Z",
     "start_time": "2024-04-10T07:27:30.640250287Z"
    }
   },
   "id": "6044618c937e4fea",
   "execution_count": 29
  },
  {
   "cell_type": "markdown",
   "source": [
    "Sprawdzenie, czy wartość należy do przedziału można wykonać za pomocą operatorów porównania oraz operatorów logicznych"
   ],
   "metadata": {
    "collapsed": false
   },
   "id": "6e06546c2df4b8f6"
  },
  {
   "cell_type": "code",
   "outputs": [
    {
     "name": "stdout",
     "output_type": "stream",
     "text": [
      "True\n",
      "False\n"
     ]
    }
   ],
   "source": [
    "print(1<3 and 3<5)\n",
    "print(3<1 and 1<5)"
   ],
   "metadata": {
    "collapsed": false,
    "ExecuteTime": {
     "end_time": "2024-04-10T07:27:30.711093115Z",
     "start_time": "2024-04-10T07:27:30.654103321Z"
    }
   },
   "id": "1774f7e3eb437d42",
   "execution_count": 30
  },
  {
   "cell_type": "markdown",
   "source": [
    "lub z wykorzystaniem zapisu łańcuchowego"
   ],
   "metadata": {
    "collapsed": false
   },
   "id": "5e5cfe879f653e79"
  },
  {
   "cell_type": "code",
   "outputs": [
    {
     "name": "stdout",
     "output_type": "stream",
     "text": [
      "True\n",
      "False\n"
     ]
    }
   ],
   "source": [
    "print(1<3<5)\n",
    "print(3<1<5)"
   ],
   "metadata": {
    "collapsed": false,
    "ExecuteTime": {
     "end_time": "2024-04-10T07:27:30.711796012Z",
     "start_time": "2024-04-10T07:27:30.696074215Z"
    }
   },
   "id": "5f786b562d1ef7ea",
   "execution_count": 31
  },
  {
   "cell_type": "markdown",
   "source": [
    "Operator porównania (==) sprawdza czy zmienne zawierają referencję do tych samych wartości. Aby sprawdzić czy zmienne referują do tego samego obiektu używamy operatora _is_. Operatora is używamy również do sprawdzenia czy zmienna zawiera pustą referencję. Pusta referencja (odpowiednik null lub nullptr) to w Pythonie None."
   ],
   "metadata": {
    "collapsed": false
   },
   "id": "b9fde16a4142e98e"
  },
  {
   "cell_type": "code",
   "outputs": [
    {
     "name": "stdout",
     "output_type": "stream",
     "text": [
      "<class 'list'>\n",
      "True\n",
      "True\n",
      "False\n",
      "True\n",
      "True\n"
     ]
    }
   ],
   "source": [
    "a=[1,2,3,4]\n",
    "b=a\n",
    "print(type(a))\n",
    "print(a==b)\n",
    "print(b is a)\n",
    "b=[1,2,3,4]\n",
    "print(b is a) # ta sama wartość, ale inny obiekt\n",
    "print(b==a) # ta sama wartość, ale inny obiekt\n",
    "d=None\n",
    "print(d is None) # tylko w taki sposób sprawdzamy czy zmienna jest None"
   ],
   "metadata": {
    "collapsed": false,
    "ExecuteTime": {
     "end_time": "2024-04-10T07:27:30.712215252Z",
     "start_time": "2024-04-10T07:27:30.696444038Z"
    }
   },
   "id": "30551d8ed02da60a",
   "execution_count": 32
  }
 ],
 "metadata": {
  "kernelspec": {
   "display_name": "Python 3",
   "language": "python",
   "name": "python3"
  },
  "language_info": {
   "codemirror_mode": {
    "name": "ipython",
    "version": 2
   },
   "file_extension": ".py",
   "mimetype": "text/x-python",
   "name": "python",
   "nbconvert_exporter": "python",
   "pygments_lexer": "ipython2",
   "version": "2.7.6"
  }
 },
 "nbformat": 4,
 "nbformat_minor": 5
}
