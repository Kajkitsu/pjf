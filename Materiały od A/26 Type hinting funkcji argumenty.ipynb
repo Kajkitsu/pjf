{
 "cells": [
  {
   "cell_type": "markdown",
   "id": "cb411de8",
   "metadata": {},
   "source": [
    "# Type hinting funkcji, argumenty\n",
    "\n",
    "Omówienie różnych typów argumentów funkcji, użycie type hinting w Pythonie oraz zaawansowane techniki definiowania funkcji.\n"
   ]
  },
  {
   "cell_type": "markdown",
   "id": "bfe5f7db",
   "metadata": {},
   "source": [
    "## Różne typy argumentów funkcji"
   ]
  },
  {
   "cell_type": "code",
   "execution_count": 1,
   "id": "50cbfa68",
   "metadata": {
    "ExecuteTime": {
     "end_time": "2024-04-17T08:53:48.973778571Z",
     "start_time": "2024-04-17T08:53:48.972748569Z"
    }
   },
   "outputs": [
    {
     "name": "stdout",
     "output_type": "stream",
     "text": [
      "11\n",
      "11.2\n",
      "11.7\n",
      "12.8\n",
      "Alamakota\n",
      "[2, 5, 3, 7, 1]\n"
     ]
    }
   ],
   "source": [
    "def my_add(a, b):\n",
    "    return a + b\n",
    "\n",
    "print(my_add(3, 8))\n",
    "print(my_add(3, 8.2)) # int, float\n",
    "print(my_add(3.7, 8)) # float, int\n",
    "print(my_add(3.9, 8.9)) # float, float\n",
    "print(my_add(\"Ala\", \"makota\")) # string, string\n",
    "print(my_add([2, 5, 3], [7, 1])) # list, list\n",
    "# Note: Sets, dicts, tuples and mixing types like int, string are also demonstrated but commented out in the PDF\n"
   ]
  },
  {
   "cell_type": "markdown",
   "source": [
    "W niektórych z powyższych przykładów funkcja zadziałała i zwróciła wynik. Jest to związane\n",
    "z tym, że domyślnie funkcja zdefiniowana w Pythonie przyjmie argumenty oraz zwróci wartość\n",
    "dowolnego typu.\n",
    "Jedynym ograniczeniem w przypadku tej konkretnej funkcji było to, by typ lewego argumentu miał\n",
    "przeciążony operator + (o tym później).\n",
    "Co w sytuacji, gdy chcielibyśmy uzyskać podpowiedź jakiego typu argumentu należy użyć wywołu-\n",
    "jąc funkcję? Python umożliwia uzyskanie takiego efektu udostępniając mechanizm tzw. type-\n",
    "hintingu.\n",
    "Typehinting jest cechą języków dynamicznych (takich jak Python) i jednocześnie silnie typowanych\n",
    "i pozwala na określenie jakiego typu argumentu oraz wyniku spodziewamy się. Zmodyfikujmy\n",
    "funkcję add tak, aby przyjmowała liczby całkowite i zwracała wynik w postaci liczby całkowitej."
   ],
   "metadata": {
    "collapsed": false
   },
   "id": "4e1e0483f7679724"
  },
  {
   "cell_type": "markdown",
   "id": "bb150595",
   "metadata": {},
   "source": [
    "## Type hinting\n",
    "Typehinting działa wyłącznie na zasadzie podpowiedzi dla programisty. Można zastosować bardziej\n",
    "zaawansowane sprawdzanie typów ale wymaga to użycia dodatkowego narzędzia np. lintera albo\n",
    "http://mypy-lang.org/."
   ]
  },
  {
   "cell_type": "code",
   "execution_count": 2,
   "id": "6791b88c",
   "metadata": {
    "ExecuteTime": {
     "end_time": "2024-04-17T08:53:48.976923601Z",
     "start_time": "2024-04-17T08:53:48.973361003Z"
    }
   },
   "outputs": [
    {
     "name": "stdout",
     "output_type": "stream",
     "text": [
      "5\n"
     ]
    }
   ],
   "source": [
    "from __future__ import annotations\n",
    "import typing\n",
    "def add(a: typing.Union[int, str], b: int | str) -> int | str:\n",
    "    return a + b\n",
    "\n",
    "result = add(3, 2)\n",
    "print(result)\n",
    "# Type hinting is described as a suggestion mechanism for the programmer, with further validation possible through external tools.\n"
   ]
  },
  {
   "cell_type": "markdown",
   "id": "e31c0f9e",
   "metadata": {},
   "source": [
    "## Argumenty domyślne\n",
    "Podobnie jak w C/C++ funkcja może pozwalać na pominięcie pewnych argumentów, wstawiając\n",
    "w ich miejsce podstawienie domyślne. Argument, który ma zdefiniowaną domyślną wartość oraz\n",
    "można pominąć go przy wywołaniu nazwiemy argumentem domyślnym. Argumenty domyslne\n",
    "muszą być zdefiniowane na końcu"
   ]
  },
  {
   "cell_type": "code",
   "execution_count": 3,
   "id": "a7e1e819",
   "metadata": {
    "ExecuteTime": {
     "end_time": "2024-04-17T08:53:48.977194427Z",
     "start_time": "2024-04-17T08:53:48.973449263Z"
    }
   },
   "outputs": [
    {
     "name": "stdout",
     "output_type": "stream",
     "text": [
      "64\n",
      "59049\n"
     ]
    }
   ],
   "source": [
    "def powerOfSum(a, b, c=2):\n",
    "    return (a+b)**c\n",
    "\n",
    "print(powerOfSum(3, 5))\n",
    "print(powerOfSum(a=4, b=5, c=5))\n"
   ]
  },
  {
   "cell_type": "markdown",
   "source": [
    "Powyżej, klasyczne wywołanie z pominięciem argumentu daje wynik, który odpowiada wynikowi\n",
    "z domyslną wartością argumentu c=2. Nic nie stoi na przeszkodzie jednak by wpisać wszystkie\n",
    "argumenty, nawet w postaci argumentów nazwanych"
   ],
   "metadata": {
    "collapsed": false
   },
   "id": "acdddfca8a0cb718"
  },
  {
   "cell_type": "markdown",
   "id": "4b555e73",
   "metadata": {},
   "source": [
    "## Funkcje przyjmujące listę argumentów\n",
    "\n",
    "Python podobnie jak C czy C++ pozwala na zdefiniowanie funkcji, która może przyjmować listę\n",
    "argumentów. W C++ klasycznym przykładem była funkcja main przyjmująca dwa argumenty -\n",
    "liczba parametrów oraz ich lista.\n",
    "W Pythonie taką samą funkcjonalność uzyskać można w znacznie prostszy sposób. W zależności\n",
    "od tego, czy chcemy by funkcja przyjmowała listę argumentów pozycyjnych, czy argumentów\n",
    "nazwanych używamy konstrukcji z pojedynczym lub podwójnym symbolem gwiazdki (*). Poniżej\n",
    "przykład funkcji przyjmującej wyłącznie argumenty pozycyjne:"
   ]
  },
  {
   "cell_type": "code",
   "execution_count": 4,
   "id": "c1fbfdc0",
   "metadata": {
    "ExecuteTime": {
     "end_time": "2024-04-17T08:53:48.990986155Z",
     "start_time": "2024-04-17T08:53:48.973550225Z"
    }
   },
   "outputs": [
    {
     "name": "stdout",
     "output_type": "stream",
     "text": [
      "(1, 2, 3, 4, 5, 6, 7, 8, 9, 10, 'abcxyz')\n",
      "<class 'tuple'>\n",
      "None\n",
      "55\n"
     ]
    }
   ],
   "source": [
    "def f(*args):\n",
    "    print(args)\n",
    "    print(type(args))\n",
    "\n",
    "def g(*args):\n",
    "    return sum(args)\n",
    "    \n",
    "print(f(1,2,3,4,5,6,7,8,9,10,\"abcxyz\"))\n",
    "print(g(1,2,3,4,5,6,7,8,9,10))"
   ]
  },
  {
   "cell_type": "markdown",
   "source": [
    "To, co kryje się pod *args to zwykła krotka. Dostęp do poszczególnych argumentów uzyskujemy w\n",
    "identyczny sposób jak dostęp do elementów krotki. Możemy również potraktować listę argumentów\n",
    "tak jak iterable i wykonywać na niej operacje."
   ],
   "metadata": {
    "collapsed": false
   },
   "id": "92a1ac56d320a688"
  },
  {
   "cell_type": "code",
   "outputs": [
    {
     "name": "stdout",
     "output_type": "stream",
     "text": [
      "1, 2, 3, 4, 5, 6, 7, 8, 9, 10, abcxyz, "
     ]
    }
   ],
   "source": [
    "def f(*args):\n",
    "    for i in args:\n",
    "        print(i, end = \", \")\n",
    "f(1,2,3,4,5,6,7,8,9,10,\"abcxyz\")"
   ],
   "metadata": {
    "collapsed": false,
    "ExecuteTime": {
     "end_time": "2024-04-17T08:53:49.046837807Z",
     "start_time": "2024-04-17T08:53:48.986925225Z"
    }
   },
   "id": "875cfd72cb27c60d",
   "execution_count": 5
  },
  {
   "cell_type": "markdown",
   "source": [
    "Funkcję, która przyjmie listę argumentów nazwanych definiujemy korzystając z **:"
   ],
   "metadata": {
    "collapsed": false
   },
   "id": "747e7f297a40ec56"
  },
  {
   "cell_type": "code",
   "outputs": [
    {
     "name": "stdout",
     "output_type": "stream",
     "text": [
      "{'a': 1, 'b': 3, 'c': 5, 'd': 7.3, 'e': 'abrakadabra', 'f': 'ethernet', 'g': 12.3, 'h': [2, 3, 4.4]}\n",
      "<class 'dict'>\n"
     ]
    }
   ],
   "source": [
    "def h(**kwargs):\n",
    "    print(kwargs)\n",
    "    print(type(kwargs))\n",
    "h(a=1,b=3,c=5,d=7.3,e=\"abrakadabra\",f=\"ethernet\",g=12.3,h=[2, 3, 4.4])"
   ],
   "metadata": {
    "collapsed": false,
    "ExecuteTime": {
     "end_time": "2024-04-17T08:53:49.047212716Z",
     "start_time": "2024-04-17T08:53:48.998380717Z"
    }
   },
   "id": "d270783b6722eaf7",
   "execution_count": 6
  }
 ],
 "metadata": {
  "kernelspec": {
   "name": "python3",
   "language": "python",
   "display_name": "Python 3 (ipykernel)"
  }
 },
 "nbformat": 4,
 "nbformat_minor": 5
}
